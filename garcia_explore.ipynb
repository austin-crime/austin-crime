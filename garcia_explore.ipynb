{
 "cells": [
  {
   "cell_type": "markdown",
   "id": "de0a770a-f031-4c46-bef0-6c9ebbdd13ba",
   "metadata": {},
   "source": [
    "# Exploratory Analysis\n",
    "\n",
    "This notebook contains decisions in the exploratory analysis process of the Austin crime project.\n",
    "\n",
    "## The Required Imports\n",
    "\n",
    "Here we'll import all the modules required to run the code cells in this notebook."
   ]
  },
  {
   "cell_type": "code",
   "execution_count": 90,
   "id": "94cdf291-699b-41d9-a897-cd7575bbc17a",
   "metadata": {},
   "outputs": [],
   "source": [
    "import pandas as pd\n",
    "import matplotlib.pyplot as plt\n",
    "import seaborn as sns\n",
    "\n",
    "from wrangle import wrangle_crime_data\n",
    "from prepare import split_data\n",
    "from explore import *"
   ]
  },
  {
   "cell_type": "markdown",
   "id": "09f0ae62-71a1-4ce3-8e4f-2573aab574cf",
   "metadata": {},
   "source": [
    "## Acquire and Prepare Data\n",
    "\n",
    "Here we'll acquire and prepare the data using the wrangle module."
   ]
  },
  {
   "cell_type": "code",
   "execution_count": 2,
   "id": "b230c7bc-1984-4b6e-91d8-6788d9f7e468",
   "metadata": {},
   "outputs": [
    {
     "name": "stdout",
     "output_type": "stream",
     "text": [
      "Using cached csv\n"
     ]
    },
    {
     "data": {
      "text/plain": [
       "(349530, 17)"
      ]
     },
     "execution_count": 2,
     "metadata": {},
     "output_type": "execute_result"
    }
   ],
   "source": [
    "df = wrangle_crime_data()\n",
    "df.shape"
   ]
  },
  {
   "cell_type": "markdown",
   "id": "883215af-6747-4ab5-bfb2-d25dde891328",
   "metadata": {},
   "source": [
    "## Split the Data\n",
    "\n",
    "Now we will need to split the data before we begin exploring because we will now begin exploring the relationship between the target variable and other features in the data."
   ]
  },
  {
   "cell_type": "code",
   "execution_count": 3,
   "id": "d3e6cd25-06b0-4567-9d2d-3175b3688610",
   "metadata": {},
   "outputs": [
    {
     "data": {
      "text/plain": [
       "((195736, 17), (83888, 17), (69906, 17))"
      ]
     },
     "execution_count": 3,
     "metadata": {},
     "output_type": "execute_result"
    }
   ],
   "source": [
    "train, validate, test = split_data(df)\n",
    "train.shape, validate.shape, test.shape"
   ]
  },
  {
   "cell_type": "markdown",
   "id": "379e45a1-8c0a-45eb-a973-b954b219650c",
   "metadata": {},
   "source": [
    "From here on we'll only use the train variable."
   ]
  },
  {
   "cell_type": "code",
   "execution_count": 4,
   "id": "2b0b47f7-1aa6-4282-8f55-e125eadbefa6",
   "metadata": {},
   "outputs": [
    {
     "name": "stdout",
     "output_type": "stream",
     "text": [
      "<class 'pandas.core.frame.DataFrame'>\n",
      "Int64Index: 195736 entries, 256829 to 125659\n",
      "Data columns (total 17 columns):\n",
      " #   Column            Non-Null Count   Dtype         \n",
      "---  ------            --------------   -----         \n",
      " 0   crime_type        195736 non-null  object        \n",
      " 1   family_violence   195736 non-null  object        \n",
      " 2   occurrence_time   195736 non-null  datetime64[ns]\n",
      " 3   occurrence_date   195736 non-null  datetime64[ns]\n",
      " 4   report_time       195736 non-null  datetime64[ns]\n",
      " 5   report_date       195736 non-null  datetime64[ns]\n",
      " 6   location_type     195736 non-null  object        \n",
      " 7   address           195736 non-null  object        \n",
      " 8   zip_code          195736 non-null  float64       \n",
      " 9   council_district  195736 non-null  float64       \n",
      " 10  sector            195736 non-null  object        \n",
      " 11  district          195736 non-null  object        \n",
      " 12  latitude          195736 non-null  float64       \n",
      " 13  longitude         195736 non-null  float64       \n",
      " 14  clearance_status  195736 non-null  object        \n",
      " 15  clearance_date    195736 non-null  datetime64[ns]\n",
      " 16  cleared           195736 non-null  bool          \n",
      "dtypes: bool(1), datetime64[ns](5), float64(4), object(7)\n",
      "memory usage: 25.6+ MB\n"
     ]
    }
   ],
   "source": [
    "train.info()"
   ]
  },
  {
   "cell_type": "markdown",
   "id": "295e7853-5f39-4941-b68f-286a1366ad92",
   "metadata": {},
   "source": [
    "## Does the difference between time of incident and report time relate to a crime being solved/closed?\n",
    "\n",
    "In this notebook we're going to explore the relationship between the clearance status of a case and the difference in time between when the incident occurred and when the incident was reported.\n",
    "\n",
    "### Engineer Time Difference Feature\n",
    "\n",
    "In order to answer this question we will need to create a feature which contains the difference in time between when a crime occurred and when it was reported."
   ]
  },
  {
   "cell_type": "code",
   "execution_count": 7,
   "id": "5c77d51a-d80c-4a7c-835c-5a858ccfb551",
   "metadata": {},
   "outputs": [
    {
     "data": {
      "text/plain": [
       "256829    2 days 19:26:00\n",
       "123369    0 days 21:19:00\n",
       "319089    1 days 03:10:00\n",
       "37631    16 days 22:47:00\n",
       "221040    0 days 16:17:00\n",
       "Name: time_to_report, dtype: timedelta64[ns]"
      ]
     },
     "execution_count": 7,
     "metadata": {},
     "output_type": "execute_result"
    }
   ],
   "source": [
    "train['time_to_report'] = train.report_time - train.occurrence_time\n",
    "train.time_to_report.head()"
   ]
  },
  {
   "cell_type": "markdown",
   "id": "ea4995a7-eee4-4da4-bf0c-2a8e217af814",
   "metadata": {},
   "source": [
    "Now we have the difference between the time when a crime was reported and when it occurred, but we may need to bin this column to help with exploration. There are a lot of unique values in here so in order to gain meaningful insights from this feature we will need to create bins.\n",
    "\n",
    "### Binning the Time to Report Column\n",
    "\n",
    "We'll need to create bins for our data to make exploration easier. We'll create 6 distinct bins: No difference in occurrence and report time, 1 minute - 1 hour, 1 hour - 6 hours, 6 hours - 1 day, 1 day - 1 week, and greater than 1 week."
   ]
  },
  {
   "cell_type": "code",
   "execution_count": 86,
   "id": "cfbc333a-e9c1-40a5-afdc-a1e396a3da70",
   "metadata": {},
   "outputs": [],
   "source": [
    "train['time_to_report_bins'] = pd.cut(\n",
    "    train.time_to_report,\n",
    "    [\n",
    "        pd.Timedelta('-1d'),\n",
    "        pd.Timedelta('59s'),\n",
    "        pd.Timedelta('59m'),\n",
    "        pd.Timedelta('6h'),\n",
    "        pd.Timedelta('1d'),\n",
    "        pd.Timedelta('7d'),\n",
    "        pd.Timedelta('10y')\n",
    "    ],\n",
    "    labels = [\n",
    "        'No difference',\n",
    "        '1 minute - 1 hour',\n",
    "        '1 hour - 6 hours',\n",
    "        '6 hours - 1 day',\n",
    "        '1 day - 1 week',\n",
    "        'Greater than 1 week'\n",
    "    ]\n",
    ")"
   ]
  },
  {
   "cell_type": "code",
   "execution_count": 87,
   "id": "0f3746b2-0923-4f18-b611-fc730e456ead",
   "metadata": {},
   "outputs": [
    {
     "data": {
      "text/plain": [
       "No difference          81774\n",
       "6 hours - 1 day        30133\n",
       "1 day - 1 week         28036\n",
       "1 hour - 6 hours       24249\n",
       "Greater than 1 week    16245\n",
       "1 minute - 1 hour      15327\n",
       "Name: time_to_report_bins, dtype: int64"
      ]
     },
     "execution_count": 87,
     "metadata": {},
     "output_type": "execute_result"
    }
   ],
   "source": [
    "train.time_to_report_bins.value_counts()"
   ]
  },
  {
   "cell_type": "markdown",
   "id": "4d475d45-490d-42ea-89f9-dbb12f8c35f4",
   "metadata": {},
   "source": [
    "### Visualize the Results"
   ]
  },
  {
   "cell_type": "code",
   "execution_count": 89,
   "id": "6caf1bb4-4786-491e-ac9f-e02c5901d8d0",
   "metadata": {},
   "outputs": [
    {
     "data": {
      "image/png": "[encoded data removed]",
      "text/plain": [
       "<Figure size 1008x288 with 1 Axes>"
      ]
     },
     "metadata": {
      "needs_background": "light"
     },
     "output_type": "display_data"
    }
   ],
   "source": [
    "plt.figure(figsize = (14, 4))\n",
    "\n",
    "sns.barplot(\n",
    "    data = train,\n",
    "    x = 'time_to_report_bins',\n",
    "    y = 'cleared',\n",
    "    ci = None\n",
    ")\n",
    "\n",
    "plt.xticks(rotation = 15)\n",
    "\n",
    "plt.xlabel('Time to report')\n",
    "plt.ylabel('Percentage of cases cleared')\n",
    "\n",
    "plt.title('The sooner a crime is reported the more likely it is to be solved.');"
   ]
  },
  {
   "cell_type": "markdown",
   "id": "1764e981-3fbd-4705-a662-f65153755c83",
   "metadata": {},
   "source": [
    "#### Takeaways\n",
    "\n",
    "From the visualization we can determine that the clearance status of a case does depend on the amount time between when the crime occurred and when it was reported. We can verify the significance of this finding with a statistical test.\n",
    "\n",
    "### Stats Test\n",
    "\n",
    "We'll be testing the following hypothesis:\n",
    "\n",
    "$H_0$: The clearance status of a case is independent of the difference in time between when a crime occurred and when it was reported.\n",
    "<br>\n",
    "$H_a$: The clearance status of a case is dependent on the difference in time between when a crime occurred and when it was reported."
   ]
  },
  {
   "cell_type": "code",
   "execution_count": 91,
   "id": "ae024072-1908-4021-a8a9-7804796d12d0",
   "metadata": {},
   "outputs": [
    {
     "name": "stdout",
     "output_type": "stream",
     "text": [
      "The chi2 value between the two variables is 25046.03220200103 and the P-Value is 0.0.\n",
      "----------------------------------------------------------------------------\n",
      "Since the P value is less than the alpha, we reject the null hypothesis.\n"
     ]
    }
   ],
   "source": [
    "chi2(train.time_to_report_bins, train.cleared)"
   ]
  },
  {
   "cell_type": "markdown",
   "id": "1e890f81-73c7-4955-b714-0ab5797b53c0",
   "metadata": {},
   "source": [
    "The results are that we reject the null hypothesis meaning that the clearance status of a case is dependent on the time to report the crime."
   ]
  },
  {
   "cell_type": "code",
   "execution_count": null,
   "id": "39c80e20-5691-4bd1-a79f-8fe864f4b927",
   "metadata": {},
   "outputs": [],
   "source": []
  }
 ],
 "metadata": {
  "kernelspec": {
   "display_name": "Python 3 (ipykernel)",
   "language": "python",
   "name": "python3"
  },
  "language_info": {
   "codemirror_mode": {
    "name": "ipython",
    "version": 3
   },
   "file_extension": ".py",
   "mimetype": "text/x-python",
   "name": "python",
   "nbconvert_exporter": "python",
   "pygments_lexer": "ipython3",
   "version": "3.9.7"
  }
 },
 "nbformat": 4,
 "nbformat_minor": 5
}
