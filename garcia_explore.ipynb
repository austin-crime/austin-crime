{
 "cells": [
  {
   "cell_type": "markdown",
   "id": "de0a770a-f031-4c46-bef0-6c9ebbdd13ba",
   "metadata": {},
   "source": [
    "# Exploratory Analysis\n",
    "\n",
    "This notebook contains decisions in the exploratory analysis process of the Austin crime project.\n",
    "\n",
    "## The Required Imports\n",
    "\n",
    "Here we'll import all the modules required to run the code cells in this notebook."
   ]
  },
  {
   "cell_type": "code",
   "execution_count": 1,
   "id": "94cdf291-699b-41d9-a897-cd7575bbc17a",
   "metadata": {},
   "outputs": [],
   "source": [
    "import pandas as pd\n",
    "import matplotlib.pyplot as plt\n",
    "import seaborn as sns\n",
    "\n",
    "from wrangle import wrangle_crime_data\n",
    "from prepare import split_data"
   ]
  },
  {
   "cell_type": "markdown",
   "id": "09f0ae62-71a1-4ce3-8e4f-2573aab574cf",
   "metadata": {},
   "source": [
    "## Acquire and Prepare Data\n",
    "\n",
    "Here we'll acquire and prepare the data using the wrangle module."
   ]
  },
  {
   "cell_type": "code",
   "execution_count": 2,
   "id": "b230c7bc-1984-4b6e-91d8-6788d9f7e468",
   "metadata": {},
   "outputs": [
    {
     "name": "stdout",
     "output_type": "stream",
     "text": [
      "Using cached csv\n"
     ]
    },
    {
     "data": {
      "text/plain": [
       "(349530, 17)"
      ]
     },
     "execution_count": 2,
     "metadata": {},
     "output_type": "execute_result"
    }
   ],
   "source": [
    "df = wrangle_crime_data()\n",
    "df.shape"
   ]
  },
  {
   "cell_type": "markdown",
   "id": "883215af-6747-4ab5-bfb2-d25dde891328",
   "metadata": {},
   "source": [
    "## Split the Data\n",
    "\n",
    "Now we will need to split the data before we begin exploring because we will now begin exploring the relationship between the target variable and other features in the data."
   ]
  },
  {
   "cell_type": "code",
   "execution_count": 3,
   "id": "d3e6cd25-06b0-4567-9d2d-3175b3688610",
   "metadata": {},
   "outputs": [
    {
     "data": {
      "text/plain": [
       "((195736, 17), (83888, 17), (69906, 17))"
      ]
     },
     "execution_count": 3,
     "metadata": {},
     "output_type": "execute_result"
    }
   ],
   "source": [
    "train, validate, test = split_data(df)\n",
    "train.shape, validate.shape, test.shape"
   ]
  },
  {
   "cell_type": "markdown",
   "id": "379e45a1-8c0a-45eb-a973-b954b219650c",
   "metadata": {},
   "source": [
    "From here on we'll only use the train variable."
   ]
  },
  {
   "cell_type": "code",
   "execution_count": 4,
   "id": "2b0b47f7-1aa6-4282-8f55-e125eadbefa6",
   "metadata": {},
   "outputs": [
    {
     "name": "stdout",
     "output_type": "stream",
     "text": [
      "<class 'pandas.core.frame.DataFrame'>\n",
      "Int64Index: 195736 entries, 256829 to 125659\n",
      "Data columns (total 17 columns):\n",
      " #   Column            Non-Null Count   Dtype         \n",
      "---  ------            --------------   -----         \n",
      " 0   crime_type        195736 non-null  object        \n",
      " 1   family_violence   195736 non-null  object        \n",
      " 2   occurrence_time   195736 non-null  datetime64[ns]\n",
      " 3   occurrence_date   195736 non-null  datetime64[ns]\n",
      " 4   report_time       195736 non-null  datetime64[ns]\n",
      " 5   report_date       195736 non-null  datetime64[ns]\n",
      " 6   location_type     195736 non-null  object        \n",
      " 7   address           195736 non-null  object        \n",
      " 8   zip_code          195736 non-null  float64       \n",
      " 9   council_district  195736 non-null  float64       \n",
      " 10  sector            195736 non-null  object        \n",
      " 11  district          195736 non-null  object        \n",
      " 12  latitude          195736 non-null  float64       \n",
      " 13  longitude         195736 non-null  float64       \n",
      " 14  clearance_status  195736 non-null  object        \n",
      " 15  clearance_date    195736 non-null  datetime64[ns]\n",
      " 16  cleared           195736 non-null  bool          \n",
      "dtypes: bool(1), datetime64[ns](5), float64(4), object(7)\n",
      "memory usage: 25.6+ MB\n"
     ]
    }
   ],
   "source": [
    "train.info()"
   ]
  },
  {
   "cell_type": "markdown",
   "id": "295e7853-5f39-4941-b68f-286a1366ad92",
   "metadata": {},
   "source": [
    "## Does the difference between time of incident and report time relate to a crime being solved/closed?\n",
    "\n",
    "In this notebook we're going to explore the relationship between the clearance status of a case and the difference in time between when the incident occurred and when the incident was reported.\n",
    "\n",
    "### Engineer Time Difference Feature\n",
    "\n",
    "In order to answer this question we will need to create a feature which contains the difference in time between when a crime occurred and when it was reported."
   ]
  },
  {
   "cell_type": "code",
   "execution_count": 7,
   "id": "5c77d51a-d80c-4a7c-835c-5a858ccfb551",
   "metadata": {},
   "outputs": [
    {
     "data": {
      "text/plain": [
       "256829    2 days 19:26:00\n",
       "123369    0 days 21:19:00\n",
       "319089    1 days 03:10:00\n",
       "37631    16 days 22:47:00\n",
       "221040    0 days 16:17:00\n",
       "Name: time_to_report, dtype: timedelta64[ns]"
      ]
     },
     "execution_count": 7,
     "metadata": {},
     "output_type": "execute_result"
    }
   ],
   "source": [
    "train['time_to_report'] = train.report_time - train.occurrence_time\n",
    "train.time_to_report.head()"
   ]
  },
  {
   "cell_type": "markdown",
   "id": "ea4995a7-eee4-4da4-bf0c-2a8e217af814",
   "metadata": {},
   "source": [
    "Now we have the difference between the time when a crime was reported and when it occurred, but we may need to bin this column to help with exploration. There are a lot of unique values in here so in order to gain meaningful insights from this feature we will need to create bins.\n",
    "\n",
    "We'll"
   ]
  },
  {
   "cell_type": "code",
   "execution_count": 23,
   "id": "7e67163e-7f5d-4313-a051-a51108d96b72",
   "metadata": {},
   "outputs": [
    {
     "data": {
      "text/plain": [
       "False    113865\n",
       "True      81871\n",
       "Name: time_to_report, dtype: int64"
      ]
     },
     "execution_count": 23,
     "metadata": {},
     "output_type": "execute_result"
    }
   ],
   "source": [
    "(train.time_to_report < pd.Timedelta('1m')).value_counts()"
   ]
  },
  {
   "cell_type": "code",
   "execution_count": 27,
   "id": "4c8a57f6-4188-46d5-9814-c8d52aa4ccf4",
   "metadata": {},
   "outputs": [
    {
     "data": {
      "text/html": [
       "<div>\n",
       "<style scoped>\n",
       "    .dataframe tbody tr th:only-of-type {\n",
       "        vertical-align: middle;\n",
       "    }\n",
       "\n",
       "    .dataframe tbody tr th {\n",
       "        vertical-align: top;\n",
       "    }\n",
       "\n",
       "    .dataframe thead th {\n",
       "        text-align: right;\n",
       "    }\n",
       "</style>\n",
       "<table border=\"1\" class=\"dataframe\">\n",
       "  <thead>\n",
       "    <tr style=\"text-align: right;\">\n",
       "      <th></th>\n",
       "      <th>time_to_report</th>\n",
       "      <th>occurrence_time</th>\n",
       "      <th>report_time</th>\n",
       "    </tr>\n",
       "  </thead>\n",
       "  <tbody>\n",
       "    <tr>\n",
       "      <th>256829</th>\n",
       "      <td>2 days 19:26:00</td>\n",
       "      <td>2019-09-20 17:00:00</td>\n",
       "      <td>2019-09-23 12:26:00</td>\n",
       "    </tr>\n",
       "    <tr>\n",
       "      <th>123369</th>\n",
       "      <td>0 days 21:19:00</td>\n",
       "      <td>2021-01-10 14:00:00</td>\n",
       "      <td>2021-01-11 11:19:00</td>\n",
       "    </tr>\n",
       "    <tr>\n",
       "      <th>319089</th>\n",
       "      <td>1 days 03:10:00</td>\n",
       "      <td>2019-02-20 13:00:00</td>\n",
       "      <td>2019-02-21 16:10:00</td>\n",
       "    </tr>\n",
       "    <tr>\n",
       "      <th>37631</th>\n",
       "      <td>16 days 22:47:00</td>\n",
       "      <td>2021-12-11 12:00:00</td>\n",
       "      <td>2021-12-28 10:47:00</td>\n",
       "    </tr>\n",
       "    <tr>\n",
       "      <th>221040</th>\n",
       "      <td>0 days 16:17:00</td>\n",
       "      <td>2020-01-21 16:00:00</td>\n",
       "      <td>2020-01-22 08:17:00</td>\n",
       "    </tr>\n",
       "    <tr>\n",
       "      <th>...</th>\n",
       "      <td>...</td>\n",
       "      <td>...</td>\n",
       "      <td>...</td>\n",
       "    </tr>\n",
       "    <tr>\n",
       "      <th>142843</th>\n",
       "      <td>0 days 12:18:00</td>\n",
       "      <td>2020-11-01 02:15:00</td>\n",
       "      <td>2020-11-01 14:33:00</td>\n",
       "    </tr>\n",
       "    <tr>\n",
       "      <th>126993</th>\n",
       "      <td>0 days 22:14:00</td>\n",
       "      <td>2020-12-27 10:45:00</td>\n",
       "      <td>2020-12-28 08:59:00</td>\n",
       "    </tr>\n",
       "    <tr>\n",
       "      <th>296143</th>\n",
       "      <td>0 days 03:34:00</td>\n",
       "      <td>2019-05-12 02:20:00</td>\n",
       "      <td>2019-05-12 05:54:00</td>\n",
       "    </tr>\n",
       "    <tr>\n",
       "      <th>319723</th>\n",
       "      <td>0 days 03:42:00</td>\n",
       "      <td>2019-02-18 00:19:00</td>\n",
       "      <td>2019-02-18 04:01:00</td>\n",
       "    </tr>\n",
       "    <tr>\n",
       "      <th>125659</th>\n",
       "      <td>333 days 00:55:00</td>\n",
       "      <td>2021-01-01 12:00:00</td>\n",
       "      <td>2021-11-30 12:55:00</td>\n",
       "    </tr>\n",
       "  </tbody>\n",
       "</table>\n",
       "<p>113034 rows × 3 columns</p>\n",
       "</div>"
      ],
      "text/plain": [
       "          time_to_report     occurrence_time         report_time\n",
       "256829   2 days 19:26:00 2019-09-20 17:00:00 2019-09-23 12:26:00\n",
       "123369   0 days 21:19:00 2021-01-10 14:00:00 2021-01-11 11:19:00\n",
       "319089   1 days 03:10:00 2019-02-20 13:00:00 2019-02-21 16:10:00\n",
       "37631   16 days 22:47:00 2021-12-11 12:00:00 2021-12-28 10:47:00\n",
       "221040   0 days 16:17:00 2020-01-21 16:00:00 2020-01-22 08:17:00\n",
       "...                  ...                 ...                 ...\n",
       "142843   0 days 12:18:00 2020-11-01 02:15:00 2020-11-01 14:33:00\n",
       "126993   0 days 22:14:00 2020-12-27 10:45:00 2020-12-28 08:59:00\n",
       "296143   0 days 03:34:00 2019-05-12 02:20:00 2019-05-12 05:54:00\n",
       "319723   0 days 03:42:00 2019-02-18 00:19:00 2019-02-18 04:01:00\n",
       "125659 333 days 00:55:00 2021-01-01 12:00:00 2021-11-30 12:55:00\n",
       "\n",
       "[113034 rows x 3 columns]"
      ]
     },
     "execution_count": 27,
     "metadata": {},
     "output_type": "execute_result"
    }
   ],
   "source": [
    "train[train.time_to_report > pd.Timedelta('1m')][['time_to_report', 'occurrence_time', 'report_time']]"
   ]
  },
  {
   "cell_type": "code",
   "execution_count": 26,
   "id": "6e242a01-2408-471d-93f7-d29ba0f32964",
   "metadata": {},
   "outputs": [
    {
     "data": {
      "text/plain": [
       "0.41827257121837574"
      ]
     },
     "execution_count": 26,
     "metadata": {},
     "output_type": "execute_result"
    }
   ],
   "source": [
    "81871 / 195736"
   ]
  },
  {
   "cell_type": "code",
   "execution_count": null,
   "id": "63014cf5-d17f-4da6-8523-457f96ca766e",
   "metadata": {},
   "outputs": [],
   "source": []
  }
 ],
 "metadata": {
  "kernelspec": {
   "display_name": "Python 3 (ipykernel)",
   "language": "python",
   "name": "python3"
  },
  "language_info": {
   "codemirror_mode": {
    "name": "ipython",
    "version": 3
   },
   "file_extension": ".py",
   "mimetype": "text/x-python",
   "name": "python",
   "nbconvert_exporter": "python",
   "pygments_lexer": "ipython3",
   "version": "3.9.7"
  }
 },
 "nbformat": 4,
 "nbformat_minor": 5
}
