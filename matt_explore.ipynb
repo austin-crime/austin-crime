{
 "cells": [
  {
   "cell_type": "code",
   "execution_count": 1,
   "id": "62462df5-2b04-4014-a6e8-69394a81f0f0",
   "metadata": {},
   "outputs": [],
   "source": [
    "import pandas as pd\n",
    "import os\n",
    "from sodapy import Socrata\n",
    "import geopandas as gpd\n",
    "import matplotlib.pyplot as plt\n",
    "import seaborn as sns\n",
    "import acquire\n",
    "import prepare\n",
    "import explore\n",
    "import wrangle\n",
    "\n",
    "pd.set_option('display.max_column', None)"
   ]
  },
  {
   "cell_type": "markdown",
   "id": "7b788a14-f445-4295-a796-ba9e0d6db312",
   "metadata": {},
   "source": [
    "# Acquire and Prepare the Dta\n",
    "We'll use the wrangle module to acquire and prepare the data in one step"
   ]
  },
  {
   "cell_type": "code",
   "execution_count": 2,
   "id": "03ddd225-05e0-4b49-bea7-f3ce70fad6a8",
   "metadata": {},
   "outputs": [
    {
     "name": "stdout",
     "output_type": "stream",
     "text": [
      "Using cached csv\n"
     ]
    }
   ],
   "source": [
    "df = wrangle.wrangle_crime_data()"
   ]
  },
  {
   "cell_type": "code",
   "execution_count": 3,
   "id": "1a8b1600-24d3-4f1e-9351-5e9b5e00150f",
   "metadata": {},
   "outputs": [
    {
     "name": "stdout",
     "output_type": "stream",
     "text": [
      "(349581, 17)\n"
     ]
    },
    {
     "data": {
      "text/html": [
       "<div>\n",
       "<style scoped>\n",
       "    .dataframe tbody tr th:only-of-type {\n",
       "        vertical-align: middle;\n",
       "    }\n",
       "\n",
       "    .dataframe tbody tr th {\n",
       "        vertical-align: top;\n",
       "    }\n",
       "\n",
       "    .dataframe thead th {\n",
       "        text-align: right;\n",
       "    }\n",
       "</style>\n",
       "<table border=\"1\" class=\"dataframe\">\n",
       "  <thead>\n",
       "    <tr style=\"text-align: right;\">\n",
       "      <th></th>\n",
       "      <th>crime_type</th>\n",
       "      <th>family_violence</th>\n",
       "      <th>occurence_date</th>\n",
       "      <th>occurence_time</th>\n",
       "      <th>report_date</th>\n",
       "      <th>report_time</th>\n",
       "      <th>location_type</th>\n",
       "      <th>address</th>\n",
       "      <th>zip_code</th>\n",
       "      <th>council_district</th>\n",
       "      <th>sector</th>\n",
       "      <th>district</th>\n",
       "      <th>latitude</th>\n",
       "      <th>longitude</th>\n",
       "      <th>clearance_status</th>\n",
       "      <th>clearance_date</th>\n",
       "      <th>cleared</th>\n",
       "    </tr>\n",
       "  </thead>\n",
       "  <tbody>\n",
       "    <tr>\n",
       "      <th>34573</th>\n",
       "      <td>ASSAULT ON PUBLIC SERVANT</td>\n",
       "      <td>N</td>\n",
       "      <td>2021-12-31</td>\n",
       "      <td>23:50</td>\n",
       "      <td>2021-12-31</td>\n",
       "      <td>23:50</td>\n",
       "      <td>COMMERCIAL / OFFICE BUILDING</td>\n",
       "      <td>111 CONGRESS AVE</td>\n",
       "      <td>78701.0</td>\n",
       "      <td>9.0</td>\n",
       "      <td>GE</td>\n",
       "      <td>3</td>\n",
       "      <td>30.263739</td>\n",
       "      <td>-97.743651</td>\n",
       "      <td>cleared by arrest</td>\n",
       "      <td>2022-01-03</td>\n",
       "      <td>True</td>\n",
       "    </tr>\n",
       "    <tr>\n",
       "      <th>34574</th>\n",
       "      <td>THEFT</td>\n",
       "      <td>N</td>\n",
       "      <td>2021-12-31</td>\n",
       "      <td>23:50</td>\n",
       "      <td>2022-01-07</td>\n",
       "      <td>14:12</td>\n",
       "      <td>OTHER / UNKNOWN</td>\n",
       "      <td>6936 E BEN WHITE BLVD SVRD WB</td>\n",
       "      <td>78741.0</td>\n",
       "      <td>3.0</td>\n",
       "      <td>HE</td>\n",
       "      <td>5</td>\n",
       "      <td>30.215264</td>\n",
       "      <td>-97.703019</td>\n",
       "      <td>not cleared</td>\n",
       "      <td>2022-01-10</td>\n",
       "      <td>False</td>\n",
       "    </tr>\n",
       "    <tr>\n",
       "      <th>34575</th>\n",
       "      <td>PUBLIC INTOXICATION</td>\n",
       "      <td>N</td>\n",
       "      <td>2021-12-31</td>\n",
       "      <td>23:50</td>\n",
       "      <td>2021-12-31</td>\n",
       "      <td>23:50</td>\n",
       "      <td>HWY / ROAD / ALLEY/ STREET/ SIDEWALK</td>\n",
       "      <td>406 E 6TH ST</td>\n",
       "      <td>78701.0</td>\n",
       "      <td>9.0</td>\n",
       "      <td>GE</td>\n",
       "      <td>2</td>\n",
       "      <td>30.267300</td>\n",
       "      <td>-97.738857</td>\n",
       "      <td>cleared by arrest</td>\n",
       "      <td>2021-12-31</td>\n",
       "      <td>True</td>\n",
       "    </tr>\n",
       "    <tr>\n",
       "      <th>34576</th>\n",
       "      <td>DOC DISCHARGE GUN - PUB PLACE</td>\n",
       "      <td>N</td>\n",
       "      <td>2021-12-31</td>\n",
       "      <td>23:47</td>\n",
       "      <td>2021-12-31</td>\n",
       "      <td>23:47</td>\n",
       "      <td>RESIDENCE / HOME</td>\n",
       "      <td>1202 E ST JOHNS AVE</td>\n",
       "      <td>78752.0</td>\n",
       "      <td>4.0</td>\n",
       "      <td>ID</td>\n",
       "      <td>1</td>\n",
       "      <td>30.328049</td>\n",
       "      <td>-97.693683</td>\n",
       "      <td>not cleared</td>\n",
       "      <td>2022-01-05</td>\n",
       "      <td>False</td>\n",
       "    </tr>\n",
       "    <tr>\n",
       "      <th>34577</th>\n",
       "      <td>AGG ASLT STRANGLE/SUFFOCATE</td>\n",
       "      <td>Y</td>\n",
       "      <td>2021-12-31</td>\n",
       "      <td>23:40</td>\n",
       "      <td>2022-01-01</td>\n",
       "      <td>00:44</td>\n",
       "      <td>RESIDENCE / HOME</td>\n",
       "      <td>10000 N LAMAR BLVD</td>\n",
       "      <td>78758.0</td>\n",
       "      <td>4.0</td>\n",
       "      <td>ED</td>\n",
       "      <td>1</td>\n",
       "      <td>30.369262</td>\n",
       "      <td>-97.695105</td>\n",
       "      <td>not cleared</td>\n",
       "      <td>2022-01-05</td>\n",
       "      <td>False</td>\n",
       "    </tr>\n",
       "  </tbody>\n",
       "</table>\n",
       "</div>"
      ],
      "text/plain": [
       "                          crime_type family_violence occurence_date  \\\n",
       "34573      ASSAULT ON PUBLIC SERVANT               N     2021-12-31   \n",
       "34574                          THEFT               N     2021-12-31   \n",
       "34575            PUBLIC INTOXICATION               N     2021-12-31   \n",
       "34576  DOC DISCHARGE GUN - PUB PLACE               N     2021-12-31   \n",
       "34577    AGG ASLT STRANGLE/SUFFOCATE               Y     2021-12-31   \n",
       "\n",
       "      occurence_time report_date report_time  \\\n",
       "34573          23:50  2021-12-31       23:50   \n",
       "34574          23:50  2022-01-07       14:12   \n",
       "34575          23:50  2021-12-31       23:50   \n",
       "34576          23:47  2021-12-31       23:47   \n",
       "34577          23:40  2022-01-01       00:44   \n",
       "\n",
       "                              location_type                        address  \\\n",
       "34573          COMMERCIAL / OFFICE BUILDING               111 CONGRESS AVE   \n",
       "34574                       OTHER / UNKNOWN  6936 E BEN WHITE BLVD SVRD WB   \n",
       "34575  HWY / ROAD / ALLEY/ STREET/ SIDEWALK                   406 E 6TH ST   \n",
       "34576                      RESIDENCE / HOME            1202 E ST JOHNS AVE   \n",
       "34577                      RESIDENCE / HOME             10000 N LAMAR BLVD   \n",
       "\n",
       "       zip_code  council_district sector district   latitude  longitude  \\\n",
       "34573   78701.0               9.0     GE        3  30.263739 -97.743651   \n",
       "34574   78741.0               3.0     HE        5  30.215264 -97.703019   \n",
       "34575   78701.0               9.0     GE        2  30.267300 -97.738857   \n",
       "34576   78752.0               4.0     ID        1  30.328049 -97.693683   \n",
       "34577   78758.0               4.0     ED        1  30.369262 -97.695105   \n",
       "\n",
       "        clearance_status clearance_date  cleared  \n",
       "34573  cleared by arrest     2022-01-03     True  \n",
       "34574        not cleared     2022-01-10    False  \n",
       "34575  cleared by arrest     2021-12-31     True  \n",
       "34576        not cleared     2022-01-05    False  \n",
       "34577        not cleared     2022-01-05    False  "
      ]
     },
     "execution_count": 3,
     "metadata": {},
     "output_type": "execute_result"
    }
   ],
   "source": [
    "print(df.shape)\n",
    "df.head()"
   ]
  },
  {
   "cell_type": "markdown",
   "id": "54e1eb01-5eb0-4e16-9965-880010de70e7",
   "metadata": {},
   "source": [
    "# Explore the Distributions of the Data"
   ]
  },
  {
   "cell_type": "code",
   "execution_count": 4,
   "id": "34f0da21-ad21-4897-8783-91f7e3e3b9d5",
   "metadata": {},
   "outputs": [
    {
     "name": "stdout",
     "output_type": "stream",
     "text": [
      "<class 'pandas.core.frame.DataFrame'>\n",
      "Int64Index: 349581 entries, 34573 to 436548\n",
      "Data columns (total 17 columns):\n",
      " #   Column            Non-Null Count   Dtype         \n",
      "---  ------            --------------   -----         \n",
      " 0   crime_type        349581 non-null  object        \n",
      " 1   family_violence   349581 non-null  object        \n",
      " 2   occurence_date    349581 non-null  datetime64[ns]\n",
      " 3   occurence_time    349581 non-null  object        \n",
      " 4   report_date       349581 non-null  datetime64[ns]\n",
      " 5   report_time       349581 non-null  object        \n",
      " 6   location_type     349581 non-null  object        \n",
      " 7   address           349581 non-null  object        \n",
      " 8   zip_code          349581 non-null  float64       \n",
      " 9   council_district  349581 non-null  float64       \n",
      " 10  sector            349581 non-null  object        \n",
      " 11  district          349581 non-null  object        \n",
      " 12  latitude          349581 non-null  float64       \n",
      " 13  longitude         349581 non-null  float64       \n",
      " 14  clearance_status  349581 non-null  object        \n",
      " 15  clearance_date    349581 non-null  datetime64[ns]\n",
      " 16  cleared           349581 non-null  bool          \n",
      "dtypes: bool(1), datetime64[ns](3), float64(4), object(9)\n",
      "memory usage: 45.7+ MB\n"
     ]
    }
   ],
   "source": [
    "df.info()"
   ]
  },
  {
   "cell_type": "code",
   "execution_count": 5,
   "id": "b2d0443b-271c-4aeb-9d94-f2bdc116295f",
   "metadata": {},
   "outputs": [
    {
     "name": "stdout",
     "output_type": "stream",
     "text": [
      "CRIME_TYPE\n",
      "Count:\n",
      "BURGLARY OF VEHICLE               34886\n",
      "THEFT                             29943\n",
      "FAMILY DISTURBANCE                24386\n",
      "CRIMINAL MISCHIEF                 19382\n",
      "ASSAULT W/INJURY-FAM/DATE VIOL    12857\n",
      "                                  ...  \n",
      "COMMERCIAL BRIBERY                    1\n",
      "ATT BURGLARY OF RESIDENCE             1\n",
      "SALE OF DXM TO MINOR                  1\n",
      "MANF SYNTHETIC MARIJUANA              1\n",
      "BAIL JUMPING/FAIL TO APPEAR           1\n",
      "Name: crime_type, Length: 341, dtype: int64\n",
      "\n",
      "\n",
      "Proportions:\n",
      "BURGLARY OF VEHICLE               0.099794\n",
      "THEFT                             0.085654\n",
      "FAMILY DISTURBANCE                0.069758\n",
      "CRIMINAL MISCHIEF                 0.055444\n",
      "ASSAULT W/INJURY-FAM/DATE VIOL    0.036778\n",
      "                                    ...   \n",
      "COMMERCIAL BRIBERY                0.000003\n",
      "ATT BURGLARY OF RESIDENCE         0.000003\n",
      "SALE OF DXM TO MINOR              0.000003\n",
      "MANF SYNTHETIC MARIJUANA          0.000003\n",
      "BAIL JUMPING/FAIL TO APPEAR       0.000003\n",
      "Name: crime_type, Length: 341, dtype: float64\n",
      "--------------------------\n",
      "\n",
      "\n",
      "FAMILY_VIOLENCE\n",
      "Count:\n",
      "N    321418\n",
      "Y     28163\n",
      "Name: family_violence, dtype: int64\n",
      "\n",
      "\n",
      "Proportions:\n",
      "N    0.919438\n",
      "Y    0.080562\n",
      "Name: family_violence, dtype: float64\n",
      "--------------------------\n",
      "\n",
      "\n",
      "OCCURENCE_TIME\n",
      "Count:\n",
      "12:00    14368\n",
      "00:00     9684\n",
      "18:00     6207\n",
      "20:00     5306\n",
      "22:00     5134\n",
      "         ...  \n",
      "06:04       35\n",
      "06:26       34\n",
      "06:56       33\n",
      "06:06       32\n",
      "05:51       31\n",
      "Name: occurence_time, Length: 1440, dtype: int64\n",
      "\n",
      "\n",
      "Proportions:\n",
      "12:00    0.041101\n",
      "00:00    0.027702\n",
      "18:00    0.017756\n",
      "20:00    0.015178\n",
      "22:00    0.014686\n",
      "           ...   \n",
      "06:04    0.000100\n",
      "06:26    0.000097\n",
      "06:56    0.000094\n",
      "06:06    0.000092\n",
      "05:51    0.000089\n",
      "Name: occurence_time, Length: 1440, dtype: float64\n",
      "--------------------------\n",
      "\n",
      "\n",
      "REPORT_TIME\n",
      "Count:\n",
      "12:00    554\n",
      "15:00    465\n",
      "13:00    458\n",
      "17:00    456\n",
      "10:11    446\n",
      "        ... \n",
      "06:02     48\n",
      "05:56     47\n",
      "05:48     43\n",
      "06:04     41\n",
      "05:53     39\n",
      "Name: report_time, Length: 1440, dtype: int64\n",
      "\n",
      "\n",
      "Proportions:\n",
      "12:00    0.001585\n",
      "15:00    0.001330\n",
      "13:00    0.001310\n",
      "17:00    0.001304\n",
      "10:11    0.001276\n",
      "           ...   \n",
      "06:02    0.000137\n",
      "05:56    0.000134\n",
      "05:48    0.000123\n",
      "06:04    0.000117\n",
      "05:53    0.000112\n",
      "Name: report_time, Length: 1440, dtype: float64\n",
      "--------------------------\n",
      "\n",
      "\n",
      "LOCATION_TYPE\n",
      "Count:\n",
      "RESIDENCE / HOME                                   139468\n",
      "HWY / ROAD / ALLEY/ STREET/ SIDEWALK                58705\n",
      "PARKING /DROP LOT/ GARAGE                           45334\n",
      "OTHER / UNKNOWN                                     25920\n",
      "COMMERCIAL / OFFICE BUILDING                         9717\n",
      "HOTEL / MOTEL / ETC.                                 7820\n",
      "DEPARTMENT / DISCOUNT STORE                          7677\n",
      "RESTAURANT                                           7105\n",
      "GROCERY / SUPERMARKET                                5988\n",
      "CONVENIENCE STORE                                    5449\n",
      "SERVICE/ GAS STATION                                 5064\n",
      "DRUG STORE / DOCTOR'S OFFICE / HOSPITAL              4114\n",
      "BAR / NIGHTCLUB                                      3966\n",
      "PARK / PLAYGROUND                                    3145\n",
      "SPECIALTY  STORE                                     2949\n",
      "AIR / BUS / TRAIN TERMINAL                           2411\n",
      "GOVERNMENT / PUBLIC BUILDING                         1570\n",
      "CONSTRUCTION SITE                                    1568\n",
      "BANK / SAVINGS & LOAN                                1560\n",
      "RENTAL STORAGE FACILITY                              1479\n",
      "LIQUOR STORE                                         1061\n",
      "SHOPPING MALL                                         981\n",
      "AUTO DEALERSHIP NEW / USED                            889\n",
      "CHURCH / SYNAGOGUE / TEMPLE / MOSQUE                  802\n",
      "ABANDONED/CONDEMNED STRUCTURE                         698\n",
      "SHELTER-MISSION / HOMELESS                            678\n",
      "FIELD / WOODS                                         641\n",
      "SCHOOL - ELEMENTARY / SECONDARY                       559\n",
      "COMMUNITY CENTER                                      355\n",
      "SCHOOL - COLLEGE / UNIVERSITY                         309\n",
      "DAYCARE FACILITY                                      223\n",
      "SCHOOL / COLLEGE                                      204\n",
      "CAMP / CAMPGROUND                                     196\n",
      "JAIL / PRISON/PENITENTIARY/CORRECTIONS FACILITY       163\n",
      "GAMBLING FACILITY / CASINO / RACE TRACK               138\n",
      "ATM SEPARATE FROM BANK                                136\n",
      "LAKE / WATERWAY/BEACH                                 122\n",
      "CYBERSPACE                                            122\n",
      "INDUSTRIAL SITE                                       102\n",
      "ARENA / STADIUM / FAIRGROUNDS / COLISEUM               67\n",
      "AMUSEMENT PARK                                         46\n",
      "REST AREA                                              46\n",
      "DOCK / WHARF / FREIGHT / MODAL TERMINAL                25\n",
      "MILITARY INSTALLATION                                   3\n",
      "FARM FACILITY                                           3\n",
      "TRIBAL LANDS                                            3\n",
      "Name: location_type, dtype: int64\n",
      "\n",
      "\n",
      "Proportions:\n",
      "RESIDENCE / HOME                                   0.398958\n",
      "HWY / ROAD / ALLEY/ STREET/ SIDEWALK               0.167930\n",
      "PARKING /DROP LOT/ GARAGE                          0.129681\n",
      "OTHER / UNKNOWN                                    0.074146\n",
      "COMMERCIAL / OFFICE BUILDING                       0.027796\n",
      "HOTEL / MOTEL / ETC.                               0.022370\n",
      "DEPARTMENT / DISCOUNT STORE                        0.021961\n",
      "RESTAURANT                                         0.020324\n",
      "GROCERY / SUPERMARKET                              0.017129\n",
      "CONVENIENCE STORE                                  0.015587\n",
      "SERVICE/ GAS STATION                               0.014486\n",
      "DRUG STORE / DOCTOR'S OFFICE / HOSPITAL            0.011768\n",
      "BAR / NIGHTCLUB                                    0.011345\n",
      "PARK / PLAYGROUND                                  0.008996\n",
      "SPECIALTY  STORE                                   0.008436\n",
      "AIR / BUS / TRAIN TERMINAL                         0.006897\n",
      "GOVERNMENT / PUBLIC BUILDING                       0.004491\n",
      "CONSTRUCTION SITE                                  0.004485\n",
      "BANK / SAVINGS & LOAN                              0.004462\n",
      "RENTAL STORAGE FACILITY                            0.004231\n",
      "LIQUOR STORE                                       0.003035\n",
      "SHOPPING MALL                                      0.002806\n",
      "AUTO DEALERSHIP NEW / USED                         0.002543\n",
      "CHURCH / SYNAGOGUE / TEMPLE / MOSQUE               0.002294\n",
      "ABANDONED/CONDEMNED STRUCTURE                      0.001997\n",
      "SHELTER-MISSION / HOMELESS                         0.001939\n",
      "FIELD / WOODS                                      0.001834\n",
      "SCHOOL - ELEMENTARY / SECONDARY                    0.001599\n",
      "COMMUNITY CENTER                                   0.001016\n",
      "SCHOOL - COLLEGE / UNIVERSITY                      0.000884\n",
      "DAYCARE FACILITY                                   0.000638\n",
      "SCHOOL / COLLEGE                                   0.000584\n",
      "CAMP / CAMPGROUND                                  0.000561\n",
      "JAIL / PRISON/PENITENTIARY/CORRECTIONS FACILITY    0.000466\n",
      "GAMBLING FACILITY / CASINO / RACE TRACK            0.000395\n",
      "ATM SEPARATE FROM BANK                             0.000389\n",
      "LAKE / WATERWAY/BEACH                              0.000349\n",
      "CYBERSPACE                                         0.000349\n",
      "INDUSTRIAL SITE                                    0.000292\n",
      "ARENA / STADIUM / FAIRGROUNDS / COLISEUM           0.000192\n",
      "AMUSEMENT PARK                                     0.000132\n",
      "REST AREA                                          0.000132\n",
      "DOCK / WHARF / FREIGHT / MODAL TERMINAL            0.000072\n",
      "MILITARY INSTALLATION                              0.000009\n",
      "FARM FACILITY                                      0.000009\n",
      "TRIBAL LANDS                                       0.000009\n",
      "Name: location_type, dtype: float64\n",
      "--------------------------\n",
      "\n",
      "\n",
      "ADDRESS\n",
      "Count:\n",
      "4110 GUADALUPE ST                 1952\n",
      "1030 NORWOOD PARK BLVD            1247\n",
      "3600 PRESIDENTIAL BLVD            1190\n",
      "500 E 7TH ST                       938\n",
      "2901 S CAPITAL OF TEXAS HWY NB     865\n",
      "                                  ... \n",
      "7001 SCENIC BROOK DR                 1\n",
      "706 MERIDEN LN                       1\n",
      "500 BLOCK W 5TH ST                   1\n",
      "3203 MOSSROCK DR                     1\n",
      "8838 HONEYSUCKLE TRL                 1\n",
      "Name: address, Length: 78977, dtype: int64\n",
      "\n",
      "\n",
      "Proportions:\n",
      "4110 GUADALUPE ST                 0.005584\n",
      "1030 NORWOOD PARK BLVD            0.003567\n",
      "3600 PRESIDENTIAL BLVD            0.003404\n",
      "500 E 7TH ST                      0.002683\n",
      "2901 S CAPITAL OF TEXAS HWY NB    0.002474\n",
      "                                    ...   \n",
      "7001 SCENIC BROOK DR              0.000003\n",
      "706 MERIDEN LN                    0.000003\n",
      "500 BLOCK W 5TH ST                0.000003\n",
      "3203 MOSSROCK DR                  0.000003\n",
      "8838 HONEYSUCKLE TRL              0.000003\n",
      "Name: address, Length: 78977, dtype: float64\n",
      "--------------------------\n",
      "\n",
      "\n",
      "SECTOR\n",
      "Count:\n",
      "ED    49924\n",
      "DA    45178\n",
      "FR    42716\n",
      "AD    41948\n",
      "BA    37501\n",
      "CH    36176\n",
      "HE    36079\n",
      "ID    35666\n",
      "GE    21758\n",
      "AP     1879\n",
      "88      612\n",
      "UT      144\n",
      "Name: sector, dtype: int64\n",
      "\n",
      "\n",
      "Proportions:\n",
      "ED    0.142811\n",
      "DA    0.129235\n",
      "FR    0.122192\n",
      "AD    0.119995\n",
      "BA    0.107274\n",
      "CH    0.103484\n",
      "HE    0.103206\n",
      "ID    0.102025\n",
      "GE    0.062240\n",
      "AP    0.005375\n",
      "88    0.001751\n",
      "UT    0.000412\n",
      "Name: sector, dtype: float64\n",
      "--------------------------\n",
      "\n",
      "\n",
      "DISTRICT\n",
      "Count:\n",
      "2     69359\n",
      "1     65474\n",
      "3     42596\n",
      "4     42188\n",
      "5     35701\n",
      "7     34736\n",
      "6     33232\n",
      "8     23643\n",
      "S      1280\n",
      "88      612\n",
      "D       391\n",
      "B       122\n",
      "A       119\n",
      "P        94\n",
      "C        34\n",
      "Name: district, dtype: int64\n",
      "\n",
      "\n",
      "Proportions:\n",
      "2     0.198406\n",
      "1     0.187293\n",
      "3     0.121849\n",
      "4     0.120682\n",
      "5     0.102125\n",
      "7     0.099365\n",
      "6     0.095062\n",
      "8     0.067632\n",
      "S     0.003662\n",
      "88    0.001751\n",
      "D     0.001118\n",
      "B     0.000349\n",
      "A     0.000340\n",
      "P     0.000269\n",
      "C     0.000097\n",
      "Name: district, dtype: float64\n",
      "--------------------------\n",
      "\n",
      "\n",
      "CLEARANCE_STATUS\n",
      "Count:\n",
      "not cleared             275577\n",
      "cleared by arrest        72431\n",
      "cleared by exception      1573\n",
      "Name: clearance_status, dtype: int64\n",
      "\n",
      "\n",
      "Proportions:\n",
      "not cleared             0.788307\n",
      "cleared by arrest       0.207194\n",
      "cleared by exception    0.004500\n",
      "Name: clearance_status, dtype: float64\n",
      "--------------------------\n",
      "\n",
      "\n"
     ]
    }
   ],
   "source": [
    "# Use .describe with object columns\n",
    "obj_cols = df.columns[[df[col].dtype == 'O' for col in df.columns]]\n",
    "obj_cols\n",
    "\n",
    "for col in obj_cols:\n",
    "    print(col.upper())\n",
    "    print('Count:')\n",
    "    print(df[col].value_counts())\n",
    "    print('\\n')\n",
    "    print('Proportions:')\n",
    "    print(df[col].value_counts(normalize=True, dropna=False))\n",
    "    print('--------------------------')\n",
    "    print('\\n')\n"
   ]
  },
  {
   "cell_type": "code",
   "execution_count": 6,
   "id": "958466c7-50a7-4f88-a224-30e4bc762302",
   "metadata": {},
   "outputs": [
    {
     "data": {
      "text/plain": [
       "9.0     56374\n",
       "3.0     51663\n",
       "4.0     48615\n",
       "7.0     39888\n",
       "1.0     39585\n",
       "2.0     33606\n",
       "5.0     28417\n",
       "6.0     20494\n",
       "10.0    16128\n",
       "8.0     14811\n",
       "Name: council_district, dtype: int64"
      ]
     },
     "execution_count": 6,
     "metadata": {},
     "output_type": "execute_result"
    }
   ],
   "source": [
    "df.council_district.value_counts()"
   ]
  },
  {
   "cell_type": "markdown",
   "id": "c6fa6fb6-6a92-4e51-9ef0-22ebc492ed5d",
   "metadata": {},
   "source": [
    "# Split the Data for Exploratation"
   ]
  },
  {
   "cell_type": "code",
   "execution_count": 7,
   "id": "d94c73b6-3ab3-4b1d-a7ac-bce56bd637f5",
   "metadata": {},
   "outputs": [
    {
     "data": {
      "text/plain": [
       "((195764, 17), (83900, 17), (69917, 17))"
      ]
     },
     "execution_count": 7,
     "metadata": {},
     "output_type": "execute_result"
    }
   ],
   "source": [
    "train, validate, test = prepare.split_data(df)\n",
    "train.shape, validate.shape, test.shape"
   ]
  },
  {
   "cell_type": "code",
   "execution_count": 8,
   "id": "e9000e84-fbea-4d54-bce4-abfffb56e97e",
   "metadata": {},
   "outputs": [],
   "source": [
    "#Assign my .shp file to a variable named “asutin_map”\n",
    "austin_map = gpd.read_file('Boundaries_zipcode/geo_export_9b5aa23d-57b1-41f4-b4f9-0a9d97fac540.shp')"
   ]
  },
  {
   "cell_type": "code",
   "execution_count": 9,
   "id": "16c4b51e-d2f8-41b9-b5e5-e4c761682d5f",
   "metadata": {},
   "outputs": [],
   "source": [
    "austin_map = austin_map.drop(columns =['affgeoid10','geoid10','aland10','awater10'])"
   ]
  },
  {
   "cell_type": "code",
   "execution_count": 17,
   "id": "e4f6c5d9-8771-4e0f-ad0f-aa7c17526120",
   "metadata": {},
   "outputs": [
    {
     "name": "stdout",
     "output_type": "stream",
     "text": [
      "<class 'geopandas.geodataframe.GeoDataFrame'>\n",
      "RangeIndex: 54 entries, 0 to 53\n",
      "Data columns (total 2 columns):\n",
      " #   Column    Non-Null Count  Dtype   \n",
      "---  ------    --------------  -----   \n",
      " 0   zip_code  54 non-null     float64 \n",
      " 1   geometry  54 non-null     geometry\n",
      "dtypes: float64(1), geometry(1)\n",
      "memory usage: 992.0 bytes\n"
     ]
    }
   ],
   "source": [
    "austin_map = austin_map.rename(columns ={'zcta5ce10': 'zip_code'})\n",
    "austin_map.info()"
   ]
  },
  {
   "cell_type": "code",
   "execution_count": 15,
   "id": "d34dae09-d123-4187-9156-9f8416120ed8",
   "metadata": {},
   "outputs": [],
   "source": [
    "austin_map['zip_code'] = austin_map.zip_code.astype('float64')"
   ]
  },
  {
   "cell_type": "code",
   "execution_count": 16,
   "id": "733ab51a-2759-4297-9a91-bc10ed951356",
   "metadata": {},
   "outputs": [
    {
     "name": "stdout",
     "output_type": "stream",
     "text": [
      "<class 'pandas.core.frame.DataFrame'>\n",
      "Int64Index: 349581 entries, 34573 to 436548\n",
      "Data columns (total 17 columns):\n",
      " #   Column            Non-Null Count   Dtype         \n",
      "---  ------            --------------   -----         \n",
      " 0   crime_type        349581 non-null  object        \n",
      " 1   family_violence   349581 non-null  object        \n",
      " 2   occurence_date    349581 non-null  datetime64[ns]\n",
      " 3   occurence_time    349581 non-null  object        \n",
      " 4   report_date       349581 non-null  datetime64[ns]\n",
      " 5   report_time       349581 non-null  object        \n",
      " 6   location_type     349581 non-null  object        \n",
      " 7   address           349581 non-null  object        \n",
      " 8   zip_code          349581 non-null  float64       \n",
      " 9   council_district  349581 non-null  float64       \n",
      " 10  sector            349581 non-null  object        \n",
      " 11  district          349581 non-null  object        \n",
      " 12  latitude          349581 non-null  float64       \n",
      " 13  longitude         349581 non-null  float64       \n",
      " 14  clearance_status  349581 non-null  object        \n",
      " 15  clearance_date    349581 non-null  datetime64[ns]\n",
      " 16  cleared           349581 non-null  bool          \n",
      "dtypes: bool(1), datetime64[ns](3), float64(4), object(9)\n",
      "memory usage: 45.7+ MB\n"
     ]
    }
   ],
   "source": [
    "df.info()"
   ]
  },
  {
   "cell_type": "code",
   "execution_count": 18,
   "id": "5558d8e1-4b75-463a-8c12-27e56e8f4aed",
   "metadata": {},
   "outputs": [],
   "source": [
    "#create a new dataframe with both our geographical and statistical data in it by merging our two tables together.\n",
    "new_df = austin_map.merge(df, on ='zip_code')"
   ]
  },
  {
   "cell_type": "code",
   "execution_count": 21,
   "id": "75584524-e251-4923-9bcc-53377ae517d5",
   "metadata": {},
   "outputs": [],
   "source": [
    "new_df.to_csv('Geo_Crime_Reports.csv')"
   ]
  },
  {
   "cell_type": "code",
   "execution_count": 20,
   "id": "44185dfe-348d-4d62-98e6-74909c635624",
   "metadata": {},
   "outputs": [
    {
     "name": "stdout",
     "output_type": "stream",
     "text": [
      "The history saving thread hit an unexpected error (OperationalError('unable to open database file')).History will not be written to the database.\n",
      "<class 'geopandas.geodataframe.GeoDataFrame'>\n",
      "Int64Index: 349574 entries, 0 to 349573\n",
      "Data columns (total 18 columns):\n",
      " #   Column            Non-Null Count   Dtype         \n",
      "---  ------            --------------   -----         \n",
      " 0   zip_code          349574 non-null  float64       \n",
      " 1   geometry          349574 non-null  geometry      \n",
      " 2   crime_type        349574 non-null  object        \n",
      " 3   family_violence   349574 non-null  object        \n",
      " 4   occurence_date    349574 non-null  datetime64[ns]\n",
      " 5   occurence_time    349574 non-null  object        \n",
      " 6   report_date       349574 non-null  datetime64[ns]\n",
      " 7   report_time       349574 non-null  object        \n",
      " 8   location_type     349574 non-null  object        \n",
      " 9   address           349574 non-null  object        \n",
      " 10  council_district  349574 non-null  float64       \n",
      " 11  sector            349574 non-null  object        \n",
      " 12  district          349574 non-null  object        \n",
      " 13  latitude          349574 non-null  float64       \n",
      " 14  longitude         349574 non-null  float64       \n",
      " 15  clearance_status  349574 non-null  object        \n",
      " 16  clearance_date    349574 non-null  datetime64[ns]\n",
      " 17  cleared           349574 non-null  bool          \n",
      "dtypes: bool(1), datetime64[ns](3), float64(4), geometry(1), object(9)\n",
      "memory usage: 48.3+ MB\n"
     ]
    }
   ],
   "source": [
    "new_df.info()"
   ]
  },
  {
   "cell_type": "code",
   "execution_count": 24,
   "id": "3b09ce09-d3b7-48f1-80b1-613fe010a880",
   "metadata": {},
   "outputs": [
    {
     "data": {
      "image/png": "[encoded data removed]",
      "text/plain": [
       "<Figure size 576x576 with 2 Axes>"
      ]
     },
     "metadata": {
      "needs_background": "light"
     },
     "output_type": "display_data"
    }
   ],
   "source": [
    "#Crime_type by zip_code\n",
    "fig, ax = plt.subplots(1, figsize=(8, 8))\n",
    "plt.xticks(rotation=90)\n",
    "new_df.plot(column=\"crime_type\", cmap=\"Reds\", linewidth=0.4, ax=ax, edgecolor=\".4\")\n",
    "bar_info = plt.cm.ScalarMappable(cmap=\"Reds\", norm=plt.Normalize(vmin=0, vmax=120))\n",
    "bar_info._A = []\n",
    "cbar = fig.colorbar(bar_info)"
   ]
  },
  {
   "cell_type": "code",
   "execution_count": 22,
   "id": "5857a90c-cb9d-4a4b-875b-d73ada7be94d",
   "metadata": {},
   "outputs": [
    {
     "name": "stdout",
     "output_type": "stream",
     "text": [
      "<class 'pandas.core.frame.DataFrame'>\n",
      "Int64Index: 195764 entries, 128272 to 382883\n",
      "Data columns (total 17 columns):\n",
      " #   Column            Non-Null Count   Dtype         \n",
      "---  ------            --------------   -----         \n",
      " 0   crime_type        195764 non-null  object        \n",
      " 1   family_violence   195764 non-null  object        \n",
      " 2   occurence_date    195764 non-null  datetime64[ns]\n",
      " 3   occurence_time    195764 non-null  object        \n",
      " 4   report_date       195764 non-null  datetime64[ns]\n",
      " 5   report_time       195764 non-null  object        \n",
      " 6   location_type     195764 non-null  object        \n",
      " 7   address           195764 non-null  object        \n",
      " 8   zip_code          195764 non-null  float64       \n",
      " 9   council_district  195764 non-null  float64       \n",
      " 10  sector            195764 non-null  object        \n",
      " 11  district          195764 non-null  object        \n",
      " 12  latitude          195764 non-null  float64       \n",
      " 13  longitude         195764 non-null  float64       \n",
      " 14  clearance_status  195764 non-null  object        \n",
      " 15  clearance_date    195764 non-null  datetime64[ns]\n",
      " 16  cleared           195764 non-null  bool          \n",
      "dtypes: bool(1), datetime64[ns](3), float64(4), object(9)\n",
      "memory usage: 25.6+ MB\n"
     ]
    }
   ],
   "source": [
    "train.info()"
   ]
  },
  {
   "cell_type": "code",
   "execution_count": 23,
   "id": "d11d8d62-a02b-4aea-a229-d64fb82427c0",
   "metadata": {},
   "outputs": [
    {
     "data": {
      "text/plain": [
       "9.0     31596\n",
       "3.0     28789\n",
       "4.0     27418\n",
       "7.0     22483\n",
       "1.0     22055\n",
       "2.0     18698\n",
       "5.0     16014\n",
       "6.0     11376\n",
       "10.0     9010\n",
       "8.0      8325\n",
       "Name: council_district, dtype: int64"
      ]
     },
     "execution_count": 23,
     "metadata": {},
     "output_type": "execute_result"
    }
   ],
   "source": [
    "train.council_district.value_counts()"
   ]
  },
  {
   "cell_type": "markdown",
   "id": "67ecfed4-764d-4603-ade4-2659b56a419e",
   "metadata": {},
   "source": [
    "### General takeaways\n",
    "- total of 195K rows of crime\n",
    "- district 9 has highest count at 31k\n",
    "- district 3/4 have roughly the same at 28k\n",
    "- district 7/1 have 22k each of crime\n",
    "- district 2/5 have about 17k\n",
    "- district 6/10/8 have the lowest counts by far\n",
    "\n",
    "#### What kind of crime is in each district?"
   ]
  },
  {
   "cell_type": "code",
   "execution_count": 25,
   "id": "bf7e2285-3657-4f40-bdc2-2219a95f3a5d",
   "metadata": {},
   "outputs": [
    {
     "data": {
      "text/plain": [
       "9.0     31596\n",
       "3.0     28789\n",
       "4.0     27418\n",
       "7.0     22483\n",
       "1.0     22055\n",
       "2.0     18698\n",
       "5.0     16014\n",
       "6.0     11376\n",
       "10.0     9010\n",
       "8.0      8325\n",
       "Name: council_district, dtype: int64"
      ]
     },
     "execution_count": 25,
     "metadata": {},
     "output_type": "execute_result"
    }
   ],
   "source": [
    "train.council_district.value_counts()"
   ]
  },
  {
   "cell_type": "code",
   "execution_count": 26,
   "id": "9e52c419-a920-47d7-98f2-a26ef86f07cd",
   "metadata": {},
   "outputs": [
    {
     "data": {
      "text/plain": [
       "((22055, 17),\n",
       " (18698, 17),\n",
       " (28789, 17),\n",
       " (27418, 17),\n",
       " (16014, 17),\n",
       " (11376, 17),\n",
       " (22483, 17),\n",
       " (8325, 17),\n",
       " (31596, 17),\n",
       " (9010, 17))"
      ]
     },
     "execution_count": 26,
     "metadata": {},
     "output_type": "execute_result"
    }
   ],
   "source": [
    "one = train[train.council_district == 1]\n",
    "two = train[train.council_district == 2]\n",
    "three = train[train.council_district == 3]\n",
    "four = train[train.council_district == 4]\n",
    "five = train[train.council_district == 5]\n",
    "six = train[train.council_district == 6]\n",
    "seven = train[train.council_district == 7]\n",
    "eight = train[train.council_district == 8]\n",
    "nine = train[train.council_district == 9]\n",
    "ten = train[train.council_district == 10]\n",
    "\n",
    "\n",
    "one.shape, two.shape, three.shape, four.shape, five.shape, six.shape, seven.shape, eight.shape, nine.shape, ten.shape"
   ]
  },
  {
   "cell_type": "code",
   "execution_count": 27,
   "id": "c90f3e08-e1f1-46f4-96a6-8d0ab4c7ee0b",
   "metadata": {},
   "outputs": [
    {
     "data": {
      "text/plain": [
       "THEFT                            3119\n",
       "BURGLARY OF VEHICLE              2990\n",
       "ASSAULT BY CONTACT               1650\n",
       "CRIMINAL MISCHIEF                1643\n",
       "ASSAULT WITH INJURY              1414\n",
       "                                 ... \n",
       "ASSAULT - SCHOOL PERSONNEL          1\n",
       "REPEAT RUNAWAY                      1\n",
       "TRUANCY                             1\n",
       "AGG PROMOTION OF PROSTITUTION       1\n",
       "MANSLAUGHTER                        1\n",
       "Name: crime_type, Length: 260, dtype: int64"
      ]
     },
     "execution_count": 27,
     "metadata": {},
     "output_type": "execute_result"
    }
   ],
   "source": [
    "# district 9 has the most crime\n",
    "nine.crime_type.value_counts()"
   ]
  },
  {
   "cell_type": "code",
   "execution_count": 33,
   "id": "75937614-6a65-48ad-820f-b3008af66b7c",
   "metadata": {},
   "outputs": [],
   "source": [
    "def district_crime(train):\n",
    "    \"\"\"\n",
    "    This function is to create a visual to show all districts in descending order. \n",
    "    \"\"\"\n",
    "    # creating district crime frequency (horizontal)\n",
    "\n",
    "    train.council_district.value_counts(ascending = True, normalize = False).plot.barh(color = 'orange',figsize = (12, 7))\n",
    "    # adding title\n",
    "    plt.xlabel('Crime Count',fontsize=12)# set up the x axis. \n",
    "    plt.ylabel('Council District',fontsize=12)# set up the y axis\n",
    "    plt.title('Council District Crime in Descending Order\\n',fontsize=15) # set up the title.\n",
    "    plt.show()\n"
   ]
  },
  {
   "cell_type": "code",
   "execution_count": 32,
   "id": "d77950e9-7b8e-4ed3-a698-d5ce4408c3da",
   "metadata": {},
   "outputs": [
    {
     "data": {
      "image/png": "[encoded data removed]",
      "text/plain": [
       "<Figure size 864x504 with 1 Axes>"
      ]
     },
     "metadata": {
      "needs_background": "light"
     },
     "output_type": "display_data"
    }
   ],
   "source": [
    "district_crime(train)"
   ]
  },
  {
   "cell_type": "code",
   "execution_count": 30,
   "id": "a19c5382-ad02-4744-8d78-f8b275e3fdaf",
   "metadata": {},
   "outputs": [
    {
     "data": {
      "text/html": [
       "<div>\n",
       "<style scoped>\n",
       "    .dataframe tbody tr th:only-of-type {\n",
       "        vertical-align: middle;\n",
       "    }\n",
       "\n",
       "    .dataframe tbody tr th {\n",
       "        vertical-align: top;\n",
       "    }\n",
       "\n",
       "    .dataframe thead th {\n",
       "        text-align: right;\n",
       "    }\n",
       "</style>\n",
       "<table border=\"1\" class=\"dataframe\">\n",
       "  <thead>\n",
       "    <tr style=\"text-align: right;\">\n",
       "      <th></th>\n",
       "      <th>crime_type</th>\n",
       "      <th>family_violence</th>\n",
       "      <th>occurence_date</th>\n",
       "      <th>occurence_time</th>\n",
       "      <th>report_date</th>\n",
       "      <th>report_time</th>\n",
       "      <th>location_type</th>\n",
       "      <th>address</th>\n",
       "      <th>zip_code</th>\n",
       "      <th>council_district</th>\n",
       "      <th>sector</th>\n",
       "      <th>district</th>\n",
       "      <th>latitude</th>\n",
       "      <th>longitude</th>\n",
       "      <th>clearance_status</th>\n",
       "      <th>clearance_date</th>\n",
       "      <th>cleared</th>\n",
       "    </tr>\n",
       "  </thead>\n",
       "  <tbody>\n",
       "    <tr>\n",
       "      <th>128272</th>\n",
       "      <td>IDENTITY THEFT</td>\n",
       "      <td>N</td>\n",
       "      <td>2020-12-29</td>\n",
       "      <td>18:30</td>\n",
       "      <td>2020-12-30</td>\n",
       "      <td>01:46</td>\n",
       "      <td>RESIDENCE / HOME</td>\n",
       "      <td>504 ARBOR LN</td>\n",
       "      <td>78745.0</td>\n",
       "      <td>3.0</td>\n",
       "      <td>DA</td>\n",
       "      <td>3</td>\n",
       "      <td>30.210307</td>\n",
       "      <td>-97.779062</td>\n",
       "      <td>not cleared</td>\n",
       "      <td>2020-12-30</td>\n",
       "      <td>False</td>\n",
       "    </tr>\n",
       "    <tr>\n",
       "      <th>420369</th>\n",
       "      <td>POSS CONTROLLED SUB/NARCOTIC</td>\n",
       "      <td>N</td>\n",
       "      <td>2018-03-03</td>\n",
       "      <td>01:47</td>\n",
       "      <td>2018-03-03</td>\n",
       "      <td>01:47</td>\n",
       "      <td>HWY / ROAD / ALLEY/ STREET/ SIDEWALK</td>\n",
       "      <td>404 E 6TH ST</td>\n",
       "      <td>78701.0</td>\n",
       "      <td>9.0</td>\n",
       "      <td>GE</td>\n",
       "      <td>2</td>\n",
       "      <td>30.267321</td>\n",
       "      <td>-97.738933</td>\n",
       "      <td>cleared by arrest</td>\n",
       "      <td>2018-05-05</td>\n",
       "      <td>True</td>\n",
       "    </tr>\n",
       "    <tr>\n",
       "      <th>79483</th>\n",
       "      <td>BURGLARY OF VEHICLE</td>\n",
       "      <td>N</td>\n",
       "      <td>2021-07-05</td>\n",
       "      <td>00:00</td>\n",
       "      <td>2021-07-06</td>\n",
       "      <td>19:54</td>\n",
       "      <td>RESIDENCE / HOME</td>\n",
       "      <td>2200 PANTHER TRL</td>\n",
       "      <td>78704.0</td>\n",
       "      <td>5.0</td>\n",
       "      <td>DA</td>\n",
       "      <td>4</td>\n",
       "      <td>30.237971</td>\n",
       "      <td>-97.786882</td>\n",
       "      <td>not cleared</td>\n",
       "      <td>2021-07-15</td>\n",
       "      <td>False</td>\n",
       "    </tr>\n",
       "    <tr>\n",
       "      <th>430217</th>\n",
       "      <td>INTERFERENCE PUBLIC DUTIES</td>\n",
       "      <td>N</td>\n",
       "      <td>2018-01-25</td>\n",
       "      <td>17:24</td>\n",
       "      <td>2018-01-31</td>\n",
       "      <td>17:24</td>\n",
       "      <td>HWY / ROAD / ALLEY/ STREET/ SIDEWALK</td>\n",
       "      <td>2200 W SLAUGHTER LN</td>\n",
       "      <td>78748.0</td>\n",
       "      <td>5.0</td>\n",
       "      <td>FR</td>\n",
       "      <td>1</td>\n",
       "      <td>30.174079</td>\n",
       "      <td>-97.827130</td>\n",
       "      <td>cleared by arrest</td>\n",
       "      <td>2018-01-31</td>\n",
       "      <td>True</td>\n",
       "    </tr>\n",
       "    <tr>\n",
       "      <th>280218</th>\n",
       "      <td>BURGLARY OF VEHICLE</td>\n",
       "      <td>N</td>\n",
       "      <td>2019-07-10</td>\n",
       "      <td>18:15</td>\n",
       "      <td>2019-07-11</td>\n",
       "      <td>09:49</td>\n",
       "      <td>PARKING /DROP LOT/ GARAGE</td>\n",
       "      <td>121 PICKLE RD</td>\n",
       "      <td>78704.0</td>\n",
       "      <td>3.0</td>\n",
       "      <td>DA</td>\n",
       "      <td>2</td>\n",
       "      <td>30.227295</td>\n",
       "      <td>-97.763052</td>\n",
       "      <td>not cleared</td>\n",
       "      <td>2019-07-16</td>\n",
       "      <td>False</td>\n",
       "    </tr>\n",
       "  </tbody>\n",
       "</table>\n",
       "</div>"
      ],
      "text/plain": [
       "                          crime_type family_violence occurence_date  \\\n",
       "128272                IDENTITY THEFT               N     2020-12-29   \n",
       "420369  POSS CONTROLLED SUB/NARCOTIC               N     2018-03-03   \n",
       "79483            BURGLARY OF VEHICLE               N     2021-07-05   \n",
       "430217    INTERFERENCE PUBLIC DUTIES               N     2018-01-25   \n",
       "280218           BURGLARY OF VEHICLE               N     2019-07-10   \n",
       "\n",
       "       occurence_time report_date report_time  \\\n",
       "128272          18:30  2020-12-30       01:46   \n",
       "420369          01:47  2018-03-03       01:47   \n",
       "79483           00:00  2021-07-06       19:54   \n",
       "430217          17:24  2018-01-31       17:24   \n",
       "280218          18:15  2019-07-11       09:49   \n",
       "\n",
       "                               location_type              address  zip_code  \\\n",
       "128272                      RESIDENCE / HOME         504 ARBOR LN   78745.0   \n",
       "420369  HWY / ROAD / ALLEY/ STREET/ SIDEWALK         404 E 6TH ST   78701.0   \n",
       "79483                       RESIDENCE / HOME     2200 PANTHER TRL   78704.0   \n",
       "430217  HWY / ROAD / ALLEY/ STREET/ SIDEWALK  2200 W SLAUGHTER LN   78748.0   \n",
       "280218             PARKING /DROP LOT/ GARAGE        121 PICKLE RD   78704.0   \n",
       "\n",
       "        council_district sector district   latitude  longitude  \\\n",
       "128272               3.0     DA        3  30.210307 -97.779062   \n",
       "420369               9.0     GE        2  30.267321 -97.738933   \n",
       "79483                5.0     DA        4  30.237971 -97.786882   \n",
       "430217               5.0     FR        1  30.174079 -97.827130   \n",
       "280218               3.0     DA        2  30.227295 -97.763052   \n",
       "\n",
       "         clearance_status clearance_date  cleared  \n",
       "128272        not cleared     2020-12-30    False  \n",
       "420369  cleared by arrest     2018-05-05     True  \n",
       "79483         not cleared     2021-07-15    False  \n",
       "430217  cleared by arrest     2018-01-31     True  \n",
       "280218        not cleared     2019-07-16    False  "
      ]
     },
     "execution_count": 30,
     "metadata": {},
     "output_type": "execute_result"
    }
   ],
   "source": [
    "train.head()"
   ]
  },
  {
   "cell_type": "code",
   "execution_count": 85,
   "id": "41e95190-126e-4633-b35a-24d97811453c",
   "metadata": {},
   "outputs": [],
   "source": [
    "def lower_zipcode_crime(train):\n",
    "    \"\"\"\n",
    "    This function is to create a visual to show all districts in descending order. \n",
    "    \"\"\"\n",
    "    # creating district crime frequency (horizontal)\n",
    "\n",
    "    train.zip_code.value_counts(ascending = True, normalize = False).tail(10).plot.barh(color = 'red',figsize = (12, 7))\n",
    "    # adding title\n",
    "    plt.xlabel('Crime Count',fontsize=12)# set up the x axis. \n",
    "    plt.ylabel('Zipcode',fontsize=12)# set up the y axis\n",
    "    plt.title('Highest Reported Zipcodes\\n',fontsize=15) # set up the title.\n",
    "    plt.show()"
   ]
  },
  {
   "cell_type": "code",
   "execution_count": 86,
   "id": "202f0dc5-d908-46a2-ae6c-0f6e864ac393",
   "metadata": {},
   "outputs": [
    {
     "data": {
      "image/png": "[encoded data removed]",
      "text/plain": [
       "<Figure size 864x504 with 1 Axes>"
      ]
     },
     "metadata": {
      "needs_background": "light"
     },
     "output_type": "display_data"
    }
   ],
   "source": [
    "lower_zipcode_crime(train)"
   ]
  },
  {
   "cell_type": "code",
   "execution_count": 83,
   "id": "a60e04ad-65f2-42f2-b226-930514a1f222",
   "metadata": {},
   "outputs": [],
   "source": [
    "def upper_zipcode_crime(train):\n",
    "    \"\"\"\n",
    "    This function is to create a visual to show top 10 safest zipcodes in descending order. \n",
    "    \"\"\"\n",
    "    # creating district crime frequency (horizontal)\n",
    "\n",
    "    train.zip_code.value_counts(ascending = True, normalize = False).head(10).plot.barh(color = 'green',figsize = (12, 7))\n",
    "    # adding title\n",
    "    plt.xlabel('Crime Count',fontsize=12)# set up the x axis. \n",
    "    plt.ylabel('Zipcode',fontsize=12)# set up the y axis\n",
    "    plt.title('Least Reported Zipcodes\\n',fontsize=15) # set up the title.\n",
    "    plt.show()"
   ]
  },
  {
   "cell_type": "code",
   "execution_count": 84,
   "id": "06e98d15-1c2c-4bc7-8e76-0b7afa2a6a77",
   "metadata": {},
   "outputs": [
    {
     "data": {
      "image/png": "[encoded data removed]",
      "text/plain": [
       "<Figure size 864x504 with 1 Axes>"
      ]
     },
     "metadata": {
      "needs_background": "light"
     },
     "output_type": "display_data"
    }
   ],
   "source": [
    "upper_zipcode_crime(train)"
   ]
  },
  {
   "cell_type": "code",
   "execution_count": 88,
   "id": "315fd624-0a09-4019-aca3-84ee551594b3",
   "metadata": {},
   "outputs": [
    {
     "data": {
      "text/plain": [
       "False    23640\n",
       "True      7956\n",
       "Name: cleared, dtype: int64"
      ]
     },
     "execution_count": 88,
     "metadata": {},
     "output_type": "execute_result"
    }
   ],
   "source": [
    "nine.cleared.value_counts()"
   ]
  },
  {
   "cell_type": "code",
   "execution_count": null,
   "id": "e0c80f7b-bd28-48d3-a120-260ec4548db7",
   "metadata": {},
   "outputs": [],
   "source": []
  }
 ],
 "metadata": {
  "kernelspec": {
   "display_name": "Python 3 (ipykernel)",
   "language": "python",
   "name": "python3"
  },
  "language_info": {
   "codemirror_mode": {
    "name": "ipython",
    "version": 3
   },
   "file_extension": ".py",
   "mimetype": "text/x-python",
   "name": "python",
   "nbconvert_exporter": "python",
   "pygments_lexer": "ipython3",
   "version": "3.9.7"
  }
 },
 "nbformat": 4,
 "nbformat_minor": 5
}
