{
 "cells": [
  {
   "cell_type": "code",
   "execution_count": 1,
   "id": "62462df5-2b04-4014-a6e8-69394a81f0f0",
   "metadata": {},
   "outputs": [],
   "source": [
    "import pandas as pd\n",
    "import os\n",
    "from sodapy import Socrata\n",
    "import geopandas as gpd\n",
    "import matplotlib.pyplot as plt\n",
    "import seaborn as sns\n",
    "import scipy.stats as stats\n",
    "import acquire\n",
    "import prepare\n",
    "import explore\n",
    "import wrangle\n",
    "\n",
    "pd.set_option('display.max_column', None)\n",
    "# plotting defaults\n",
    "plt.rc('figure', figsize=(23, 10))\n",
    "plt.style.use('seaborn-dark-palette')\n",
    "plt.rc('font', size=16)"
   ]
  },
  {
   "cell_type": "markdown",
   "id": "7b788a14-f445-4295-a796-ba9e0d6db312",
   "metadata": {},
   "source": [
    "# Acquire and Prepare the Data\n",
    "We'll use the wrangle module to acquire and prepare the data in one step"
   ]
  },
  {
   "cell_type": "code",
   "execution_count": 2,
   "id": "03ddd225-05e0-4b49-bea7-f3ce70fad6a8",
   "metadata": {},
   "outputs": [
    {
     "name": "stdout",
     "output_type": "stream",
     "text": [
      "Using cached csv\n"
     ]
    }
   ],
   "source": [
    "df = wrangle.wrangle_crime_data(drop_cleared_by_exception=True)"
   ]
  },
  {
   "cell_type": "code",
   "execution_count": 3,
   "id": "1a8b1600-24d3-4f1e-9351-5e9b5e00150f",
   "metadata": {},
   "outputs": [
    {
     "name": "stdout",
     "output_type": "stream",
     "text": [
      "(348008, 18)\n"
     ]
    },
    {
     "data": {
      "text/html": [
       "<div>\n",
       "<style scoped>\n",
       "    .dataframe tbody tr th:only-of-type {\n",
       "        vertical-align: middle;\n",
       "    }\n",
       "\n",
       "    .dataframe tbody tr th {\n",
       "        vertical-align: top;\n",
       "    }\n",
       "\n",
       "    .dataframe thead th {\n",
       "        text-align: right;\n",
       "    }\n",
       "</style>\n",
       "<table border=\"1\" class=\"dataframe\">\n",
       "  <thead>\n",
       "    <tr style=\"text-align: right;\">\n",
       "      <th></th>\n",
       "      <th>crime_type</th>\n",
       "      <th>family_violence</th>\n",
       "      <th>occurrence_time</th>\n",
       "      <th>occurrence_date</th>\n",
       "      <th>report_time</th>\n",
       "      <th>report_date</th>\n",
       "      <th>location_type</th>\n",
       "      <th>address</th>\n",
       "      <th>zip_code</th>\n",
       "      <th>council_district</th>\n",
       "      <th>sector</th>\n",
       "      <th>district</th>\n",
       "      <th>latitude</th>\n",
       "      <th>longitude</th>\n",
       "      <th>clearance_status</th>\n",
       "      <th>clearance_date</th>\n",
       "      <th>cleared</th>\n",
       "      <th>time_to_report</th>\n",
       "    </tr>\n",
       "  </thead>\n",
       "  <tbody>\n",
       "    <tr>\n",
       "      <th>34573</th>\n",
       "      <td>ASSAULT ON PUBLIC SERVANT</td>\n",
       "      <td>N</td>\n",
       "      <td>2021-12-31 23:50:00</td>\n",
       "      <td>2021-12-31</td>\n",
       "      <td>2021-12-31 23:50:00</td>\n",
       "      <td>2021-12-31</td>\n",
       "      <td>COMMERCIAL / OFFICE BUILDING</td>\n",
       "      <td>111 CONGRESS AVE</td>\n",
       "      <td>78701.0</td>\n",
       "      <td>9.0</td>\n",
       "      <td>GE</td>\n",
       "      <td>3</td>\n",
       "      <td>30.263739</td>\n",
       "      <td>-97.743651</td>\n",
       "      <td>cleared by arrest</td>\n",
       "      <td>2022-01-03</td>\n",
       "      <td>True</td>\n",
       "      <td>0 days 00:00:00</td>\n",
       "    </tr>\n",
       "    <tr>\n",
       "      <th>34574</th>\n",
       "      <td>THEFT</td>\n",
       "      <td>N</td>\n",
       "      <td>2021-12-31 23:50:00</td>\n",
       "      <td>2021-12-31</td>\n",
       "      <td>2022-01-07 14:12:00</td>\n",
       "      <td>2022-01-07</td>\n",
       "      <td>OTHER / UNKNOWN</td>\n",
       "      <td>6936 E BEN WHITE BLVD SVRD WB</td>\n",
       "      <td>78741.0</td>\n",
       "      <td>3.0</td>\n",
       "      <td>HE</td>\n",
       "      <td>5</td>\n",
       "      <td>30.215264</td>\n",
       "      <td>-97.703019</td>\n",
       "      <td>not cleared</td>\n",
       "      <td>2022-01-10</td>\n",
       "      <td>False</td>\n",
       "      <td>6 days 14:22:00</td>\n",
       "    </tr>\n",
       "    <tr>\n",
       "      <th>34575</th>\n",
       "      <td>PUBLIC INTOXICATION</td>\n",
       "      <td>N</td>\n",
       "      <td>2021-12-31 23:50:00</td>\n",
       "      <td>2021-12-31</td>\n",
       "      <td>2021-12-31 23:50:00</td>\n",
       "      <td>2021-12-31</td>\n",
       "      <td>HWY / ROAD / ALLEY/ STREET/ SIDEWALK</td>\n",
       "      <td>406 E 6TH ST</td>\n",
       "      <td>78701.0</td>\n",
       "      <td>9.0</td>\n",
       "      <td>GE</td>\n",
       "      <td>2</td>\n",
       "      <td>30.267300</td>\n",
       "      <td>-97.738857</td>\n",
       "      <td>cleared by arrest</td>\n",
       "      <td>2021-12-31</td>\n",
       "      <td>True</td>\n",
       "      <td>0 days 00:00:00</td>\n",
       "    </tr>\n",
       "    <tr>\n",
       "      <th>34576</th>\n",
       "      <td>DOC DISCHARGE GUN - PUB PLACE</td>\n",
       "      <td>N</td>\n",
       "      <td>2021-12-31 23:47:00</td>\n",
       "      <td>2021-12-31</td>\n",
       "      <td>2021-12-31 23:47:00</td>\n",
       "      <td>2021-12-31</td>\n",
       "      <td>RESIDENCE / HOME</td>\n",
       "      <td>1202 E ST JOHNS AVE</td>\n",
       "      <td>78752.0</td>\n",
       "      <td>4.0</td>\n",
       "      <td>ID</td>\n",
       "      <td>1</td>\n",
       "      <td>30.328049</td>\n",
       "      <td>-97.693683</td>\n",
       "      <td>not cleared</td>\n",
       "      <td>2022-01-05</td>\n",
       "      <td>False</td>\n",
       "      <td>0 days 00:00:00</td>\n",
       "    </tr>\n",
       "    <tr>\n",
       "      <th>34577</th>\n",
       "      <td>AGG ASLT STRANGLE/SUFFOCATE</td>\n",
       "      <td>Y</td>\n",
       "      <td>2021-12-31 23:40:00</td>\n",
       "      <td>2021-12-31</td>\n",
       "      <td>2022-01-01 00:44:00</td>\n",
       "      <td>2022-01-01</td>\n",
       "      <td>RESIDENCE / HOME</td>\n",
       "      <td>10000 N LAMAR BLVD</td>\n",
       "      <td>78758.0</td>\n",
       "      <td>4.0</td>\n",
       "      <td>ED</td>\n",
       "      <td>1</td>\n",
       "      <td>30.369262</td>\n",
       "      <td>-97.695105</td>\n",
       "      <td>not cleared</td>\n",
       "      <td>2022-01-05</td>\n",
       "      <td>False</td>\n",
       "      <td>0 days 01:04:00</td>\n",
       "    </tr>\n",
       "  </tbody>\n",
       "</table>\n",
       "</div>"
      ],
      "text/plain": [
       "                          crime_type family_violence     occurrence_time  \\\n",
       "34573      ASSAULT ON PUBLIC SERVANT               N 2021-12-31 23:50:00   \n",
       "34574                          THEFT               N 2021-12-31 23:50:00   \n",
       "34575            PUBLIC INTOXICATION               N 2021-12-31 23:50:00   \n",
       "34576  DOC DISCHARGE GUN - PUB PLACE               N 2021-12-31 23:47:00   \n",
       "34577    AGG ASLT STRANGLE/SUFFOCATE               Y 2021-12-31 23:40:00   \n",
       "\n",
       "      occurrence_date         report_time report_date  \\\n",
       "34573      2021-12-31 2021-12-31 23:50:00  2021-12-31   \n",
       "34574      2021-12-31 2022-01-07 14:12:00  2022-01-07   \n",
       "34575      2021-12-31 2021-12-31 23:50:00  2021-12-31   \n",
       "34576      2021-12-31 2021-12-31 23:47:00  2021-12-31   \n",
       "34577      2021-12-31 2022-01-01 00:44:00  2022-01-01   \n",
       "\n",
       "                              location_type                        address  \\\n",
       "34573          COMMERCIAL / OFFICE BUILDING               111 CONGRESS AVE   \n",
       "34574                       OTHER / UNKNOWN  6936 E BEN WHITE BLVD SVRD WB   \n",
       "34575  HWY / ROAD / ALLEY/ STREET/ SIDEWALK                   406 E 6TH ST   \n",
       "34576                      RESIDENCE / HOME            1202 E ST JOHNS AVE   \n",
       "34577                      RESIDENCE / HOME             10000 N LAMAR BLVD   \n",
       "\n",
       "       zip_code  council_district sector district   latitude  longitude  \\\n",
       "34573   78701.0               9.0     GE        3  30.263739 -97.743651   \n",
       "34574   78741.0               3.0     HE        5  30.215264 -97.703019   \n",
       "34575   78701.0               9.0     GE        2  30.267300 -97.738857   \n",
       "34576   78752.0               4.0     ID        1  30.328049 -97.693683   \n",
       "34577   78758.0               4.0     ED        1  30.369262 -97.695105   \n",
       "\n",
       "        clearance_status clearance_date  cleared  time_to_report  \n",
       "34573  cleared by arrest     2022-01-03     True 0 days 00:00:00  \n",
       "34574        not cleared     2022-01-10    False 6 days 14:22:00  \n",
       "34575  cleared by arrest     2021-12-31     True 0 days 00:00:00  \n",
       "34576        not cleared     2022-01-05    False 0 days 00:00:00  \n",
       "34577        not cleared     2022-01-05    False 0 days 01:04:00  "
      ]
     },
     "execution_count": 3,
     "metadata": {},
     "output_type": "execute_result"
    }
   ],
   "source": [
    "print(df.shape)\n",
    "df.head()"
   ]
  },
  {
   "cell_type": "markdown",
   "id": "54e1eb01-5eb0-4e16-9965-880010de70e7",
   "metadata": {},
   "source": [
    "# Explore the Distributions of the Data"
   ]
  },
  {
   "cell_type": "code",
   "execution_count": 4,
   "id": "34f0da21-ad21-4897-8783-91f7e3e3b9d5",
   "metadata": {},
   "outputs": [
    {
     "name": "stdout",
     "output_type": "stream",
     "text": [
      "<class 'pandas.core.frame.DataFrame'>\n",
      "Int64Index: 348008 entries, 34573 to 436548\n",
      "Data columns (total 18 columns):\n",
      " #   Column            Non-Null Count   Dtype          \n",
      "---  ------            --------------   -----          \n",
      " 0   crime_type        348008 non-null  object         \n",
      " 1   family_violence   348008 non-null  object         \n",
      " 2   occurrence_time   348008 non-null  datetime64[ns] \n",
      " 3   occurrence_date   348008 non-null  datetime64[ns] \n",
      " 4   report_time       348008 non-null  datetime64[ns] \n",
      " 5   report_date       348008 non-null  datetime64[ns] \n",
      " 6   location_type     348008 non-null  object         \n",
      " 7   address           348008 non-null  object         \n",
      " 8   zip_code          348008 non-null  float64        \n",
      " 9   council_district  348008 non-null  float64        \n",
      " 10  sector            348008 non-null  object         \n",
      " 11  district          348008 non-null  object         \n",
      " 12  latitude          348008 non-null  float64        \n",
      " 13  longitude         348008 non-null  float64        \n",
      " 14  clearance_status  348008 non-null  object         \n",
      " 15  clearance_date    348008 non-null  datetime64[ns] \n",
      " 16  cleared           348008 non-null  bool           \n",
      " 17  time_to_report    348008 non-null  timedelta64[ns]\n",
      "dtypes: bool(1), datetime64[ns](5), float64(4), object(7), timedelta64[ns](1)\n",
      "memory usage: 48.1+ MB\n"
     ]
    }
   ],
   "source": [
    "df.info()"
   ]
  },
  {
   "cell_type": "code",
   "execution_count": 5,
   "id": "b2d0443b-271c-4aeb-9d94-f2bdc116295f",
   "metadata": {},
   "outputs": [
    {
     "name": "stdout",
     "output_type": "stream",
     "text": [
      "CRIME_TYPE\n",
      "Count:\n",
      "BURGLARY OF VEHICLE                            34866\n",
      "THEFT                                          29886\n",
      "FAMILY DISTURBANCE                             24369\n",
      "CRIMINAL MISCHIEF                              19334\n",
      "AUTO THEFT                                     12766\n",
      "                                               ...  \n",
      "EXPIRED-DO NOT USE-ASSAULT ON PEACE OFFICER        1\n",
      "ATT BURGLARY OF RESIDENCE                          1\n",
      "ABUSE OF CORPSE                                    1\n",
      "COMMERCIAL BRIBERY                                 1\n",
      "BAIL JUMPING/FAIL TO APPEAR                        1\n",
      "Name: crime_type, Length: 340, dtype: int64\n",
      "\n",
      "\n",
      "Proportions:\n",
      "BURGLARY OF VEHICLE                            0.100187\n",
      "THEFT                                          0.085877\n",
      "FAMILY DISTURBANCE                             0.070024\n",
      "CRIMINAL MISCHIEF                              0.055556\n",
      "AUTO THEFT                                     0.036683\n",
      "                                                 ...   \n",
      "EXPIRED-DO NOT USE-ASSAULT ON PEACE OFFICER    0.000003\n",
      "ATT BURGLARY OF RESIDENCE                      0.000003\n",
      "ABUSE OF CORPSE                                0.000003\n",
      "COMMERCIAL BRIBERY                             0.000003\n",
      "BAIL JUMPING/FAIL TO APPEAR                    0.000003\n",
      "Name: crime_type, Length: 340, dtype: float64\n",
      "--------------------------\n",
      "\n",
      "\n",
      "FAMILY_VIOLENCE\n",
      "Count:\n",
      "N    320325\n",
      "Y     27683\n",
      "Name: family_violence, dtype: int64\n",
      "\n",
      "\n",
      "Proportions:\n",
      "N    0.920453\n",
      "Y    0.079547\n",
      "Name: family_violence, dtype: float64\n",
      "--------------------------\n",
      "\n",
      "\n",
      "LOCATION_TYPE\n",
      "Count:\n",
      "RESIDENCE / HOME                                   138816\n",
      "HWY / ROAD / ALLEY/ STREET/ SIDEWALK                58510\n",
      "PARKING /DROP LOT/ GARAGE                           45225\n",
      "OTHER / UNKNOWN                                     25861\n",
      "COMMERCIAL / OFFICE BUILDING                         9705\n",
      "HOTEL / MOTEL / ETC.                                 7794\n",
      "DEPARTMENT / DISCOUNT STORE                          7666\n",
      "RESTAURANT                                           7080\n",
      "GROCERY / SUPERMARKET                                5982\n",
      "CONVENIENCE STORE                                    5436\n",
      "SERVICE/ GAS STATION                                 5049\n",
      "DRUG STORE / DOCTOR'S OFFICE / HOSPITAL              4100\n",
      "BAR / NIGHTCLUB                                      3955\n",
      "PARK / PLAYGROUND                                    3137\n",
      "SPECIALTY  STORE                                     2946\n",
      "AIR / BUS / TRAIN TERMINAL                           2050\n",
      "CONSTRUCTION SITE                                    1567\n",
      "BANK / SAVINGS & LOAN                                1556\n",
      "GOVERNMENT / PUBLIC BUILDING                         1553\n",
      "RENTAL STORAGE FACILITY                              1474\n",
      "LIQUOR STORE                                         1060\n",
      "SHOPPING MALL                                         979\n",
      "AUTO DEALERSHIP NEW / USED                            888\n",
      "CHURCH / SYNAGOGUE / TEMPLE / MOSQUE                  799\n",
      "ABANDONED/CONDEMNED STRUCTURE                         697\n",
      "SHELTER-MISSION / HOMELESS                            677\n",
      "FIELD / WOODS                                         637\n",
      "SCHOOL - ELEMENTARY / SECONDARY                       556\n",
      "COMMUNITY CENTER                                      355\n",
      "SCHOOL - COLLEGE / UNIVERSITY                         309\n",
      "DAYCARE FACILITY                                      223\n",
      "SCHOOL / COLLEGE                                      203\n",
      "CAMP / CAMPGROUND                                     193\n",
      "JAIL / PRISON/PENITENTIARY/CORRECTIONS FACILITY       161\n",
      "GAMBLING FACILITY / CASINO / RACE TRACK               138\n",
      "ATM SEPARATE FROM BANK                                136\n",
      "CYBERSPACE                                            122\n",
      "LAKE / WATERWAY/BEACH                                 121\n",
      "INDUSTRIAL SITE                                       101\n",
      "ARENA / STADIUM / FAIRGROUNDS / COLISEUM               67\n",
      "AMUSEMENT PARK                                         46\n",
      "REST AREA                                              46\n",
      "DOCK / WHARF / FREIGHT / MODAL TERMINAL                23\n",
      "MILITARY INSTALLATION                                   3\n",
      "FARM FACILITY                                           3\n",
      "TRIBAL LANDS                                            3\n",
      "Name: location_type, dtype: int64\n",
      "\n",
      "\n",
      "Proportions:\n",
      "RESIDENCE / HOME                                   0.398887\n",
      "HWY / ROAD / ALLEY/ STREET/ SIDEWALK               0.168128\n",
      "PARKING /DROP LOT/ GARAGE                          0.129954\n",
      "OTHER / UNKNOWN                                    0.074312\n",
      "COMMERCIAL / OFFICE BUILDING                       0.027887\n",
      "HOTEL / MOTEL / ETC.                               0.022396\n",
      "DEPARTMENT / DISCOUNT STORE                        0.022028\n",
      "RESTAURANT                                         0.020344\n",
      "GROCERY / SUPERMARKET                              0.017189\n",
      "CONVENIENCE STORE                                  0.015620\n",
      "SERVICE/ GAS STATION                               0.014508\n",
      "DRUG STORE / DOCTOR'S OFFICE / HOSPITAL            0.011781\n",
      "BAR / NIGHTCLUB                                    0.011365\n",
      "PARK / PLAYGROUND                                  0.009014\n",
      "SPECIALTY  STORE                                   0.008465\n",
      "AIR / BUS / TRAIN TERMINAL                         0.005891\n",
      "CONSTRUCTION SITE                                  0.004503\n",
      "BANK / SAVINGS & LOAN                              0.004471\n",
      "GOVERNMENT / PUBLIC BUILDING                       0.004463\n",
      "RENTAL STORAGE FACILITY                            0.004236\n",
      "LIQUOR STORE                                       0.003046\n",
      "SHOPPING MALL                                      0.002813\n",
      "AUTO DEALERSHIP NEW / USED                         0.002552\n",
      "CHURCH / SYNAGOGUE / TEMPLE / MOSQUE               0.002296\n",
      "ABANDONED/CONDEMNED STRUCTURE                      0.002003\n",
      "SHELTER-MISSION / HOMELESS                         0.001945\n",
      "FIELD / WOODS                                      0.001830\n",
      "SCHOOL - ELEMENTARY / SECONDARY                    0.001598\n",
      "COMMUNITY CENTER                                   0.001020\n",
      "SCHOOL - COLLEGE / UNIVERSITY                      0.000888\n",
      "DAYCARE FACILITY                                   0.000641\n",
      "SCHOOL / COLLEGE                                   0.000583\n",
      "CAMP / CAMPGROUND                                  0.000555\n",
      "JAIL / PRISON/PENITENTIARY/CORRECTIONS FACILITY    0.000463\n",
      "GAMBLING FACILITY / CASINO / RACE TRACK            0.000397\n",
      "ATM SEPARATE FROM BANK                             0.000391\n",
      "CYBERSPACE                                         0.000351\n",
      "LAKE / WATERWAY/BEACH                              0.000348\n",
      "INDUSTRIAL SITE                                    0.000290\n",
      "ARENA / STADIUM / FAIRGROUNDS / COLISEUM           0.000193\n",
      "AMUSEMENT PARK                                     0.000132\n",
      "REST AREA                                          0.000132\n",
      "DOCK / WHARF / FREIGHT / MODAL TERMINAL            0.000066\n",
      "MILITARY INSTALLATION                              0.000009\n",
      "FARM FACILITY                                      0.000009\n",
      "TRIBAL LANDS                                       0.000009\n",
      "Name: location_type, dtype: float64\n",
      "--------------------------\n",
      "\n",
      "\n",
      "ADDRESS\n",
      "Count:\n",
      "4110 GUADALUPE ST                 1949\n",
      "1030 NORWOOD PARK BLVD            1247\n",
      "500 E 7TH ST                       933\n",
      "3600 PRESIDENTIAL BLVD             919\n",
      "2901 S CAPITAL OF TEXAS HWY NB     865\n",
      "                                  ... \n",
      "2913 BEANNA ST                       1\n",
      "3110 LINNET DR                       1\n",
      "100 RALPH ABLANEDO DR                1\n",
      "13509 COOMES DR                      1\n",
      "8838 HONEYSUCKLE TRL                 1\n",
      "Name: address, Length: 78814, dtype: int64\n",
      "\n",
      "\n",
      "Proportions:\n",
      "4110 GUADALUPE ST                 0.005600\n",
      "1030 NORWOOD PARK BLVD            0.003583\n",
      "500 E 7TH ST                      0.002681\n",
      "3600 PRESIDENTIAL BLVD            0.002641\n",
      "2901 S CAPITAL OF TEXAS HWY NB    0.002486\n",
      "                                    ...   \n",
      "2913 BEANNA ST                    0.000003\n",
      "3110 LINNET DR                    0.000003\n",
      "100 RALPH ABLANEDO DR             0.000003\n",
      "13509 COOMES DR                   0.000003\n",
      "8838 HONEYSUCKLE TRL              0.000003\n",
      "Name: address, Length: 78814, dtype: float64\n",
      "--------------------------\n",
      "\n",
      "\n",
      "SECTOR\n",
      "Count:\n",
      "ED    49760\n",
      "DA    45050\n",
      "FR    42534\n",
      "AD    41851\n",
      "BA    37392\n",
      "CH    36004\n",
      "HE    35914\n",
      "ID    35559\n",
      "GE    21697\n",
      "AP     1496\n",
      "88      607\n",
      "UT      144\n",
      "Name: sector, dtype: int64\n",
      "\n",
      "\n",
      "Proportions:\n",
      "ED    0.142985\n",
      "DA    0.129451\n",
      "FR    0.122221\n",
      "AD    0.120259\n",
      "BA    0.107446\n",
      "CH    0.103457\n",
      "HE    0.103199\n",
      "ID    0.102179\n",
      "GE    0.062346\n",
      "AP    0.004299\n",
      "88    0.001744\n",
      "UT    0.000414\n",
      "Name: sector, dtype: float64\n",
      "--------------------------\n",
      "\n",
      "\n",
      "DISTRICT\n",
      "Count:\n",
      "2     69144\n",
      "1     65263\n",
      "3     42435\n",
      "4     42051\n",
      "5     35573\n",
      "7     34602\n",
      "6     33123\n",
      "8     23553\n",
      "S       980\n",
      "88      607\n",
      "D       383\n",
      "B       122\n",
      "A        71\n",
      "P        68\n",
      "C        33\n",
      "Name: district, dtype: int64\n",
      "\n",
      "\n",
      "Proportions:\n",
      "2     0.198685\n",
      "1     0.187533\n",
      "3     0.121937\n",
      "4     0.120833\n",
      "5     0.102219\n",
      "7     0.099429\n",
      "6     0.095179\n",
      "8     0.067679\n",
      "S     0.002816\n",
      "88    0.001744\n",
      "D     0.001101\n",
      "B     0.000351\n",
      "A     0.000204\n",
      "P     0.000195\n",
      "C     0.000095\n",
      "Name: district, dtype: float64\n",
      "--------------------------\n",
      "\n",
      "\n",
      "CLEARANCE_STATUS\n",
      "Count:\n",
      "not cleared          275577\n",
      "cleared by arrest     72431\n",
      "Name: clearance_status, dtype: int64\n",
      "\n",
      "\n",
      "Proportions:\n",
      "not cleared          0.79187\n",
      "cleared by arrest    0.20813\n",
      "Name: clearance_status, dtype: float64\n",
      "--------------------------\n",
      "\n",
      "\n"
     ]
    }
   ],
   "source": [
    "# Use .describe with object columns\n",
    "obj_cols = df.columns[[df[col].dtype == 'O' for col in df.columns]]\n",
    "obj_cols\n",
    "\n",
    "for col in obj_cols:\n",
    "    print(col.upper())\n",
    "    print('Count:')\n",
    "    print(df[col].value_counts())\n",
    "    print('\\n')\n",
    "    print('Proportions:')\n",
    "    print(df[col].value_counts(normalize=True, dropna=False))\n",
    "    print('--------------------------')\n",
    "    print('\\n')\n"
   ]
  },
  {
   "cell_type": "code",
   "execution_count": 6,
   "id": "958466c7-50a7-4f88-a224-30e4bc762302",
   "metadata": {},
   "outputs": [
    {
     "data": {
      "text/plain": [
       "9.0     56210\n",
       "3.0     51470\n",
       "4.0     48454\n",
       "7.0     39783\n",
       "1.0     39405\n",
       "2.0     33079\n",
       "5.0     28316\n",
       "6.0     20450\n",
       "10.0    16077\n",
       "8.0     14764\n",
       "Name: council_district, dtype: int64"
      ]
     },
     "execution_count": 6,
     "metadata": {},
     "output_type": "execute_result"
    }
   ],
   "source": [
    "df.council_district.value_counts()"
   ]
  },
  {
   "cell_type": "markdown",
   "id": "c6fa6fb6-6a92-4e51-9ef0-22ebc492ed5d",
   "metadata": {},
   "source": [
    "# Split the Data for Exploratation"
   ]
  },
  {
   "cell_type": "code",
   "execution_count": 7,
   "id": "d94c73b6-3ab3-4b1d-a7ac-bce56bd637f5",
   "metadata": {},
   "outputs": [
    {
     "data": {
      "text/plain": [
       "((194884, 18), (83522, 18), (69602, 18))"
      ]
     },
     "execution_count": 7,
     "metadata": {},
     "output_type": "execute_result"
    }
   ],
   "source": [
    "train, validate, test = prepare.split_data(df)\n",
    "train.shape, validate.shape, test.shape"
   ]
  },
  {
   "cell_type": "code",
   "execution_count": 8,
   "id": "af85254f-6b34-4c45-9fbe-65d3b6904d9d",
   "metadata": {},
   "outputs": [],
   "source": [
    "train_copy = train.copy()"
   ]
  },
  {
   "cell_type": "markdown",
   "id": "8117d6e1-6817-4a41-a8a3-050640c7dcb3",
   "metadata": {},
   "source": [
    "# Copy of Train and adding GeoPandas"
   ]
  },
  {
   "cell_type": "code",
   "execution_count": 9,
   "id": "e9000e84-fbea-4d54-bce4-abfffb56e97e",
   "metadata": {},
   "outputs": [],
   "source": [
    "#Assign my .shp file to a variable named “asutin_map”\n",
    "austin_map = gpd.read_file('Boundaries_zipcode/geo_export_9b5aa23d-57b1-41f4-b4f9-0a9d97fac540.shp')"
   ]
  },
  {
   "cell_type": "code",
   "execution_count": 10,
   "id": "16c4b51e-d2f8-41b9-b5e5-e4c761682d5f",
   "metadata": {},
   "outputs": [],
   "source": [
    "austin_map = austin_map.drop(columns =['affgeoid10','geoid10','aland10','awater10'])"
   ]
  },
  {
   "cell_type": "code",
   "execution_count": 11,
   "id": "e4f6c5d9-8771-4e0f-ad0f-aa7c17526120",
   "metadata": {},
   "outputs": [
    {
     "name": "stdout",
     "output_type": "stream",
     "text": [
      "<class 'geopandas.geodataframe.GeoDataFrame'>\n",
      "RangeIndex: 54 entries, 0 to 53\n",
      "Data columns (total 2 columns):\n",
      " #   Column    Non-Null Count  Dtype   \n",
      "---  ------    --------------  -----   \n",
      " 0   zip_code  54 non-null     object  \n",
      " 1   geometry  54 non-null     geometry\n",
      "dtypes: geometry(1), object(1)\n",
      "memory usage: 992.0+ bytes\n"
     ]
    }
   ],
   "source": [
    "austin_map = austin_map.rename(columns ={'zcta5ce10': 'zip_code'})\n",
    "austin_map.info()"
   ]
  },
  {
   "cell_type": "code",
   "execution_count": 12,
   "id": "d34dae09-d123-4187-9156-9f8416120ed8",
   "metadata": {},
   "outputs": [],
   "source": [
    "austin_map['zip_code'] = austin_map.zip_code.astype('float64')"
   ]
  },
  {
   "cell_type": "code",
   "execution_count": 13,
   "id": "733ab51a-2759-4297-9a91-bc10ed951356",
   "metadata": {},
   "outputs": [
    {
     "name": "stdout",
     "output_type": "stream",
     "text": [
      "<class 'pandas.core.frame.DataFrame'>\n",
      "Int64Index: 194884 entries, 229881 to 160882\n",
      "Data columns (total 18 columns):\n",
      " #   Column            Non-Null Count   Dtype          \n",
      "---  ------            --------------   -----          \n",
      " 0   crime_type        194884 non-null  object         \n",
      " 1   family_violence   194884 non-null  object         \n",
      " 2   occurrence_time   194884 non-null  datetime64[ns] \n",
      " 3   occurrence_date   194884 non-null  datetime64[ns] \n",
      " 4   report_time       194884 non-null  datetime64[ns] \n",
      " 5   report_date       194884 non-null  datetime64[ns] \n",
      " 6   location_type     194884 non-null  object         \n",
      " 7   address           194884 non-null  object         \n",
      " 8   zip_code          194884 non-null  float64        \n",
      " 9   council_district  194884 non-null  float64        \n",
      " 10  sector            194884 non-null  object         \n",
      " 11  district          194884 non-null  object         \n",
      " 12  latitude          194884 non-null  float64        \n",
      " 13  longitude         194884 non-null  float64        \n",
      " 14  clearance_status  194884 non-null  object         \n",
      " 15  clearance_date    194884 non-null  datetime64[ns] \n",
      " 16  cleared           194884 non-null  bool           \n",
      " 17  time_to_report    194884 non-null  timedelta64[ns]\n",
      "dtypes: bool(1), datetime64[ns](5), float64(4), object(7), timedelta64[ns](1)\n",
      "memory usage: 26.9+ MB\n"
     ]
    }
   ],
   "source": [
    "train_copy.info()"
   ]
  },
  {
   "cell_type": "code",
   "execution_count": 14,
   "id": "5558d8e1-4b75-463a-8c12-27e56e8f4aed",
   "metadata": {},
   "outputs": [],
   "source": [
    "#create a new dataframe with both our geographical and statistical data in it by merging our two tables together.\n",
    "new_df = austin_map.merge(train_copy, on ='zip_code')"
   ]
  },
  {
   "cell_type": "code",
   "execution_count": 15,
   "id": "75584524-e251-4923-9bcc-53377ae517d5",
   "metadata": {},
   "outputs": [],
   "source": [
    "new_df.to_csv('Geo_Crime_Reports.csv')"
   ]
  },
  {
   "cell_type": "code",
   "execution_count": 16,
   "id": "44185dfe-348d-4d62-98e6-74909c635624",
   "metadata": {},
   "outputs": [
    {
     "name": "stdout",
     "output_type": "stream",
     "text": [
      "<class 'geopandas.geodataframe.GeoDataFrame'>\n",
      "Int64Index: 194879 entries, 0 to 194878\n",
      "Data columns (total 19 columns):\n",
      " #   Column            Non-Null Count   Dtype          \n",
      "---  ------            --------------   -----          \n",
      " 0   zip_code          194879 non-null  float64        \n",
      " 1   geometry          194879 non-null  geometry       \n",
      " 2   crime_type        194879 non-null  object         \n",
      " 3   family_violence   194879 non-null  object         \n",
      " 4   occurrence_time   194879 non-null  datetime64[ns] \n",
      " 5   occurrence_date   194879 non-null  datetime64[ns] \n",
      " 6   report_time       194879 non-null  datetime64[ns] \n",
      " 7   report_date       194879 non-null  datetime64[ns] \n",
      " 8   location_type     194879 non-null  object         \n",
      " 9   address           194879 non-null  object         \n",
      " 10  council_district  194879 non-null  float64        \n",
      " 11  sector            194879 non-null  object         \n",
      " 12  district          194879 non-null  object         \n",
      " 13  latitude          194879 non-null  float64        \n",
      " 14  longitude         194879 non-null  float64        \n",
      " 15  clearance_status  194879 non-null  object         \n",
      " 16  clearance_date    194879 non-null  datetime64[ns] \n",
      " 17  cleared           194879 non-null  bool           \n",
      " 18  time_to_report    194879 non-null  timedelta64[ns]\n",
      "dtypes: bool(1), datetime64[ns](5), float64(4), geometry(1), object(7), timedelta64[ns](1)\n",
      "memory usage: 28.4+ MB\n"
     ]
    }
   ],
   "source": [
    "new_df.info()"
   ]
  },
  {
   "cell_type": "code",
   "execution_count": 17,
   "id": "3b09ce09-d3b7-48f1-80b1-613fe010a880",
   "metadata": {},
   "outputs": [
    {
     "data": {
      "image/png": "[encoded data removed]",
      "text/plain": [
       "<Figure size 576x576 with 2 Axes>"
      ]
     },
     "metadata": {
      "needs_background": "light"
     },
     "output_type": "display_data"
    }
   ],
   "source": [
    "#Crime_type by zip_code\n",
    "fig, ax = plt.subplots(1, figsize=(8, 8))\n",
    "plt.xticks(rotation=45)\n",
    "new_df.plot(column=\"crime_type\", cmap=\"Reds\", linewidth=0.4, ax=ax, edgecolor=\".4\")\n",
    "bar_info = plt.cm.ScalarMappable(cmap=\"Reds\", norm=plt.Normalize(vmin=0, vmax=120))\n",
    "bar_info._A = []\n",
    "cbar = fig.colorbar(bar_info)"
   ]
  },
  {
   "cell_type": "markdown",
   "id": "fdeb24cf-bf36-41a1-ac44-6c5613ee2d81",
   "metadata": {},
   "source": [
    "# Continuing exploration on Train"
   ]
  },
  {
   "cell_type": "code",
   "execution_count": 18,
   "id": "51dab2f4-0928-4d41-a1e9-6da6b23be2d3",
   "metadata": {},
   "outputs": [
    {
     "data": {
      "text/plain": [
       "9.0     655\n",
       "3.0     329\n",
       "4.0     246\n",
       "7.0     217\n",
       "1.0     191\n",
       "5.0     120\n",
       "2.0     118\n",
       "6.0      86\n",
       "10.0     60\n",
       "8.0      36\n",
       "Name: council_district, dtype: int64"
      ]
     },
     "execution_count": 18,
     "metadata": {},
     "output_type": "execute_result"
    }
   ],
   "source": [
    "train[train.crime_type == 'PUBLIC INTOXICATION'].council_district.value_counts()"
   ]
  },
  {
   "cell_type": "code",
   "execution_count": 19,
   "id": "78700739-f0d0-4688-b598-352ad93e5c89",
   "metadata": {},
   "outputs": [
    {
     "data": {
      "text/plain": [
       "Series([], Name: cleared, dtype: int64)"
      ]
     },
     "execution_count": 19,
     "metadata": {},
     "output_type": "execute_result"
    }
   ],
   "source": [
    "train[train.family_violence == 'True'].cleared.value_counts()"
   ]
  },
  {
   "cell_type": "markdown",
   "id": "d1b142f0-5e07-4ab3-ab27-9772044f0647",
   "metadata": {},
   "source": [
    "## crime type exploration\n",
    "\n",
    "- murders - 85 total, 8 capital murders in set the rest are murders\n",
    "- 2061 public intoxications\n",
    "- 15.5k family violence reports"
   ]
  },
  {
   "cell_type": "code",
   "execution_count": 20,
   "id": "007cd627-fc02-4190-b751-8a142a5a157e",
   "metadata": {},
   "outputs": [
    {
     "data": {
      "text/plain": [
       "N    179322\n",
       "Y     15562\n",
       "Name: family_violence, dtype: int64"
      ]
     },
     "execution_count": 20,
     "metadata": {},
     "output_type": "execute_result"
    }
   ],
   "source": [
    "train.family_violence.value_counts()"
   ]
  },
  {
   "cell_type": "code",
   "execution_count": 21,
   "id": "5857a90c-cb9d-4a4b-875b-d73ada7be94d",
   "metadata": {},
   "outputs": [
    {
     "name": "stdout",
     "output_type": "stream",
     "text": [
      "<class 'pandas.core.frame.DataFrame'>\n",
      "Int64Index: 194884 entries, 229881 to 160882\n",
      "Data columns (total 18 columns):\n",
      " #   Column            Non-Null Count   Dtype          \n",
      "---  ------            --------------   -----          \n",
      " 0   crime_type        194884 non-null  object         \n",
      " 1   family_violence   194884 non-null  object         \n",
      " 2   occurrence_time   194884 non-null  datetime64[ns] \n",
      " 3   occurrence_date   194884 non-null  datetime64[ns] \n",
      " 4   report_time       194884 non-null  datetime64[ns] \n",
      " 5   report_date       194884 non-null  datetime64[ns] \n",
      " 6   location_type     194884 non-null  object         \n",
      " 7   address           194884 non-null  object         \n",
      " 8   zip_code          194884 non-null  float64        \n",
      " 9   council_district  194884 non-null  float64        \n",
      " 10  sector            194884 non-null  object         \n",
      " 11  district          194884 non-null  object         \n",
      " 12  latitude          194884 non-null  float64        \n",
      " 13  longitude         194884 non-null  float64        \n",
      " 14  clearance_status  194884 non-null  object         \n",
      " 15  clearance_date    194884 non-null  datetime64[ns] \n",
      " 16  cleared           194884 non-null  bool           \n",
      " 17  time_to_report    194884 non-null  timedelta64[ns]\n",
      "dtypes: bool(1), datetime64[ns](5), float64(4), object(7), timedelta64[ns](1)\n",
      "memory usage: 26.9+ MB\n"
     ]
    }
   ],
   "source": [
    "train.info()"
   ]
  },
  {
   "cell_type": "code",
   "execution_count": 22,
   "id": "d11d8d62-a02b-4aea-a229-d64fb82427c0",
   "metadata": {},
   "outputs": [
    {
     "data": {
      "text/plain": [
       "9.0     31425\n",
       "3.0     28882\n",
       "4.0     27091\n",
       "7.0     22339\n",
       "1.0     21931\n",
       "2.0     18517\n",
       "5.0     15924\n",
       "6.0     11488\n",
       "10.0     9033\n",
       "8.0      8254\n",
       "Name: council_district, dtype: int64"
      ]
     },
     "execution_count": 22,
     "metadata": {},
     "output_type": "execute_result"
    }
   ],
   "source": [
    "train.council_district.value_counts()"
   ]
  },
  {
   "cell_type": "markdown",
   "id": "67ecfed4-764d-4603-ade4-2659b56a419e",
   "metadata": {},
   "source": [
    "### General takeaways\n",
    "- total of 195K rows of crime\n",
    "- district 9 has highest count at 31k\n",
    "    - UT campus, 6th Street, Rainey Street, capital\n",
    "- district 3/4 have roughly the same at 28k\n",
    "    - district 3 - ladybird lake, ACC\n",
    "- district 7/1 have 22k each of crime\n",
    "- district 2/5 have about 17k\n",
    "- district 6/10/8 have the lowest counts by far\n",
    "    - 'west' austin, more on the outskirts\n",
    "    - district 8 - zilker park, barton springs pool\n",
    "    - district 10 - lake travis, westlake\n",
    "    - district 6 - borders cedar park\n",
    "    \n",
    "- Seasonality\n",
    "- SXSW - March\n",
    "- ACL - October\n",
    "- School - STARTS late August | ENDS Early December\n",
    "            STARTS early January | ENDS Late May\n",
    "\n",
    "\n",
    "#### What kind of crime is in each district?"
   ]
  },
  {
   "cell_type": "code",
   "execution_count": 23,
   "id": "bf7e2285-3657-4f40-bdc2-2219a95f3a5d",
   "metadata": {},
   "outputs": [
    {
     "data": {
      "text/plain": [
       "9.0     31425\n",
       "3.0     28882\n",
       "4.0     27091\n",
       "7.0     22339\n",
       "1.0     21931\n",
       "2.0     18517\n",
       "5.0     15924\n",
       "6.0     11488\n",
       "10.0     9033\n",
       "8.0      8254\n",
       "Name: council_district, dtype: int64"
      ]
     },
     "execution_count": 23,
     "metadata": {},
     "output_type": "execute_result"
    }
   ],
   "source": [
    "train.council_district.value_counts()"
   ]
  },
  {
   "cell_type": "code",
   "execution_count": 24,
   "id": "9e52c419-a920-47d7-98f2-a26ef86f07cd",
   "metadata": {},
   "outputs": [
    {
     "data": {
      "text/plain": [
       "((21931, 18),\n",
       " (18517, 18),\n",
       " (28882, 18),\n",
       " (27091, 18),\n",
       " (15924, 18),\n",
       " (11488, 18),\n",
       " (22339, 18),\n",
       " (8254, 18),\n",
       " (31425, 18),\n",
       " (9033, 18))"
      ]
     },
     "execution_count": 24,
     "metadata": {},
     "output_type": "execute_result"
    }
   ],
   "source": [
    "one = train[train.council_district == 1]\n",
    "two = train[train.council_district == 2]\n",
    "three = train[train.council_district == 3]\n",
    "four = train[train.council_district == 4]\n",
    "five = train[train.council_district == 5]\n",
    "six = train[train.council_district == 6]\n",
    "seven = train[train.council_district == 7]\n",
    "eight = train[train.council_district == 8]\n",
    "nine = train[train.council_district == 9]\n",
    "ten = train[train.council_district == 10]\n",
    "\n",
    "\n",
    "one.shape, two.shape, three.shape, four.shape, five.shape, six.shape, seven.shape, eight.shape, nine.shape, ten.shape"
   ]
  },
  {
   "cell_type": "code",
   "execution_count": 25,
   "id": "c90f3e08-e1f1-46f4-96a6-8d0ab4c7ee0b",
   "metadata": {},
   "outputs": [
    {
     "data": {
      "text/plain": [
       "THEFT                             3079\n",
       "BURGLARY OF VEHICLE               3010\n",
       "CRIMINAL MISCHIEF                 1673\n",
       "ASSAULT BY CONTACT                1656\n",
       "ASSAULT WITH INJURY               1414\n",
       "                                  ... \n",
       "ASSAULT OF A PREGNANT WOMAN          1\n",
       "DOC WINDOW PEEPING - PUB AREA        1\n",
       "MANF CONTROLLED SUB- SYN NARC        1\n",
       "UNLAWFUL RESTRAINT FAM/DAT VIO       1\n",
       "UNLAWFUL INTERCEPTION                1\n",
       "Name: crime_type, Length: 258, dtype: int64"
      ]
     },
     "execution_count": 25,
     "metadata": {},
     "output_type": "execute_result"
    }
   ],
   "source": [
    "# district 9 has the most crime\n",
    "nine.crime_type.value_counts()"
   ]
  },
  {
   "cell_type": "code",
   "execution_count": 26,
   "id": "fb0a8afe-06e5-4d59-912f-43a6823ba34e",
   "metadata": {},
   "outputs": [
    {
     "data": {
      "text/plain": [
       "THEFT                             2594\n",
       "BURGLARY OF VEHICLE               2532\n",
       "FAMILY DISTURBANCE                1993\n",
       "CRIMINAL MISCHIEF                 1542\n",
       "AUTO THEFT                        1118\n",
       "                                  ... \n",
       "VOCO SOLICITATION PROHIBIT           1\n",
       "KEEPING GAMBLING PLACE               1\n",
       "DISRUPTING MEETING/PROCESSION        1\n",
       "POCKET PICKING                       1\n",
       "TELECOMMUNICATION CRIMES/OTHER       1\n",
       "Name: crime_type, Length: 238, dtype: int64"
      ]
     },
     "execution_count": 26,
     "metadata": {},
     "output_type": "execute_result"
    }
   ],
   "source": [
    "# district 3 is also in downtown, looking at the crime type\n",
    "three.crime_type.value_counts()"
   ]
  },
  {
   "cell_type": "code",
   "execution_count": 27,
   "id": "bf6d614d-0ce6-46d2-a181-ce0c1cf9298d",
   "metadata": {},
   "outputs": [
    {
     "data": {
      "text/plain": [
       "BURGLARY OF VEHICLE               1181\n",
       "THEFT                              882\n",
       "FAMILY DISTURBANCE                 395\n",
       "THEFT BY SHOPLIFTING               348\n",
       "CRIMINAL MISCHIEF                  348\n",
       "                                  ... \n",
       "POSS OF ALCOHOL-AGE 16 & UNDER       1\n",
       "PROBATION VIOL                       1\n",
       "HINDERING APPREHENSION               1\n",
       "HARBORING RUNAWAY CHILD              1\n",
       "VIOL CITY ORDINANCE - SOUND          1\n",
       "Name: crime_type, Length: 185, dtype: int64"
      ]
     },
     "execution_count": 27,
     "metadata": {},
     "output_type": "execute_result"
    }
   ],
   "source": [
    "# district 8 is west austin, looking at crime type\n",
    "eight.crime_type.value_counts()"
   ]
  },
  {
   "cell_type": "code",
   "execution_count": 28,
   "id": "45e5ce9e-efa4-4d4b-a290-557777df3638",
   "metadata": {},
   "outputs": [
    {
     "data": {
      "text/plain": [
       "BURGLARY OF VEHICLE              1783\n",
       "THEFT                             723\n",
       "CRIMINAL MISCHIEF                 487\n",
       "FAMILY DISTURBANCE                476\n",
       "HARASSMENT                        375\n",
       "                                 ... \n",
       "CRASH/CRIM NEG HOMICIDE             1\n",
       "UCW LICENSE PREMISE                 1\n",
       "DOC WINDOW PEEPING - PUB AREA       1\n",
       "INHALANT ABUSE                      1\n",
       "MANF CONTROLLED SUB - OTHER         1\n",
       "Name: crime_type, Length: 187, dtype: int64"
      ]
     },
     "execution_count": 28,
     "metadata": {},
     "output_type": "execute_result"
    }
   ],
   "source": [
    "# district 10 is more closer to lake travis, second lowest crime count\n",
    "ten.crime_type.value_counts()"
   ]
  },
  {
   "cell_type": "markdown",
   "id": "105f8f9b-aa4c-434b-bdc4-dd86d34d6399",
   "metadata": {},
   "source": [
    "## Districts and their level of crime in descending order\n",
    "### Questions for Ryan\n",
    "- What does it mean for the case to not be cleared\n",
    "-- not cleared means charge has not been given yet. not enough evidence to be charged\n",
    "-- cleared by exception doesn't mean it was ended in arrest. person could have died\n",
    "-- cleared by arrest\n",
    "- Did he notice seasonality trends\n",
    "- pre/post covid numbers\n",
    "-- family violence pre and post pandemic\n",
    "-- what days are higher in family violence\n",
    "- single incident top charge\n",
    "-- "
   ]
  },
  {
   "cell_type": "code",
   "execution_count": 29,
   "id": "43d34ee4-52c4-49f6-8cd9-34973b713013",
   "metadata": {},
   "outputs": [
    {
     "data": {
      "text/plain": [
       "family_violence  crime_type                    \n",
       "N                BURGLARY OF VEHICLE               19455\n",
       "                 THEFT                             16622\n",
       "                 FAMILY DISTURBANCE                13661\n",
       "                 CRIMINAL MISCHIEF                 10821\n",
       "                 AUTO THEFT                         7204\n",
       "                                                   ...  \n",
       "Y                KIDNAPPING FAM VIO                    1\n",
       "                 MANSLAUGHTER                          1\n",
       "                 PUBLIC INTOXICATION                   1\n",
       "                 ROBBERY BY THREAT                     1\n",
       "                 VIOL OF EMERG PROTECTIVE ORDER        1\n",
       "Name: crime_type, Length: 390, dtype: int64"
      ]
     },
     "execution_count": 29,
     "metadata": {},
     "output_type": "execute_result"
    }
   ],
   "source": [
    "train.groupby('family_violence').crime_type.value_counts()"
   ]
  },
  {
   "cell_type": "code",
   "execution_count": 30,
   "id": "bbdb1c8d-4ab3-4aea-9c01-2909918f5947",
   "metadata": {},
   "outputs": [
    {
     "data": {
      "image/png": "[encoded data removed]",
      "text/plain": [
       "<Figure size 1656x720 with 1 Axes>"
      ]
     },
     "metadata": {
      "needs_background": "light"
     },
     "output_type": "display_data"
    }
   ],
   "source": [
    "def council_district_crime(train):\n",
    "    '''\n",
    "    This function will take in the train dataset and return a seaborn \n",
    "    visual of the council district and their crime count in descending order\n",
    "    '''\n",
    "    ax = sns.countplot(data = train, y = 'council_district',order = train['council_district'].value_counts(ascending = False).index, color = 'seagreen')\n",
    "    plt.xlabel('Crime Count',fontsize=14)# set up the x axis. \n",
    "    plt.ylabel('Council District',fontsize=14)# set up the y axis\n",
    "    plt.title('Council District Crime in Descending Order\\n',fontsize=20) # set up the title.\n",
    "    plt.show()\n",
    "\n",
    "    return\n",
    "\n",
    "council_district_crime(train)"
   ]
  },
  {
   "cell_type": "code",
   "execution_count": 31,
   "id": "b0109f0c-8371-4d2b-9a4d-f0fd8aff1b01",
   "metadata": {},
   "outputs": [
    {
     "data": {
      "text/plain": [
       "2     38747\n",
       "1     36404\n",
       "3     23969\n",
       "4     23444\n",
       "5     19789\n",
       "7     19460\n",
       "6     18550\n",
       "8     13259\n",
       "S       537\n",
       "88      359\n",
       "D       193\n",
       "B        69\n",
       "A        44\n",
       "P        42\n",
       "C        18\n",
       "Name: district, dtype: int64"
      ]
     },
     "execution_count": 31,
     "metadata": {},
     "output_type": "execute_result"
    }
   ],
   "source": [
    "train.district.value_counts()"
   ]
  },
  {
   "cell_type": "code",
   "execution_count": 32,
   "id": "75937614-6a65-48ad-820f-b3008af66b7c",
   "metadata": {},
   "outputs": [],
   "source": [
    "def district_crime(train):\n",
    "    \"\"\"\n",
    "    This function is to create a visual to show all districts in descending order. \n",
    "    \"\"\"\n",
    "    # creating district crime frequency (horizontal)\n",
    "\n",
    "    train.district.value_counts(ascending = True, normalize = False).plot.barh(color = 'orange',figsize = (12, 7))\n",
    "    # adding title\n",
    "    plt.xlabel('Crime Count',fontsize=12)# set up the x axis. \n",
    "    plt.ylabel('District',fontsize=12)# set up the y axis\n",
    "    plt.title('District Crime in Descending Order\\n',fontsize=15) # set up the title.\n",
    "    plt.show()\n"
   ]
  },
  {
   "cell_type": "code",
   "execution_count": 33,
   "id": "d77950e9-7b8e-4ed3-a698-d5ce4408c3da",
   "metadata": {},
   "outputs": [
    {
     "data": {
      "image/png": "[encoded data removed]",
      "text/plain": [
       "<Figure size 864x504 with 1 Axes>"
      ]
     },
     "metadata": {
      "needs_background": "light"
     },
     "output_type": "display_data"
    }
   ],
   "source": [
    "district_crime(train)"
   ]
  },
  {
   "cell_type": "code",
   "execution_count": null,
   "id": "238175d0-2c7e-49ae-afca-26668cdd0b05",
   "metadata": {},
   "outputs": [],
   "source": []
  },
  {
   "cell_type": "code",
   "execution_count": 34,
   "id": "3c93d8aa-9ecf-4f7d-8374-1e7f0b67f696",
   "metadata": {},
   "outputs": [
    {
     "data": {
      "text/plain": [
       "73"
      ]
     },
     "execution_count": 34,
     "metadata": {},
     "output_type": "execute_result"
    }
   ],
   "source": [
    "train[train.crime_type == 'MURDER'].value_counts().sum()"
   ]
  },
  {
   "cell_type": "code",
   "execution_count": 35,
   "id": "81e27e21-af6e-4a27-8350-93b6da4a9bf9",
   "metadata": {},
   "outputs": [
    {
     "data": {
      "text/plain": [
       "district  cleared\n",
       "1         False      28430\n",
       "          True        7974\n",
       "2         False      28802\n",
       "          True        9945\n",
       "3         False      19205\n",
       "          True        4764\n",
       "4         False      18659\n",
       "          True        4785\n",
       "5         False      15886\n",
       "          True        3903\n",
       "6         False      15249\n",
       "          True        3301\n",
       "7         False      16323\n",
       "          True        3137\n",
       "8         False      10824\n",
       "          True        2435\n",
       "88        False        225\n",
       "          True         134\n",
       "A         False         34\n",
       "          True          10\n",
       "B         False         56\n",
       "          True          13\n",
       "C         False         16\n",
       "          True           2\n",
       "D         False        168\n",
       "          True          25\n",
       "P         False         36\n",
       "          True           6\n",
       "S         False        410\n",
       "          True         127\n",
       "Name: cleared, dtype: int64"
      ]
     },
     "execution_count": 35,
     "metadata": {},
     "output_type": "execute_result"
    }
   ],
   "source": [
    "train.groupby('district').cleared.value_counts()"
   ]
  },
  {
   "cell_type": "code",
   "execution_count": 36,
   "id": "2fedd9a6-2d0c-4c41-96eb-40c28939a9b9",
   "metadata": {},
   "outputs": [],
   "source": [
    "top_10_crimes = ['DWI', 'ASSAULT WITH INJURY', 'THEFT BY SHOPLIFTING', 'HARASSMENT', \n",
    "                 'AUTO THEFT', 'ASSAULT W/INJURY-FAM/DATE VIOL', 'CRIMINAL MISCHIEF', \n",
    "                 'FAMILY DISTURBANCE', 'THEFT', 'BURGLARY OF VEHICLE']\n",
    "# Create a subsetted df that only includes the top 10 crimes\n",
    "top_crimes_df = train.copy()\n",
    "top_crimes_df = top_crimes_df[top_crimes_df.crime_type.isin(top_10_crimes)]"
   ]
  },
  {
   "cell_type": "code",
   "execution_count": 37,
   "id": "adefea51-f1d6-45bc-888c-d4163020953a",
   "metadata": {},
   "outputs": [],
   "source": [
    "def top_crime(top_crimes_df):\n",
    "    \"\"\"\n",
    "    This function is to create a visual to show all districts in descending order. \n",
    "    \"\"\"\n",
    "    # creating district crime frequency (horizontal)\n",
    "\n",
    "    top_crimes_df.council_district.value_counts(ascending = True, normalize = False).plot.barh(color = 'blue',figsize = (12, 7))\n",
    "    # adding title\n",
    "    plt.xlabel('Crime Count',fontsize=12)# set up the x axis. \n",
    "    plt.ylabel('Council District',fontsize=12)# set up the y axis\n",
    "    plt.title('Council District Crime in Descending Order\\n',fontsize=15) # set up the title.\n",
    "    plt.show()"
   ]
  },
  {
   "cell_type": "code",
   "execution_count": 38,
   "id": "608b5603-62d0-48f7-b692-88ce2c71403a",
   "metadata": {},
   "outputs": [
    {
     "data": {
      "image/png": "[encoded data removed]",
      "text/plain": [
       "<Figure size 864x504 with 1 Axes>"
      ]
     },
     "metadata": {
      "needs_background": "light"
     },
     "output_type": "display_data"
    }
   ],
   "source": [
    "top_crime(top_crimes_df)"
   ]
  },
  {
   "cell_type": "markdown",
   "id": "065e33a4-9cf7-4b73-ba7f-5ac0e617da53",
   "metadata": {},
   "source": [
    "### Takeaway\n",
    "- It seems that districts 9, 3 and 4 are much higher in crime compared to the other districts"
   ]
  },
  {
   "cell_type": "code",
   "execution_count": 39,
   "id": "afb8dc46-69bf-412c-9ca3-5849baa5a788",
   "metadata": {},
   "outputs": [
    {
     "data": {
      "image/png": "[encoded data removed]",
      "text/plain": [
       "<Figure size 864x576 with 1 Axes>"
      ]
     },
     "metadata": {
      "needs_background": "light"
     },
     "output_type": "display_data"
    }
   ],
   "source": [
    "train.groupby('council_district').cleared.value_counts().plot.bar(figsize = (12, 8), color = ['#d62728', '#2ca02c'])\n",
    "plt.tick_params('x' ,rotation = 85)"
   ]
  },
  {
   "cell_type": "code",
   "execution_count": 40,
   "id": "a19c5382-ad02-4744-8d78-f8b275e3fdaf",
   "metadata": {},
   "outputs": [
    {
     "data": {
      "text/html": [
       "<div>\n",
       "<style scoped>\n",
       "    .dataframe tbody tr th:only-of-type {\n",
       "        vertical-align: middle;\n",
       "    }\n",
       "\n",
       "    .dataframe tbody tr th {\n",
       "        vertical-align: top;\n",
       "    }\n",
       "\n",
       "    .dataframe thead th {\n",
       "        text-align: right;\n",
       "    }\n",
       "</style>\n",
       "<table border=\"1\" class=\"dataframe\">\n",
       "  <thead>\n",
       "    <tr style=\"text-align: right;\">\n",
       "      <th></th>\n",
       "      <th>crime_type</th>\n",
       "      <th>family_violence</th>\n",
       "      <th>occurrence_time</th>\n",
       "      <th>occurrence_date</th>\n",
       "      <th>report_time</th>\n",
       "      <th>report_date</th>\n",
       "      <th>location_type</th>\n",
       "      <th>address</th>\n",
       "      <th>zip_code</th>\n",
       "      <th>council_district</th>\n",
       "      <th>sector</th>\n",
       "      <th>district</th>\n",
       "      <th>latitude</th>\n",
       "      <th>longitude</th>\n",
       "      <th>clearance_status</th>\n",
       "      <th>clearance_date</th>\n",
       "      <th>cleared</th>\n",
       "      <th>time_to_report</th>\n",
       "    </tr>\n",
       "  </thead>\n",
       "  <tbody>\n",
       "    <tr>\n",
       "      <th>229881</th>\n",
       "      <td>FAMILY DISTURBANCE</td>\n",
       "      <td>N</td>\n",
       "      <td>2019-12-27 23:14:00</td>\n",
       "      <td>2019-12-27</td>\n",
       "      <td>2019-12-27 23:14:00</td>\n",
       "      <td>2019-12-27</td>\n",
       "      <td>RESIDENCE / HOME</td>\n",
       "      <td>5800 TECHNI CENTER DR</td>\n",
       "      <td>78721.0</td>\n",
       "      <td>1.0</td>\n",
       "      <td>CH</td>\n",
       "      <td>5</td>\n",
       "      <td>30.278777</td>\n",
       "      <td>-97.671951</td>\n",
       "      <td>not cleared</td>\n",
       "      <td>2020-01-08</td>\n",
       "      <td>False</td>\n",
       "      <td>0 days 00:00:00</td>\n",
       "    </tr>\n",
       "    <tr>\n",
       "      <th>131423</th>\n",
       "      <td>ASSAULT W/INJURY-FAM/DATE VIOL</td>\n",
       "      <td>Y</td>\n",
       "      <td>2020-12-17 21:18:00</td>\n",
       "      <td>2020-12-17</td>\n",
       "      <td>2020-12-17 21:18:00</td>\n",
       "      <td>2020-12-17</td>\n",
       "      <td>HWY / ROAD / ALLEY/ STREET/ SIDEWALK</td>\n",
       "      <td>8601 RESEARCH BLVD SVRD NB</td>\n",
       "      <td>78758.0</td>\n",
       "      <td>4.0</td>\n",
       "      <td>ED</td>\n",
       "      <td>2</td>\n",
       "      <td>30.362560</td>\n",
       "      <td>-97.715688</td>\n",
       "      <td>not cleared</td>\n",
       "      <td>2020-12-21</td>\n",
       "      <td>False</td>\n",
       "      <td>0 days 00:00:00</td>\n",
       "    </tr>\n",
       "    <tr>\n",
       "      <th>362058</th>\n",
       "      <td>CRUELTY TO ANIMALS</td>\n",
       "      <td>N</td>\n",
       "      <td>2018-09-26 13:17:00</td>\n",
       "      <td>2018-09-26</td>\n",
       "      <td>2018-09-26 13:17:00</td>\n",
       "      <td>2018-09-26</td>\n",
       "      <td>RESIDENCE / HOME</td>\n",
       "      <td>2312 RACHAEL CT</td>\n",
       "      <td>78748.0</td>\n",
       "      <td>5.0</td>\n",
       "      <td>FR</td>\n",
       "      <td>1</td>\n",
       "      <td>30.177874</td>\n",
       "      <td>-97.828377</td>\n",
       "      <td>not cleared</td>\n",
       "      <td>2018-09-27</td>\n",
       "      <td>False</td>\n",
       "      <td>0 days 00:00:00</td>\n",
       "    </tr>\n",
       "    <tr>\n",
       "      <th>343230</th>\n",
       "      <td>AGG ASSAULT FAM/DATE VIOLENCE</td>\n",
       "      <td>Y</td>\n",
       "      <td>2018-12-01 19:31:00</td>\n",
       "      <td>2018-12-01</td>\n",
       "      <td>2018-12-01 19:31:00</td>\n",
       "      <td>2018-12-01</td>\n",
       "      <td>RESIDENCE / HOME</td>\n",
       "      <td>4810 SINGLE SHOT CIR</td>\n",
       "      <td>78723.0</td>\n",
       "      <td>1.0</td>\n",
       "      <td>CH</td>\n",
       "      <td>4</td>\n",
       "      <td>30.291001</td>\n",
       "      <td>-97.676904</td>\n",
       "      <td>not cleared</td>\n",
       "      <td>2018-12-06</td>\n",
       "      <td>False</td>\n",
       "      <td>0 days 00:00:00</td>\n",
       "    </tr>\n",
       "    <tr>\n",
       "      <th>145220</th>\n",
       "      <td>BURGLARY OF VEH-NO SUSPECT/FU</td>\n",
       "      <td>N</td>\n",
       "      <td>2020-10-30 15:30:00</td>\n",
       "      <td>2020-10-30</td>\n",
       "      <td>2020-10-30 16:57:00</td>\n",
       "      <td>2020-10-30</td>\n",
       "      <td>RESIDENCE / HOME</td>\n",
       "      <td>1600 MUSKET VALLEY TRL</td>\n",
       "      <td>78754.0</td>\n",
       "      <td>1.0</td>\n",
       "      <td>ED</td>\n",
       "      <td>5</td>\n",
       "      <td>30.374472</td>\n",
       "      <td>-97.655692</td>\n",
       "      <td>not cleared</td>\n",
       "      <td>2020-11-02</td>\n",
       "      <td>False</td>\n",
       "      <td>0 days 01:27:00</td>\n",
       "    </tr>\n",
       "  </tbody>\n",
       "</table>\n",
       "</div>"
      ],
      "text/plain": [
       "                            crime_type family_violence     occurrence_time  \\\n",
       "229881              FAMILY DISTURBANCE               N 2019-12-27 23:14:00   \n",
       "131423  ASSAULT W/INJURY-FAM/DATE VIOL               Y 2020-12-17 21:18:00   \n",
       "362058              CRUELTY TO ANIMALS               N 2018-09-26 13:17:00   \n",
       "343230   AGG ASSAULT FAM/DATE VIOLENCE               Y 2018-12-01 19:31:00   \n",
       "145220   BURGLARY OF VEH-NO SUSPECT/FU               N 2020-10-30 15:30:00   \n",
       "\n",
       "       occurrence_date         report_time report_date  \\\n",
       "229881      2019-12-27 2019-12-27 23:14:00  2019-12-27   \n",
       "131423      2020-12-17 2020-12-17 21:18:00  2020-12-17   \n",
       "362058      2018-09-26 2018-09-26 13:17:00  2018-09-26   \n",
       "343230      2018-12-01 2018-12-01 19:31:00  2018-12-01   \n",
       "145220      2020-10-30 2020-10-30 16:57:00  2020-10-30   \n",
       "\n",
       "                               location_type                     address  \\\n",
       "229881                      RESIDENCE / HOME       5800 TECHNI CENTER DR   \n",
       "131423  HWY / ROAD / ALLEY/ STREET/ SIDEWALK  8601 RESEARCH BLVD SVRD NB   \n",
       "362058                      RESIDENCE / HOME             2312 RACHAEL CT   \n",
       "343230                      RESIDENCE / HOME        4810 SINGLE SHOT CIR   \n",
       "145220                      RESIDENCE / HOME      1600 MUSKET VALLEY TRL   \n",
       "\n",
       "        zip_code  council_district sector district   latitude  longitude  \\\n",
       "229881   78721.0               1.0     CH        5  30.278777 -97.671951   \n",
       "131423   78758.0               4.0     ED        2  30.362560 -97.715688   \n",
       "362058   78748.0               5.0     FR        1  30.177874 -97.828377   \n",
       "343230   78723.0               1.0     CH        4  30.291001 -97.676904   \n",
       "145220   78754.0               1.0     ED        5  30.374472 -97.655692   \n",
       "\n",
       "       clearance_status clearance_date  cleared  time_to_report  \n",
       "229881      not cleared     2020-01-08    False 0 days 00:00:00  \n",
       "131423      not cleared     2020-12-21    False 0 days 00:00:00  \n",
       "362058      not cleared     2018-09-27    False 0 days 00:00:00  \n",
       "343230      not cleared     2018-12-06    False 0 days 00:00:00  \n",
       "145220      not cleared     2020-11-02    False 0 days 01:27:00  "
      ]
     },
     "execution_count": 40,
     "metadata": {},
     "output_type": "execute_result"
    }
   ],
   "source": [
    "train.head()"
   ]
  },
  {
   "cell_type": "code",
   "execution_count": 41,
   "id": "41e95190-126e-4633-b35a-24d97811453c",
   "metadata": {},
   "outputs": [],
   "source": [
    "def lower_zipcode_crime(train):\n",
    "    \"\"\"\n",
    "    This function is to create a visual to show all districts in descending order. \n",
    "    \"\"\"\n",
    "    # creating district crime frequency (horizontal)\n",
    "\n",
    "    train.zip_code.value_counts(ascending = True, normalize = False).tail(10).plot.barh(color = 'red',figsize = (12, 7))\n",
    "    # adding title\n",
    "    plt.xlabel('Crime Count',fontsize=12)# set up the x axis. \n",
    "    plt.ylabel('Zipcode',fontsize=12)# set up the y axis\n",
    "    plt.title('Highest Reported Zipcodes\\n',fontsize=15) # set up the title.\n",
    "    plt.show()"
   ]
  },
  {
   "cell_type": "code",
   "execution_count": 42,
   "id": "202f0dc5-d908-46a2-ae6c-0f6e864ac393",
   "metadata": {},
   "outputs": [
    {
     "data": {
      "image/png": "[encoded data removed]",
      "text/plain": [
       "<Figure size 864x504 with 1 Axes>"
      ]
     },
     "metadata": {
      "needs_background": "light"
     },
     "output_type": "display_data"
    }
   ],
   "source": [
    "lower_zipcode_crime(train)"
   ]
  },
  {
   "cell_type": "code",
   "execution_count": 43,
   "id": "a60e04ad-65f2-42f2-b226-930514a1f222",
   "metadata": {},
   "outputs": [],
   "source": [
    "def upper_zipcode_crime(train):\n",
    "    \"\"\"\n",
    "    This function is to create a visual to show top 10 safest zipcodes in descending order. \n",
    "    \"\"\"\n",
    "    # creating district crime frequency (horizontal)\n",
    "\n",
    "    train.zip_code.value_counts(ascending = True, normalize = False).head(10).plot.barh(color = 'green',figsize = (12, 7))\n",
    "    # adding title\n",
    "    plt.xlabel('Crime Count',fontsize=12)# set up the x axis. \n",
    "    plt.ylabel('Zipcode',fontsize=12)# set up the y axis\n",
    "    plt.title('Least Reported Zipcodes\\n',fontsize=15) # set up the title.\n",
    "    plt.show()"
   ]
  },
  {
   "cell_type": "code",
   "execution_count": 44,
   "id": "06e98d15-1c2c-4bc7-8e76-0b7afa2a6a77",
   "metadata": {},
   "outputs": [
    {
     "data": {
      "image/png": "[encoded data removed]",
      "text/plain": [
       "<Figure size 864x504 with 1 Axes>"
      ]
     },
     "metadata": {
      "needs_background": "light"
     },
     "output_type": "display_data"
    }
   ],
   "source": [
    "upper_zipcode_crime(train)"
   ]
  },
  {
   "cell_type": "code",
   "execution_count": 45,
   "id": "10ed5d40-955c-4ff4-af15-6d5877d87452",
   "metadata": {},
   "outputs": [
    {
     "data": {
      "text/plain": [
       "<AxesSubplot:xlabel='council_district'>"
      ]
     },
     "execution_count": 45,
     "metadata": {},
     "output_type": "execute_result"
    },
    {
     "data": {
      "image/png": "[encoded data removed]",
      "text/plain": [
       "<Figure size 1656x720 with 1 Axes>"
      ]
     },
     "metadata": {
      "needs_background": "light"
     },
     "output_type": "display_data"
    }
   ],
   "source": [
    "train.groupby(train.council_district).crime_type.count().sort_values().plot.bar()"
   ]
  },
  {
   "cell_type": "markdown",
   "id": "48857ba1-f64c-4bd5-b3d8-d33dd3c75a36",
   "metadata": {},
   "source": [
    "hard to solve\n",
    "- family disturbance\n",
    "- disturbance\n",
    "\n",
    "\n",
    "more solvable\n",
    "- auto theft (possible)\n",
    "- assault with injury\n",
    "- dwi\n",
    "- \n",
    "\n",
    "topics of discussion\n",
    "- hardening targets ( proper lighting, dog in yard )"
   ]
  },
  {
   "cell_type": "code",
   "execution_count": 46,
   "id": "87b22ac5-554a-40cb-822e-4a1fbc7d24e1",
   "metadata": {},
   "outputs": [
    {
     "data": {
      "image/png": "[encoded data removed]",
      "text/plain": [
       "<Figure size 2041.85x864 with 10 Axes>"
      ]
     },
     "metadata": {
      "needs_background": "light"
     },
     "output_type": "display_data"
    }
   ],
   "source": [
    "#define plotting region (2 rows, 5 columns)\n",
    "# fig, axes = plt.subplots(2, 5)\n",
    "\n",
    "sns.catplot(y=\"crime_type\", hue=\"cleared\", col=\"council_district\",\n",
    "              data=top_crimes_df, kind=\"count\",\n",
    "                height=6, aspect=.9, col_wrap = 5);\n"
   ]
  },
  {
   "cell_type": "code",
   "execution_count": 47,
   "id": "562e9255-04fe-49f7-823d-5725c91cea52",
   "metadata": {},
   "outputs": [
    {
     "data": {
      "text/plain": [
       "council_district  cleared\n",
       "1.0               False      17100\n",
       "                  True        4831\n",
       "2.0               False      14865\n",
       "                  True        3652\n",
       "3.0               False      22024\n",
       "                  True        6858\n",
       "4.0               False      20504\n",
       "                  True        6587\n",
       "5.0               False      13214\n",
       "                  True        2710\n",
       "6.0               False       9783\n",
       "                  True        1705\n",
       "7.0               False      18455\n",
       "                  True        3884\n",
       "8.0               False       7103\n",
       "                  True        1151\n",
       "9.0               False      23540\n",
       "                  True        7885\n",
       "10.0              False       7735\n",
       "                  True        1298\n",
       "Name: cleared, dtype: int64"
      ]
     },
     "execution_count": 47,
     "metadata": {},
     "output_type": "execute_result"
    }
   ],
   "source": [
    "train.groupby('council_district').cleared.value_counts()"
   ]
  },
  {
   "cell_type": "code",
   "execution_count": 48,
   "id": "1fe9e3b0-da36-4523-96f7-836b10a1c155",
   "metadata": {},
   "outputs": [
    {
     "data": {
      "text/plain": [
       "0.2081289382401839"
      ]
     },
     "execution_count": 48,
     "metadata": {},
     "output_type": "execute_result"
    }
   ],
   "source": [
    "train.cleared.mean()"
   ]
  },
  {
   "cell_type": "code",
   "execution_count": 49,
   "id": "e7303eaf-b042-4bc7-9473-4f5e47cf102a",
   "metadata": {},
   "outputs": [
    {
     "data": {
      "image/png": "[encoded data removed]",
      "text/plain": [
       "<Figure size 1656x720 with 1 Axes>"
      ]
     },
     "metadata": {
      "needs_background": "light"
     },
     "output_type": "display_data"
    }
   ],
   "source": [
    "def district_cleared(train):\n",
    "    index = [8,6,10,5,7,2,1,3,4,9]\n",
    "    df1 = pd.DataFrame(train.groupby('council_district').cleared.mean(), index = index)\n",
    "    ax = df1.plot.barh(color = 'seagreen')\n",
    "    plt.ylabel('Council District', fontsize = 14)\n",
    "    plt.xlabel('% cleared', fontsize = 14)\n",
    "    plt.title('Percentage of Cleared Cases in Each District', fontsize = 20)\n",
    "    ax.get_legend().remove()\n",
    "    return \n",
    "district_cleared(train)"
   ]
  },
  {
   "cell_type": "code",
   "execution_count": 130,
   "id": "244b6336-c21e-4510-933b-4df9bb986db3",
   "metadata": {},
   "outputs": [
    {
     "data": {
      "image/png": "[encoded data removed]",
      "text/plain": [
       "<Figure size 1008x576 with 1 Axes>"
      ]
     },
     "metadata": {},
     "output_type": "display_data"
    }
   ],
   "source": [
    "def patrol_area_cleared(train1):\n",
    "    \n",
    "    df1 = pd.DataFrame(train1.groupby('patrol_area').cleared.mean().sort_values())\n",
    "    ax = df1.plot.barh(color = 'seagreen')\n",
    "    plt.ylabel('Council District', fontsize = 14)\n",
    "    plt.xlabel('% cleared', fontsize = 14)\n",
    "    plt.title('Percentage of Cleared Cases in Each District', fontsize = 20)\n",
    "    ax.get_legend().remove()\n",
    "    ax.axvline(train1.cleared.mean())\n",
    "    return \n",
    "patrol_area_cleared(train1)"
   ]
  },
  {
   "cell_type": "code",
   "execution_count": 50,
   "id": "a8215298-45f7-438e-8b9c-c94a28e4d398",
   "metadata": {},
   "outputs": [
    {
     "data": {
      "image/png": "[encoded data removed]",
      "text/plain": [
       "<Figure size 1656x720 with 1 Axes>"
      ]
     },
     "metadata": {
      "needs_background": "light"
     },
     "output_type": "display_data"
    }
   ],
   "source": [
    "def top_crime_per_district_cleared(train):\n",
    "    sns.countplot(data = top_crimes_df, x = 'council_district', hue = 'cleared', palette = 'cubehelix')\n",
    "    sns.set(rc={'figure.figsize':(14, 8)})\n",
    "    return\n",
    "top_crime_per_district_cleared(train)"
   ]
  },
  {
   "cell_type": "code",
   "execution_count": 51,
   "id": "7b14cb69-ffa8-4df6-aecc-8b1604ef0b37",
   "metadata": {},
   "outputs": [
    {
     "data": {
      "text/plain": [
       "(19488.4,\n",
       " crime_type          31425\n",
       " family_violence     31425\n",
       " occurrence_time     31425\n",
       " occurrence_date     31425\n",
       " report_time         31425\n",
       " report_date         31425\n",
       " location_type       31425\n",
       " address             31425\n",
       " zip_code            31425\n",
       " council_district    31425\n",
       " sector              31425\n",
       " district            31425\n",
       " latitude            31425\n",
       " longitude           31425\n",
       " clearance_status    31425\n",
       " clearance_date      31425\n",
       " cleared             31425\n",
       " time_to_report      31425\n",
       " dtype: int64,\n",
       " crime_type          8254\n",
       " family_violence     8254\n",
       " occurrence_time     8254\n",
       " occurrence_date     8254\n",
       " report_time         8254\n",
       " report_date         8254\n",
       " location_type       8254\n",
       " address             8254\n",
       " zip_code            8254\n",
       " council_district    8254\n",
       " sector              8254\n",
       " district            8254\n",
       " latitude            8254\n",
       " longitude           8254\n",
       " clearance_status    8254\n",
       " clearance_date      8254\n",
       " cleared             8254\n",
       " time_to_report      8254\n",
       " dtype: int64)"
      ]
     },
     "execution_count": 51,
     "metadata": {},
     "output_type": "execute_result"
    }
   ],
   "source": [
    "overall_sample = train.groupby('council_district').council_district.count().mean()\n",
    "nine_sample = train[train.council_district == 9].count()\n",
    "eight_sample = train[train.council_district == 8].count()\n",
    "overall_sample, nine_sample, eight_sample"
   ]
  },
  {
   "cell_type": "markdown",
   "id": "4b361bf6-0e9a-49cb-92f7-f58e0192b0e0",
   "metadata": {},
   "source": [
    "### District 9 one sample ttest"
   ]
  },
  {
   "cell_type": "markdown",
   "id": "3a92f3a1-5227-4f84-af18-eeabebecaf3e",
   "metadata": {},
   "source": [
    "- H0: The average caseload in District 9 <= The average caseload of cases of ALL Districts\n",
    "- Ha: The average caseload in District 9 > The average caseload of cases of ALL Districts"
   ]
  },
  {
   "cell_type": "code",
   "execution_count": 52,
   "id": "10b7854f-cdeb-4f1e-85a9-ca1753808d35",
   "metadata": {},
   "outputs": [
    {
     "name": "stdout",
     "output_type": "stream",
     "text": [
      "inf 0.0 0.05\n"
     ]
    }
   ],
   "source": [
    "alpha = .05\n",
    "t, p = stats.ttest_1samp(nine_sample, overall_sample)\n",
    "\n",
    "print(t, p/2, alpha)"
   ]
  },
  {
   "cell_type": "code",
   "execution_count": 53,
   "id": "92a2d529-f217-4cff-8ca7-524fc57dd596",
   "metadata": {},
   "outputs": [
    {
     "name": "stdout",
     "output_type": "stream",
     "text": [
      "We reject Null Hypothesis\n"
     ]
    }
   ],
   "source": [
    "if p/2 > alpha:\n",
    "    print(\"We fail to reject Null Hypothesis\")\n",
    "elif t < 0:\n",
    "    print(\"We fail to reject Null Hypothesis\")\n",
    "else:\n",
    "    print(\"We reject Null Hypothesis\")"
   ]
  },
  {
   "cell_type": "markdown",
   "id": "d4c58286-629a-4b53-9527-b84905cb06fe",
   "metadata": {},
   "source": [
    "### District 8 one sample ttest"
   ]
  },
  {
   "cell_type": "markdown",
   "id": "e74f4dc3-39b7-4d62-af23-62499cfbb263",
   "metadata": {},
   "source": [
    "- H0: The average caseload in District 8 >= The average caseload of cases of ALL Districts\n",
    "- Ha: The average caseload in District 8 < The average caseload of cases of ALL Districts"
   ]
  },
  {
   "cell_type": "code",
   "execution_count": 54,
   "id": "0807e858-c7df-4777-94c9-abc28130136e",
   "metadata": {},
   "outputs": [
    {
     "name": "stdout",
     "output_type": "stream",
     "text": [
      "-inf 0.0 0.05\n"
     ]
    }
   ],
   "source": [
    "alpha = .05\n",
    "t, p = stats.ttest_1samp(eight_sample, overall_sample)\n",
    "\n",
    "print(t, p/2, alpha)"
   ]
  },
  {
   "cell_type": "code",
   "execution_count": 55,
   "id": "66b06d52-b7df-430c-9dda-7cc044a0517d",
   "metadata": {},
   "outputs": [
    {
     "name": "stdout",
     "output_type": "stream",
     "text": [
      "We reject Null Hypothesis\n"
     ]
    }
   ],
   "source": [
    "if p/2 > alpha:\n",
    "    print(\"We fail to reject Null Hypothesis\")\n",
    "elif t > 0:\n",
    "    print(\"We fail to reject Null Hypothesis\")\n",
    "else:\n",
    "    print(\"We reject Null Hypothesis\")"
   ]
  },
  {
   "cell_type": "markdown",
   "id": "de6ecceb-fc5f-485f-8d2a-814dea29c3f0",
   "metadata": {},
   "source": [
    "# Zipcodes"
   ]
  },
  {
   "cell_type": "code",
   "execution_count": null,
   "id": "11277595-7bc6-4d95-9bba-250ce48b1d77",
   "metadata": {},
   "outputs": [],
   "source": []
  },
  {
   "cell_type": "code",
   "execution_count": null,
   "id": "926dd900-ebca-4ac9-9198-0e8f78f1267d",
   "metadata": {},
   "outputs": [],
   "source": []
  },
  {
   "cell_type": "markdown",
   "id": "ec54c856-deed-4d96-b251-0846f58a219d",
   "metadata": {},
   "source": [
    "# Family Violence dataset"
   ]
  },
  {
   "cell_type": "code",
   "execution_count": 56,
   "id": "b03c906b-0560-4ee7-b6ca-15316b3be63c",
   "metadata": {},
   "outputs": [
    {
     "data": {
      "text/plain": [
       "(15562, 17)"
      ]
     },
     "execution_count": 56,
     "metadata": {},
     "output_type": "execute_result"
    }
   ],
   "source": [
    "fv = train.copy()\n",
    "fv = train[train['family_violence'] == 'Y']\n",
    "fv = fv.set_index('occurrence_time').sort_index()\n",
    "fv.shape"
   ]
  },
  {
   "cell_type": "code",
   "execution_count": 57,
   "id": "cc28ef79-9378-409d-9ce8-874c242ef678",
   "metadata": {},
   "outputs": [],
   "source": [
    "fv['month'] = fv.index.month_name()\n",
    "fv['day'] = fv.index.day_name()\n",
    "fv['year'] = fv.index.year"
   ]
  },
  {
   "cell_type": "code",
   "execution_count": 58,
   "id": "b369d521-2bd0-44af-94dd-9d6fb82e8e90",
   "metadata": {},
   "outputs": [
    {
     "data": {
      "text/html": [
       "<div>\n",
       "<style scoped>\n",
       "    .dataframe tbody tr th:only-of-type {\n",
       "        vertical-align: middle;\n",
       "    }\n",
       "\n",
       "    .dataframe tbody tr th {\n",
       "        vertical-align: top;\n",
       "    }\n",
       "\n",
       "    .dataframe thead th {\n",
       "        text-align: right;\n",
       "    }\n",
       "</style>\n",
       "<table border=\"1\" class=\"dataframe\">\n",
       "  <thead>\n",
       "    <tr style=\"text-align: right;\">\n",
       "      <th></th>\n",
       "      <th>crime_type</th>\n",
       "      <th>family_violence</th>\n",
       "      <th>occurrence_date</th>\n",
       "      <th>report_time</th>\n",
       "      <th>report_date</th>\n",
       "      <th>location_type</th>\n",
       "      <th>address</th>\n",
       "      <th>zip_code</th>\n",
       "      <th>council_district</th>\n",
       "      <th>sector</th>\n",
       "      <th>district</th>\n",
       "      <th>latitude</th>\n",
       "      <th>longitude</th>\n",
       "      <th>clearance_status</th>\n",
       "      <th>clearance_date</th>\n",
       "      <th>cleared</th>\n",
       "      <th>time_to_report</th>\n",
       "      <th>month</th>\n",
       "      <th>day</th>\n",
       "      <th>year</th>\n",
       "    </tr>\n",
       "    <tr>\n",
       "      <th>occurrence_time</th>\n",
       "      <th></th>\n",
       "      <th></th>\n",
       "      <th></th>\n",
       "      <th></th>\n",
       "      <th></th>\n",
       "      <th></th>\n",
       "      <th></th>\n",
       "      <th></th>\n",
       "      <th></th>\n",
       "      <th></th>\n",
       "      <th></th>\n",
       "      <th></th>\n",
       "      <th></th>\n",
       "      <th></th>\n",
       "      <th></th>\n",
       "      <th></th>\n",
       "      <th></th>\n",
       "      <th></th>\n",
       "      <th></th>\n",
       "      <th></th>\n",
       "    </tr>\n",
       "  </thead>\n",
       "  <tbody>\n",
       "    <tr>\n",
       "      <th>2018-01-01 00:05:00</th>\n",
       "      <td>ASSAULT W/INJURY-FAM/DATE VIOL</td>\n",
       "      <td>Y</td>\n",
       "      <td>2018-01-01</td>\n",
       "      <td>2018-01-01 00:05:00</td>\n",
       "      <td>2018-01-01</td>\n",
       "      <td>RESIDENCE / HOME</td>\n",
       "      <td>301 BRAZOS ST</td>\n",
       "      <td>78701.0</td>\n",
       "      <td>9.0</td>\n",
       "      <td>GE</td>\n",
       "      <td>3</td>\n",
       "      <td>30.265055</td>\n",
       "      <td>-97.742241</td>\n",
       "      <td>cleared by arrest</td>\n",
       "      <td>2018-01-01</td>\n",
       "      <td>True</td>\n",
       "      <td>0 days 00:00:00</td>\n",
       "      <td>January</td>\n",
       "      <td>Monday</td>\n",
       "      <td>2018</td>\n",
       "    </tr>\n",
       "    <tr>\n",
       "      <th>2018-01-01 01:00:00</th>\n",
       "      <td>AGG ASLT STRANGLE/SUFFOCATE</td>\n",
       "      <td>Y</td>\n",
       "      <td>2018-01-01</td>\n",
       "      <td>2018-01-06 20:18:00</td>\n",
       "      <td>2018-01-06</td>\n",
       "      <td>RESIDENCE / HOME</td>\n",
       "      <td>10610 MORADO CIR</td>\n",
       "      <td>78759.0</td>\n",
       "      <td>10.0</td>\n",
       "      <td>AD</td>\n",
       "      <td>7</td>\n",
       "      <td>30.403906</td>\n",
       "      <td>-97.752324</td>\n",
       "      <td>not cleared</td>\n",
       "      <td>2018-01-12</td>\n",
       "      <td>False</td>\n",
       "      <td>5 days 19:18:00</td>\n",
       "      <td>January</td>\n",
       "      <td>Monday</td>\n",
       "      <td>2018</td>\n",
       "    </tr>\n",
       "    <tr>\n",
       "      <th>2018-01-01 01:01:00</th>\n",
       "      <td>FELONY ENHANCEMENT/ASSLT W/INJ</td>\n",
       "      <td>Y</td>\n",
       "      <td>2018-01-01</td>\n",
       "      <td>2018-01-01 01:01:00</td>\n",
       "      <td>2018-01-01</td>\n",
       "      <td>RESIDENCE / HOME</td>\n",
       "      <td>2302 E WILLIAM CANNON DR</td>\n",
       "      <td>78744.0</td>\n",
       "      <td>2.0</td>\n",
       "      <td>FR</td>\n",
       "      <td>8</td>\n",
       "      <td>30.186692</td>\n",
       "      <td>-97.758146</td>\n",
       "      <td>cleared by arrest</td>\n",
       "      <td>2018-01-01</td>\n",
       "      <td>True</td>\n",
       "      <td>0 days 00:00:00</td>\n",
       "      <td>January</td>\n",
       "      <td>Monday</td>\n",
       "      <td>2018</td>\n",
       "    </tr>\n",
       "    <tr>\n",
       "      <th>2018-01-01 01:12:00</th>\n",
       "      <td>AGG ASSAULT FAM/DATE VIOLENCE</td>\n",
       "      <td>Y</td>\n",
       "      <td>2018-01-01</td>\n",
       "      <td>2018-01-01 02:58:00</td>\n",
       "      <td>2018-01-01</td>\n",
       "      <td>RESIDENCE / HOME</td>\n",
       "      <td>500 E ANDERSON LN SVRD WB</td>\n",
       "      <td>78753.0</td>\n",
       "      <td>4.0</td>\n",
       "      <td>ED</td>\n",
       "      <td>1</td>\n",
       "      <td>30.341535</td>\n",
       "      <td>-97.701904</td>\n",
       "      <td>cleared by arrest</td>\n",
       "      <td>2018-01-01</td>\n",
       "      <td>True</td>\n",
       "      <td>0 days 01:46:00</td>\n",
       "      <td>January</td>\n",
       "      <td>Monday</td>\n",
       "      <td>2018</td>\n",
       "    </tr>\n",
       "    <tr>\n",
       "      <th>2018-01-01 02:15:00</th>\n",
       "      <td>AGG ASLT STRANGLE/SUFFOCATE</td>\n",
       "      <td>Y</td>\n",
       "      <td>2018-01-01</td>\n",
       "      <td>2018-01-01 02:15:00</td>\n",
       "      <td>2018-01-01</td>\n",
       "      <td>RESIDENCE / HOME</td>\n",
       "      <td>8701 ESCARPMENT BLVD</td>\n",
       "      <td>78749.0</td>\n",
       "      <td>8.0</td>\n",
       "      <td>DA</td>\n",
       "      <td>7</td>\n",
       "      <td>30.212219</td>\n",
       "      <td>-97.875499</td>\n",
       "      <td>not cleared</td>\n",
       "      <td>2018-01-25</td>\n",
       "      <td>False</td>\n",
       "      <td>0 days 00:00:00</td>\n",
       "      <td>January</td>\n",
       "      <td>Monday</td>\n",
       "      <td>2018</td>\n",
       "    </tr>\n",
       "  </tbody>\n",
       "</table>\n",
       "</div>"
      ],
      "text/plain": [
       "                                         crime_type family_violence  \\\n",
       "occurrence_time                                                       \n",
       "2018-01-01 00:05:00  ASSAULT W/INJURY-FAM/DATE VIOL               Y   \n",
       "2018-01-01 01:00:00     AGG ASLT STRANGLE/SUFFOCATE               Y   \n",
       "2018-01-01 01:01:00  FELONY ENHANCEMENT/ASSLT W/INJ               Y   \n",
       "2018-01-01 01:12:00   AGG ASSAULT FAM/DATE VIOLENCE               Y   \n",
       "2018-01-01 02:15:00     AGG ASLT STRANGLE/SUFFOCATE               Y   \n",
       "\n",
       "                    occurrence_date         report_time report_date  \\\n",
       "occurrence_time                                                       \n",
       "2018-01-01 00:05:00      2018-01-01 2018-01-01 00:05:00  2018-01-01   \n",
       "2018-01-01 01:00:00      2018-01-01 2018-01-06 20:18:00  2018-01-06   \n",
       "2018-01-01 01:01:00      2018-01-01 2018-01-01 01:01:00  2018-01-01   \n",
       "2018-01-01 01:12:00      2018-01-01 2018-01-01 02:58:00  2018-01-01   \n",
       "2018-01-01 02:15:00      2018-01-01 2018-01-01 02:15:00  2018-01-01   \n",
       "\n",
       "                        location_type                    address  zip_code  \\\n",
       "occurrence_time                                                              \n",
       "2018-01-01 00:05:00  RESIDENCE / HOME              301 BRAZOS ST   78701.0   \n",
       "2018-01-01 01:00:00  RESIDENCE / HOME           10610 MORADO CIR   78759.0   \n",
       "2018-01-01 01:01:00  RESIDENCE / HOME   2302 E WILLIAM CANNON DR   78744.0   \n",
       "2018-01-01 01:12:00  RESIDENCE / HOME  500 E ANDERSON LN SVRD WB   78753.0   \n",
       "2018-01-01 02:15:00  RESIDENCE / HOME       8701 ESCARPMENT BLVD   78749.0   \n",
       "\n",
       "                     council_district sector district   latitude  longitude  \\\n",
       "occurrence_time                                                               \n",
       "2018-01-01 00:05:00               9.0     GE        3  30.265055 -97.742241   \n",
       "2018-01-01 01:00:00              10.0     AD        7  30.403906 -97.752324   \n",
       "2018-01-01 01:01:00               2.0     FR        8  30.186692 -97.758146   \n",
       "2018-01-01 01:12:00               4.0     ED        1  30.341535 -97.701904   \n",
       "2018-01-01 02:15:00               8.0     DA        7  30.212219 -97.875499   \n",
       "\n",
       "                      clearance_status clearance_date  cleared  \\\n",
       "occurrence_time                                                  \n",
       "2018-01-01 00:05:00  cleared by arrest     2018-01-01     True   \n",
       "2018-01-01 01:00:00        not cleared     2018-01-12    False   \n",
       "2018-01-01 01:01:00  cleared by arrest     2018-01-01     True   \n",
       "2018-01-01 01:12:00  cleared by arrest     2018-01-01     True   \n",
       "2018-01-01 02:15:00        not cleared     2018-01-25    False   \n",
       "\n",
       "                     time_to_report    month     day  year  \n",
       "occurrence_time                                             \n",
       "2018-01-01 00:05:00 0 days 00:00:00  January  Monday  2018  \n",
       "2018-01-01 01:00:00 5 days 19:18:00  January  Monday  2018  \n",
       "2018-01-01 01:01:00 0 days 00:00:00  January  Monday  2018  \n",
       "2018-01-01 01:12:00 0 days 01:46:00  January  Monday  2018  \n",
       "2018-01-01 02:15:00 0 days 00:00:00  January  Monday  2018  "
      ]
     },
     "execution_count": 58,
     "metadata": {},
     "output_type": "execute_result"
    }
   ],
   "source": [
    "fv.head()"
   ]
  },
  {
   "cell_type": "code",
   "execution_count": 59,
   "id": "27084352-1935-4d4d-99c0-24209e53a94c",
   "metadata": {},
   "outputs": [
    {
     "data": {
      "text/plain": [
       "2     1485\n",
       "1     1338\n",
       "4     1162\n",
       "3     1148\n",
       "5     1088\n",
       "7      955\n",
       "6      786\n",
       "8      625\n",
       "88      28\n",
       "S        3\n",
       "D        1\n",
       "Name: district, dtype: int64"
      ]
     },
     "execution_count": 59,
     "metadata": {},
     "output_type": "execute_result"
    }
   ],
   "source": [
    "fv[fv.clearance_status == 'not cleared'].district.value_counts()"
   ]
  },
  {
   "cell_type": "code",
   "execution_count": 60,
   "id": "b7cba863-bafc-4dae-ada2-39d712710f7f",
   "metadata": {},
   "outputs": [
    {
     "data": {
      "text/plain": [
       "ASSAULT W/INJURY-FAM/DATE VIOL    2808\n",
       "HARASSMENT                        1625\n",
       "ASSAULT BY CONTACT FAM/DATING     1444\n",
       "ASSAULT BY THREAT FAM/DATING       426\n",
       "AGG ASLT STRANGLE/SUFFOCATE        426\n",
       "AGG ASSAULT FAM/DATE VIOLENCE      329\n",
       "ASSAULT BY CONTACT                 284\n",
       "TERRORISTIC THREAT-FAM/DAT VIO     244\n",
       "ASSAULT BY THREAT                  169\n",
       "ASSAULT WITH INJURY                107\n",
       "Name: crime_type, dtype: int64"
      ]
     },
     "execution_count": 60,
     "metadata": {},
     "output_type": "execute_result"
    }
   ],
   "source": [
    "fv[fv.clearance_status == 'not cleared'].crime_type.value_counts().head(10)"
   ]
  },
  {
   "cell_type": "code",
   "execution_count": 118,
   "id": "116fbc31-62df-4c51-8e19-820f517cf706",
   "metadata": {},
   "outputs": [
    {
     "name": "stdout",
     "output_type": "stream",
     "text": [
      "<class 'pandas.core.frame.DataFrame'>\n",
      "DatetimeIndex: 15562 entries, 2018-01-01 00:05:00 to 2021-12-31 23:40:00\n",
      "Data columns (total 20 columns):\n",
      " #   Column            Non-Null Count  Dtype          \n",
      "---  ------            --------------  -----          \n",
      " 0   crime_type        15562 non-null  object         \n",
      " 1   family_violence   15562 non-null  object         \n",
      " 2   occurrence_date   15562 non-null  datetime64[ns] \n",
      " 3   report_time       15562 non-null  datetime64[ns] \n",
      " 4   report_date       15562 non-null  datetime64[ns] \n",
      " 5   location_type     15562 non-null  object         \n",
      " 6   address           15562 non-null  object         \n",
      " 7   zip_code          15562 non-null  float64        \n",
      " 8   council_district  15562 non-null  float64        \n",
      " 9   sector            15562 non-null  object         \n",
      " 10  district          15562 non-null  object         \n",
      " 11  latitude          15562 non-null  float64        \n",
      " 12  longitude         15562 non-null  float64        \n",
      " 13  clearance_status  15562 non-null  object         \n",
      " 14  clearance_date    15562 non-null  datetime64[ns] \n",
      " 15  cleared           15562 non-null  bool           \n",
      " 16  time_to_report    15562 non-null  timedelta64[ns]\n",
      " 17  month             15562 non-null  object         \n",
      " 18  day               15562 non-null  object         \n",
      " 19  year              15562 non-null  int64          \n",
      "dtypes: bool(1), datetime64[ns](4), float64(4), int64(1), object(9), timedelta64[ns](1)\n",
      "memory usage: 2.4+ MB\n"
     ]
    }
   ],
   "source": [
    "fv.info()"
   ]
  },
  {
   "cell_type": "code",
   "execution_count": 159,
   "id": "9b4580fa-5780-4a88-b17a-6a9e5a6b8e1a",
   "metadata": {},
   "outputs": [
    {
     "data": {
      "text/plain": [
       "<AxesSubplot:>"
      ]
     },
     "execution_count": 159,
     "metadata": {},
     "output_type": "execute_result"
    },
    {
     "data": {
      "image/png": "[encoded data removed]",
      "text/plain": [
       "<Figure size 1008x576 with 1 Axes>"
      ]
     },
     "metadata": {},
     "output_type": "display_data"
    }
   ],
   "source": [
    "fv.month.value_counts().sort_values().plot.barh()"
   ]
  },
  {
   "cell_type": "code",
   "execution_count": 62,
   "id": "e2ddffc4-1035-4a3e-827a-d46c52eefdd7",
   "metadata": {},
   "outputs": [
    {
     "data": {
      "text/plain": [
       "<AxesSubplot:>"
      ]
     },
     "execution_count": 62,
     "metadata": {},
     "output_type": "execute_result"
    },
    {
     "data": {
      "image/png": "[encoded data removed]",
      "text/plain": [
       "<Figure size 1008x576 with 1 Axes>"
      ]
     },
     "metadata": {},
     "output_type": "display_data"
    }
   ],
   "source": [
    "fv.year.value_counts().sort_values().plot.barh()"
   ]
  },
  {
   "cell_type": "code",
   "execution_count": 64,
   "id": "a3d6efd2-b784-4225-8d14-aca758684acb",
   "metadata": {},
   "outputs": [
    {
     "data": {
      "text/plain": [
       "<AxesSubplot:>"
      ]
     },
     "execution_count": 64,
     "metadata": {},
     "output_type": "execute_result"
    },
    {
     "data": {
      "image/png": "[encoded data removed]",
      "text/plain": [
       "<Figure size 1008x576 with 1 Axes>"
      ]
     },
     "metadata": {},
     "output_type": "display_data"
    }
   ],
   "source": [
    "fv.day.value_counts().sort_values().plot.barh()"
   ]
  },
  {
   "cell_type": "markdown",
   "id": "95a344f3-b4ce-46a2-a6b9-51dd66835e6e",
   "metadata": {
    "tags": []
   },
   "source": [
    "# Takeaways\n",
    "- higher than average counts fall into the top 5 districts 2,1,4,3,5\n",
    "- most 'not cleared' family violence crimes are assualt w/injury, harassment, assault by contact\n",
    "- family violence was highest during 2020, occuring during the pandemic and lockdowns.\n",
    "- Summer months have the highest reports of family violence\n",
    "- Saturday and sunday have the highest occurences of family violence reports\n",
    "- Monday, is the highest during the work week\n",
    "-- Council Districts 4,3,1 have the highest counts of family violence"
   ]
  },
  {
   "cell_type": "markdown",
   "id": "8e080c75-ca60-4c6e-acd6-4b335f09d156",
   "metadata": {},
   "source": [
    "# Seasonality of clearance status\n"
   ]
  },
  {
   "cell_type": "code",
   "execution_count": 65,
   "id": "b761160c-4976-467b-b5e9-21ee745f6732",
   "metadata": {},
   "outputs": [
    {
     "data": {
      "text/plain": [
       "(194884, 17)"
      ]
     },
     "execution_count": 65,
     "metadata": {},
     "output_type": "execute_result"
    }
   ],
   "source": [
    "time_series = train.copy()\n",
    "time_series= time_series.set_index('occurrence_time').sort_index()\n",
    "time_series.shape"
   ]
  },
  {
   "cell_type": "code",
   "execution_count": 66,
   "id": "b9a0f0d3-0942-4aed-9a1c-0b8cdd106ffd",
   "metadata": {},
   "outputs": [],
   "source": [
    "time_series['month'] = time_series.index.month_name()\n",
    "time_series['day'] = time_series.index.day_name()\n",
    "time_series['year'] = time_series.index.year"
   ]
  },
  {
   "cell_type": "code",
   "execution_count": 114,
   "id": "5419fd01-94de-4018-8dd3-c69e2ddcab39",
   "metadata": {},
   "outputs": [
    {
     "data": {
      "text/plain": [
       "occurrence_time\n",
       "2018-01-01 00:00:00          not cleared\n",
       "2018-01-01 00:00:00          not cleared\n",
       "2018-01-01 00:00:00          not cleared\n",
       "2018-01-01 00:00:00          not cleared\n",
       "2018-01-01 00:00:00          not cleared\n",
       "                             ...        \n",
       "2021-12-31 23:00:00          not cleared\n",
       "2021-12-31 23:00:00          not cleared\n",
       "2021-12-31 23:20:00          not cleared\n",
       "2021-12-31 23:21:00    cleared by arrest\n",
       "2021-12-31 23:40:00          not cleared\n",
       "Name: clearance_status, Length: 194884, dtype: object"
      ]
     },
     "execution_count": 114,
     "metadata": {},
     "output_type": "execute_result"
    }
   ],
   "source": [
    "sns.time_series.clearance_status."
   ]
  },
  {
   "cell_type": "markdown",
   "id": "44dcf975-0cd9-4f58-a383-df8a2fe450ed",
   "metadata": {},
   "source": [
    "# District exploration\n",
    "- Looking into police department district and what their clearance status looks like"
   ]
  },
  {
   "cell_type": "code",
   "execution_count": 69,
   "id": "2c8463db-be55-4c48-b93d-6c2b305cf20a",
   "metadata": {},
   "outputs": [
    {
     "data": {
      "text/plain": [
       "(352931, 40)"
      ]
     },
     "execution_count": 69,
     "metadata": {},
     "output_type": "execute_result"
    }
   ],
   "source": [
    "district_data = prepare.merge_districts(df)\n",
    "district_data.shape"
   ]
  },
  {
   "cell_type": "code",
   "execution_count": 70,
   "id": "3bba4b84-180e-4e7c-b723-b96fbea4f2f3",
   "metadata": {},
   "outputs": [
    {
     "data": {
      "text/plain": [
       "((197640, 40), (84704, 40), (70587, 40))"
      ]
     },
     "execution_count": 70,
     "metadata": {},
     "output_type": "execute_result"
    }
   ],
   "source": [
    "train1, validate1, test1 = prepare.split_data(district_data)\n",
    "train1.shape, validate1.shape, test1.shape"
   ]
  },
  {
   "cell_type": "code",
   "execution_count": 145,
   "id": "b051fc50-f129-4a5c-8367-129e381c95ca",
   "metadata": {},
   "outputs": [
    {
     "data": {
      "text/plain": [
       "(197640, 39)"
      ]
     },
     "execution_count": 145,
     "metadata": {},
     "output_type": "execute_result"
    }
   ],
   "source": [
    "train2 = train1.copy()\n",
    "train2 = train1.set_index('occurrence_time').sort_index()\n",
    "train2.shape"
   ]
  },
  {
   "cell_type": "code",
   "execution_count": 146,
   "id": "d75ed230-3974-46ae-8274-d8bc60d1513c",
   "metadata": {},
   "outputs": [],
   "source": [
    "train2['month'] = train2.index.month_name()\n",
    "train2['day'] = train2.index.day_name()\n",
    "train2['year'] = train2.index.year"
   ]
  },
  {
   "cell_type": "code",
   "execution_count": 147,
   "id": "56f2678c-c596-4cb2-9225-67f55433c82c",
   "metadata": {},
   "outputs": [
    {
     "data": {
      "text/plain": [
       "197640"
      ]
     },
     "execution_count": 147,
     "metadata": {},
     "output_type": "execute_result"
    }
   ],
   "source": [
    "train2.groupby('battalion_id').clearance_status.value_counts().sum()"
   ]
  },
  {
   "cell_type": "code",
   "execution_count": 163,
   "id": "15ce7b59-ae9f-4a34-91b8-58078d023081",
   "metadata": {},
   "outputs": [
    {
     "data": {
      "text/html": [
       "<div>\n",
       "<style scoped>\n",
       "    .dataframe tbody tr th:only-of-type {\n",
       "        vertical-align: middle;\n",
       "    }\n",
       "\n",
       "    .dataframe tbody tr th {\n",
       "        vertical-align: top;\n",
       "    }\n",
       "\n",
       "    .dataframe thead th {\n",
       "        text-align: right;\n",
       "    }\n",
       "</style>\n",
       "<table border=\"1\" class=\"dataframe\">\n",
       "  <thead>\n",
       "    <tr style=\"text-align: right;\">\n",
       "      <th></th>\n",
       "      <th>crime_type</th>\n",
       "      <th>family_violence</th>\n",
       "      <th>occurrence_date</th>\n",
       "      <th>report_time</th>\n",
       "      <th>report_date</th>\n",
       "      <th>location_type</th>\n",
       "      <th>address</th>\n",
       "      <th>zip_code</th>\n",
       "      <th>council_district</th>\n",
       "      <th>sector</th>\n",
       "      <th>district</th>\n",
       "      <th>latitude</th>\n",
       "      <th>longitude</th>\n",
       "      <th>clearance_status</th>\n",
       "      <th>clearance_date</th>\n",
       "      <th>cleared</th>\n",
       "      <th>time_to_report</th>\n",
       "      <th>pd_district</th>\n",
       "      <th>the_geom</th>\n",
       "      <th>objectid</th>\n",
       "      <th>district_name</th>\n",
       "      <th>sort_order</th>\n",
       "      <th>battalion_id</th>\n",
       "      <th>jurisdiction_id</th>\n",
       "      <th>color</th>\n",
       "      <th>code</th>\n",
       "      <th>external_key</th>\n",
       "      <th>battalion_code</th>\n",
       "      <th>sector_name</th>\n",
       "      <th>input_date</th>\n",
       "      <th>modified_date</th>\n",
       "      <th>input_by</th>\n",
       "      <th>modified_by</th>\n",
       "      <th>bureau_name</th>\n",
       "      <th>patrol_area</th>\n",
       "      <th>command_phone_number</th>\n",
       "      <th>primary_key</th>\n",
       "      <th>shape_area</th>\n",
       "      <th>shape_length</th>\n",
       "      <th>month</th>\n",
       "      <th>day</th>\n",
       "      <th>year</th>\n",
       "    </tr>\n",
       "    <tr>\n",
       "      <th>occurrence_time</th>\n",
       "      <th></th>\n",
       "      <th></th>\n",
       "      <th></th>\n",
       "      <th></th>\n",
       "      <th></th>\n",
       "      <th></th>\n",
       "      <th></th>\n",
       "      <th></th>\n",
       "      <th></th>\n",
       "      <th></th>\n",
       "      <th></th>\n",
       "      <th></th>\n",
       "      <th></th>\n",
       "      <th></th>\n",
       "      <th></th>\n",
       "      <th></th>\n",
       "      <th></th>\n",
       "      <th></th>\n",
       "      <th></th>\n",
       "      <th></th>\n",
       "      <th></th>\n",
       "      <th></th>\n",
       "      <th></th>\n",
       "      <th></th>\n",
       "      <th></th>\n",
       "      <th></th>\n",
       "      <th></th>\n",
       "      <th></th>\n",
       "      <th></th>\n",
       "      <th></th>\n",
       "      <th></th>\n",
       "      <th></th>\n",
       "      <th></th>\n",
       "      <th></th>\n",
       "      <th></th>\n",
       "      <th></th>\n",
       "      <th></th>\n",
       "      <th></th>\n",
       "      <th></th>\n",
       "      <th></th>\n",
       "      <th></th>\n",
       "      <th></th>\n",
       "    </tr>\n",
       "  </thead>\n",
       "  <tbody>\n",
       "    <tr>\n",
       "      <th>2018-01-01</th>\n",
       "      <td>CRIMINAL MISCHIEF</td>\n",
       "      <td>N</td>\n",
       "      <td>2018-01-01</td>\n",
       "      <td>2018-01-04 16:09:00</td>\n",
       "      <td>2018-01-04</td>\n",
       "      <td>RESIDENCE / HOME</td>\n",
       "      <td>12817 SEXSON RIDGE CV</td>\n",
       "      <td>78617.0</td>\n",
       "      <td>2.0</td>\n",
       "      <td>HENRY</td>\n",
       "      <td>7</td>\n",
       "      <td>30.174692</td>\n",
       "      <td>-97.618642</td>\n",
       "      <td>not cleared</td>\n",
       "      <td>2018-01-29</td>\n",
       "      <td>False</td>\n",
       "      <td>3 days 16:09:00</td>\n",
       "      <td>HENRY 7</td>\n",
       "      <td>MULTIPOLYGON (((-97.635913438332 30.1877970633...</td>\n",
       "      <td>74</td>\n",
       "      <td>HENRY 7</td>\n",
       "      <td>1</td>\n",
       "      <td>205</td>\n",
       "      <td>59</td>\n",
       "      <td>16711808</td>\n",
       "      <td>1303</td>\n",
       "      <td>1303</td>\n",
       "      <td>H1</td>\n",
       "      <td>HENRY</td>\n",
       "      <td>12/22/2014 11:31:16 AM +0000</td>\n",
       "      <td>10/09/2018 01:44:09 PM +0000</td>\n",
       "      <td>bmartinlimuel</td>\n",
       "      <td>APD_ADMIN</td>\n",
       "      <td>SOUTH</td>\n",
       "      <td>SOUTHCENTRAL</td>\n",
       "      <td>512-974-8106</td>\n",
       "      <td>83</td>\n",
       "      <td>8.943496e+07</td>\n",
       "      <td>137659.942768</td>\n",
       "      <td>January</td>\n",
       "      <td>Monday</td>\n",
       "      <td>2018</td>\n",
       "    </tr>\n",
       "    <tr>\n",
       "      <th>2018-01-01</th>\n",
       "      <td>CRIMINAL MISCHIEF</td>\n",
       "      <td>N</td>\n",
       "      <td>2018-01-01</td>\n",
       "      <td>2018-04-30 19:55:00</td>\n",
       "      <td>2018-04-30</td>\n",
       "      <td>RESIDENCE / HOME</td>\n",
       "      <td>10303 NEWPORT AVE</td>\n",
       "      <td>78753.0</td>\n",
       "      <td>1.0</td>\n",
       "      <td>EDWARD</td>\n",
       "      <td>7</td>\n",
       "      <td>30.363035</td>\n",
       "      <td>-97.672449</td>\n",
       "      <td>not cleared</td>\n",
       "      <td>2018-06-22</td>\n",
       "      <td>False</td>\n",
       "      <td>119 days 19:55:00</td>\n",
       "      <td>EDWARD 7</td>\n",
       "      <td>MULTIPOLYGON (((-97.652442658383 30.3876563065...</td>\n",
       "      <td>87</td>\n",
       "      <td>EDWARD 7</td>\n",
       "      <td>1</td>\n",
       "      <td>174</td>\n",
       "      <td>13</td>\n",
       "      <td>16711680</td>\n",
       "      <td>1291</td>\n",
       "      <td>1291</td>\n",
       "      <td>E1</td>\n",
       "      <td>EDWARD</td>\n",
       "      <td>12/22/2014 11:31:16 AM +0000</td>\n",
       "      <td>10/09/2018 01:44:41 PM +0000</td>\n",
       "      <td>bmartinlimuel</td>\n",
       "      <td>APD_ADMIN</td>\n",
       "      <td>CENTRAL</td>\n",
       "      <td>NORTHEAST</td>\n",
       "      <td>512-974-5500</td>\n",
       "      <td>91</td>\n",
       "      <td>7.910069e+07</td>\n",
       "      <td>46998.269790</td>\n",
       "      <td>January</td>\n",
       "      <td>Monday</td>\n",
       "      <td>2018</td>\n",
       "    </tr>\n",
       "    <tr>\n",
       "      <th>2018-01-01</th>\n",
       "      <td>FRAUD - OTHER</td>\n",
       "      <td>N</td>\n",
       "      <td>2018-01-01</td>\n",
       "      <td>2018-09-01 15:53:00</td>\n",
       "      <td>2018-09-01</td>\n",
       "      <td>RESIDENCE / HOME</td>\n",
       "      <td>1716 W ST JOHNS AVE</td>\n",
       "      <td>78757.0</td>\n",
       "      <td>7.0</td>\n",
       "      <td>IDA</td>\n",
       "      <td>7</td>\n",
       "      <td>30.344482</td>\n",
       "      <td>-97.729602</td>\n",
       "      <td>not cleared</td>\n",
       "      <td>2018-09-03</td>\n",
       "      <td>False</td>\n",
       "      <td>243 days 15:53:00</td>\n",
       "      <td>IDA 7</td>\n",
       "      <td>MULTIPOLYGON (((-97.723839441668 30.3719295278...</td>\n",
       "      <td>19</td>\n",
       "      <td>IDA 7</td>\n",
       "      <td>1</td>\n",
       "      <td>215</td>\n",
       "      <td>60</td>\n",
       "      <td>16711808</td>\n",
       "      <td>1305</td>\n",
       "      <td>1305</td>\n",
       "      <td>I1</td>\n",
       "      <td>IDA</td>\n",
       "      <td>12/22/2014 11:31:16 AM +0000</td>\n",
       "      <td>09/06/2018 08:54:50 AM +0000</td>\n",
       "      <td>bmartinlimuel</td>\n",
       "      <td>AP7657</td>\n",
       "      <td>CENTRAL</td>\n",
       "      <td>NORTHCENTRAL</td>\n",
       "      <td>512-974-5203</td>\n",
       "      <td>23</td>\n",
       "      <td>9.218470e+07</td>\n",
       "      <td>43885.566418</td>\n",
       "      <td>January</td>\n",
       "      <td>Monday</td>\n",
       "      <td>2018</td>\n",
       "    </tr>\n",
       "    <tr>\n",
       "      <th>2018-01-01</th>\n",
       "      <td>BURGLARY NON RESIDENCE</td>\n",
       "      <td>N</td>\n",
       "      <td>2018-01-01</td>\n",
       "      <td>2019-01-04 17:42:00</td>\n",
       "      <td>2019-01-04</td>\n",
       "      <td>OTHER / UNKNOWN</td>\n",
       "      <td>8101 N LAMAR BLVD NB</td>\n",
       "      <td>78753.0</td>\n",
       "      <td>4.0</td>\n",
       "      <td>EDWARD</td>\n",
       "      <td>1</td>\n",
       "      <td>30.349433</td>\n",
       "      <td>-97.710191</td>\n",
       "      <td>not cleared</td>\n",
       "      <td>2019-02-14</td>\n",
       "      <td>False</td>\n",
       "      <td>368 days 17:42:00</td>\n",
       "      <td>EDWARD 1</td>\n",
       "      <td>MULTIPOLYGON (((-97.694118479216 30.3826672092...</td>\n",
       "      <td>57</td>\n",
       "      <td>EDWARD 1</td>\n",
       "      <td>1</td>\n",
       "      <td>174</td>\n",
       "      <td>13</td>\n",
       "      <td>16711680</td>\n",
       "      <td>1288</td>\n",
       "      <td>1288</td>\n",
       "      <td>E1</td>\n",
       "      <td>EDWARD</td>\n",
       "      <td>12/22/2014 11:31:16 AM +0000</td>\n",
       "      <td>10/09/2018 01:43:05 PM +0000</td>\n",
       "      <td>bmartinlimuel</td>\n",
       "      <td>APD_ADMIN</td>\n",
       "      <td>CENTRAL</td>\n",
       "      <td>NORTHEAST</td>\n",
       "      <td>512-974-5500</td>\n",
       "      <td>72</td>\n",
       "      <td>8.356489e+07</td>\n",
       "      <td>46296.345268</td>\n",
       "      <td>January</td>\n",
       "      <td>Monday</td>\n",
       "      <td>2018</td>\n",
       "    </tr>\n",
       "    <tr>\n",
       "      <th>2018-01-01</th>\n",
       "      <td>THEFT OF SERVICE</td>\n",
       "      <td>N</td>\n",
       "      <td>2018-01-01</td>\n",
       "      <td>2018-08-23 13:30:00</td>\n",
       "      <td>2018-08-23</td>\n",
       "      <td>RESIDENCE / HOME</td>\n",
       "      <td>12005 ROTHERHAM DR</td>\n",
       "      <td>78753.0</td>\n",
       "      <td>1.0</td>\n",
       "      <td>EDWARD</td>\n",
       "      <td>7</td>\n",
       "      <td>30.381374</td>\n",
       "      <td>-97.657214</td>\n",
       "      <td>not cleared</td>\n",
       "      <td>2018-10-23</td>\n",
       "      <td>False</td>\n",
       "      <td>234 days 13:30:00</td>\n",
       "      <td>EDWARD 7</td>\n",
       "      <td>MULTIPOLYGON (((-97.652442658383 30.3876563065...</td>\n",
       "      <td>87</td>\n",
       "      <td>EDWARD 7</td>\n",
       "      <td>1</td>\n",
       "      <td>174</td>\n",
       "      <td>13</td>\n",
       "      <td>16711680</td>\n",
       "      <td>1291</td>\n",
       "      <td>1291</td>\n",
       "      <td>E1</td>\n",
       "      <td>EDWARD</td>\n",
       "      <td>12/22/2014 11:31:16 AM +0000</td>\n",
       "      <td>10/09/2018 01:44:41 PM +0000</td>\n",
       "      <td>bmartinlimuel</td>\n",
       "      <td>APD_ADMIN</td>\n",
       "      <td>CENTRAL</td>\n",
       "      <td>NORTHEAST</td>\n",
       "      <td>512-974-5500</td>\n",
       "      <td>91</td>\n",
       "      <td>7.910069e+07</td>\n",
       "      <td>46998.269790</td>\n",
       "      <td>January</td>\n",
       "      <td>Monday</td>\n",
       "      <td>2018</td>\n",
       "    </tr>\n",
       "  </tbody>\n",
       "</table>\n",
       "</div>"
      ],
      "text/plain": [
       "                             crime_type family_violence occurrence_date  \\\n",
       "occurrence_time                                                           \n",
       "2018-01-01            CRIMINAL MISCHIEF               N      2018-01-01   \n",
       "2018-01-01            CRIMINAL MISCHIEF               N      2018-01-01   \n",
       "2018-01-01                FRAUD - OTHER               N      2018-01-01   \n",
       "2018-01-01       BURGLARY NON RESIDENCE               N      2018-01-01   \n",
       "2018-01-01             THEFT OF SERVICE               N      2018-01-01   \n",
       "\n",
       "                        report_time report_date     location_type  \\\n",
       "occurrence_time                                                     \n",
       "2018-01-01      2018-01-04 16:09:00  2018-01-04  RESIDENCE / HOME   \n",
       "2018-01-01      2018-04-30 19:55:00  2018-04-30  RESIDENCE / HOME   \n",
       "2018-01-01      2018-09-01 15:53:00  2018-09-01  RESIDENCE / HOME   \n",
       "2018-01-01      2019-01-04 17:42:00  2019-01-04   OTHER / UNKNOWN   \n",
       "2018-01-01      2018-08-23 13:30:00  2018-08-23  RESIDENCE / HOME   \n",
       "\n",
       "                               address  zip_code  council_district  sector  \\\n",
       "occurrence_time                                                              \n",
       "2018-01-01       12817 SEXSON RIDGE CV   78617.0               2.0   HENRY   \n",
       "2018-01-01           10303 NEWPORT AVE   78753.0               1.0  EDWARD   \n",
       "2018-01-01         1716 W ST JOHNS AVE   78757.0               7.0     IDA   \n",
       "2018-01-01        8101 N LAMAR BLVD NB   78753.0               4.0  EDWARD   \n",
       "2018-01-01          12005 ROTHERHAM DR   78753.0               1.0  EDWARD   \n",
       "\n",
       "                district   latitude  longitude clearance_status  \\\n",
       "occurrence_time                                                   \n",
       "2018-01-01             7  30.174692 -97.618642      not cleared   \n",
       "2018-01-01             7  30.363035 -97.672449      not cleared   \n",
       "2018-01-01             7  30.344482 -97.729602      not cleared   \n",
       "2018-01-01             1  30.349433 -97.710191      not cleared   \n",
       "2018-01-01             7  30.381374 -97.657214      not cleared   \n",
       "\n",
       "                clearance_date  cleared    time_to_report pd_district  \\\n",
       "occurrence_time                                                         \n",
       "2018-01-01          2018-01-29    False   3 days 16:09:00     HENRY 7   \n",
       "2018-01-01          2018-06-22    False 119 days 19:55:00    EDWARD 7   \n",
       "2018-01-01          2018-09-03    False 243 days 15:53:00       IDA 7   \n",
       "2018-01-01          2019-02-14    False 368 days 17:42:00    EDWARD 1   \n",
       "2018-01-01          2018-10-23    False 234 days 13:30:00    EDWARD 7   \n",
       "\n",
       "                                                          the_geom  objectid  \\\n",
       "occurrence_time                                                                \n",
       "2018-01-01       MULTIPOLYGON (((-97.635913438332 30.1877970633...        74   \n",
       "2018-01-01       MULTIPOLYGON (((-97.652442658383 30.3876563065...        87   \n",
       "2018-01-01       MULTIPOLYGON (((-97.723839441668 30.3719295278...        19   \n",
       "2018-01-01       MULTIPOLYGON (((-97.694118479216 30.3826672092...        57   \n",
       "2018-01-01       MULTIPOLYGON (((-97.652442658383 30.3876563065...        87   \n",
       "\n",
       "                district_name  sort_order  battalion_id  jurisdiction_id  \\\n",
       "occurrence_time                                                            \n",
       "2018-01-01            HENRY 7           1           205               59   \n",
       "2018-01-01           EDWARD 7           1           174               13   \n",
       "2018-01-01              IDA 7           1           215               60   \n",
       "2018-01-01           EDWARD 1           1           174               13   \n",
       "2018-01-01           EDWARD 7           1           174               13   \n",
       "\n",
       "                    color  code  external_key battalion_code sector_name  \\\n",
       "occurrence_time                                                            \n",
       "2018-01-01       16711808  1303          1303             H1       HENRY   \n",
       "2018-01-01       16711680  1291          1291             E1      EDWARD   \n",
       "2018-01-01       16711808  1305          1305             I1         IDA   \n",
       "2018-01-01       16711680  1288          1288             E1      EDWARD   \n",
       "2018-01-01       16711680  1291          1291             E1      EDWARD   \n",
       "\n",
       "                                   input_date                 modified_date  \\\n",
       "occurrence_time                                                               \n",
       "2018-01-01       12/22/2014 11:31:16 AM +0000  10/09/2018 01:44:09 PM +0000   \n",
       "2018-01-01       12/22/2014 11:31:16 AM +0000  10/09/2018 01:44:41 PM +0000   \n",
       "2018-01-01       12/22/2014 11:31:16 AM +0000  09/06/2018 08:54:50 AM +0000   \n",
       "2018-01-01       12/22/2014 11:31:16 AM +0000  10/09/2018 01:43:05 PM +0000   \n",
       "2018-01-01       12/22/2014 11:31:16 AM +0000  10/09/2018 01:44:41 PM +0000   \n",
       "\n",
       "                      input_by modified_by bureau_name   patrol_area  \\\n",
       "occurrence_time                                                        \n",
       "2018-01-01       bmartinlimuel   APD_ADMIN       SOUTH  SOUTHCENTRAL   \n",
       "2018-01-01       bmartinlimuel   APD_ADMIN     CENTRAL     NORTHEAST   \n",
       "2018-01-01       bmartinlimuel      AP7657     CENTRAL  NORTHCENTRAL   \n",
       "2018-01-01       bmartinlimuel   APD_ADMIN     CENTRAL     NORTHEAST   \n",
       "2018-01-01       bmartinlimuel   APD_ADMIN     CENTRAL     NORTHEAST   \n",
       "\n",
       "                command_phone_number  primary_key    shape_area  \\\n",
       "occurrence_time                                                   \n",
       "2018-01-01              512-974-8106           83  8.943496e+07   \n",
       "2018-01-01              512-974-5500           91  7.910069e+07   \n",
       "2018-01-01              512-974-5203           23  9.218470e+07   \n",
       "2018-01-01              512-974-5500           72  8.356489e+07   \n",
       "2018-01-01              512-974-5500           91  7.910069e+07   \n",
       "\n",
       "                  shape_length    month     day  year  \n",
       "occurrence_time                                        \n",
       "2018-01-01       137659.942768  January  Monday  2018  \n",
       "2018-01-01        46998.269790  January  Monday  2018  \n",
       "2018-01-01        43885.566418  January  Monday  2018  \n",
       "2018-01-01        46296.345268  January  Monday  2018  \n",
       "2018-01-01        46998.269790  January  Monday  2018  "
      ]
     },
     "execution_count": 163,
     "metadata": {},
     "output_type": "execute_result"
    }
   ],
   "source": [
    "train2.head()"
   ]
  },
  {
   "cell_type": "code",
   "execution_count": 186,
   "id": "de317cb8-c5c7-450c-88d7-2b66773bbac2",
   "metadata": {},
   "outputs": [
    {
     "data": {
      "text/plain": [
       "<AxesSubplot:xlabel='council_district'>"
      ]
     },
     "execution_count": 186,
     "metadata": {},
     "output_type": "execute_result"
    },
    {
     "data": {
      "image/png": "[encoded data removed]",
      "text/plain": [
       "<Figure size 1008x576 with 1 Axes>"
      ]
     },
     "metadata": {},
     "output_type": "display_data"
    }
   ],
   "source": [
    "\n",
    "murder = train2[train2.crime_type.str.contains('MURDER')]\n",
    "\n",
    "murder.groupby('council_district').crime_type.count().sort_values(ascending = False).plot.bar(color = 'green')"
   ]
  },
  {
   "cell_type": "code",
   "execution_count": null,
   "id": "d604047a-f264-4845-b98e-222e7e6a5423",
   "metadata": {},
   "outputs": [],
   "source": []
  }
 ],
 "metadata": {
  "kernelspec": {
   "display_name": "Python 3 (ipykernel)",
   "language": "python",
   "name": "python3"
  },
  "language_info": {
   "codemirror_mode": {
    "name": "ipython",
    "version": 3
   },
   "file_extension": ".py",
   "mimetype": "text/x-python",
   "name": "python",
   "nbconvert_exporter": "python",
   "pygments_lexer": "ipython3",
   "version": "3.9.7"
  }
 },
 "nbformat": 4,
 "nbformat_minor": 5
}
