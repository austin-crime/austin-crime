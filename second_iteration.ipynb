{
 "cells": [
  {
   "cell_type": "markdown",
   "id": "fdf3c566-911d-46fc-8c63-11a43aaf66de",
   "metadata": {},
   "source": [
    "# Data Preparation\n",
    "\n",
    "This notebook contains all steps and decisions made in the 2nd iteration of the Austin Crime project.\n",
    "\n",
    "## The Required Imports\n",
    "\n",
    "Here we'll import all the required modules for this notebook."
   ]
  },
  {
   "cell_type": "code",
   "execution_count": 1,
   "id": "e1377a79-c2f1-4087-9910-550ac4cd6d40",
   "metadata": {},
   "outputs": [],
   "source": [
    "import numpy as np\n",
    "import pandas as pd\n",
    "import matplotlib.pyplot as plt\n",
    "import seaborn as sns\n",
    "\n",
    "from acquire import get_crime_data\n",
    "import prepare\n",
    "from wrangle import *"
   ]
  },
  {
   "cell_type": "markdown",
   "id": "79103e84-044c-4696-9e1e-84dce23c2644",
   "metadata": {},
   "source": [
    "## Acquire the Data\n",
    "\n",
    "We'll acquire the data using the get_crime_data function from the acquire module. Here we'll explicitly read from the source using an API, but going forward we will use the cache file 'Crime_Reports.csv'."
   ]
  },
  {
   "cell_type": "code",
   "execution_count": 2,
   "id": "5632af35-1969-463e-acb5-68db2168faac",
   "metadata": {},
   "outputs": [
    {
     "name": "stdout",
     "output_type": "stream",
     "text": [
      "Using cached csv\n"
     ]
    },
    {
     "data": {
      "text/plain": [
       "(500000, 31)"
      ]
     },
     "execution_count": 2,
     "metadata": {},
     "output_type": "execute_result"
    }
   ],
   "source": [
    "# Acquire the data using the API\n",
    "\n",
    "df = get_crime_data()\n",
    "df.shape"
   ]
  },
  {
   "cell_type": "code",
   "execution_count": 3,
   "id": "6b458e38-3c25-494f-90ed-8bf6733a86d2",
   "metadata": {},
   "outputs": [
    {
     "name": "stdout",
     "output_type": "stream",
     "text": [
      "<class 'pandas.core.frame.DataFrame'>\n",
      "RangeIndex: 500000 entries, 0 to 499999\n",
      "Data columns (total 31 columns):\n",
      " #   Column                       Non-Null Count   Dtype  \n",
      "---  ------                       --------------   -----  \n",
      " 0   incident_report_number       500000 non-null  int64  \n",
      " 1   crime_type                   500000 non-null  object \n",
      " 2   ucr_code                     500000 non-null  int64  \n",
      " 3   family_violence              500000 non-null  object \n",
      " 4   occ_date_time                500000 non-null  object \n",
      " 5   occ_date                     500000 non-null  object \n",
      " 6   occ_time                     500000 non-null  int64  \n",
      " 7   rep_date_time                500000 non-null  object \n",
      " 8   rep_date                     500000 non-null  object \n",
      " 9   rep_time                     500000 non-null  int64  \n",
      " 10  location_type                498336 non-null  object \n",
      " 11  address                      500000 non-null  object \n",
      " 12  zip_code                     497118 non-null  float64\n",
      " 13  council_district             494792 non-null  float64\n",
      " 14  sector                       498366 non-null  object \n",
      " 15  district                     498224 non-null  object \n",
      " 16  pra                          497709 non-null  float64\n",
      " 17  census_tract                 495816 non-null  float64\n",
      " 18  x_coordinate                 497855 non-null  float64\n",
      " 19  y_coordinate                 497855 non-null  float64\n",
      " 20  latitude                     490957 non-null  float64\n",
      " 21  longitude                    490957 non-null  float64\n",
      " 22  location                     490957 non-null  object \n",
      " 23  :@computed_region_a3it_2a2z  490952 non-null  float64\n",
      " 24  :@computed_region_8spj_utxs  488726 non-null  float64\n",
      " 25  :@computed_region_q9nd_rr82  489772 non-null  float64\n",
      " 26  ucr_category                 190835 non-null  object \n",
      " 27  category_description         190835 non-null  object \n",
      " 28  :@computed_region_qwte_z96m  272371 non-null  float64\n",
      " 29  clearance_status             440652 non-null  object \n",
      " 30  clearance_date               440639 non-null  object \n",
      "dtypes: float64(12), int64(4), object(15)\n",
      "memory usage: 118.3+ MB\n"
     ]
    }
   ],
   "source": [
    "df.info()"
   ]
  },
  {
   "cell_type": "markdown",
   "id": "f9b8be44-1c3b-464d-b4c8-4766a088ab8e",
   "metadata": {},
   "source": [
    "### Limit Time Frame of the Data\n",
    "\n",
    "We are only interested in crimes reported between the years 2018 and 2021. Here we'll remove all observations that occur outside of this time frame."
   ]
  },
  {
   "cell_type": "code",
   "execution_count": 4,
   "id": "e4625e8c-7115-4117-8602-560ac1838def",
   "metadata": {},
   "outputs": [
    {
     "data": {
      "text/plain": [
       "0    2022-05-28T00:00:00.000\n",
       "Name: occ_date, dtype: object"
      ]
     },
     "execution_count": 4,
     "metadata": {},
     "output_type": "execute_result"
    }
   ],
   "source": [
    "# Let's see how the date information is stored in the dataframe.\n",
    "\n",
    "df.head(1).occ_date"
   ]
  },
  {
   "cell_type": "code",
   "execution_count": 5,
   "id": "7818963c-fb48-42d1-9cf7-6805afb7c3fb",
   "metadata": {},
   "outputs": [],
   "source": [
    "# Set the occ_date column to a datetime type.\n",
    "\n",
    "df.occ_date = pd.to_datetime(df.occ_date, format = '%Y-%m-%d')"
   ]
  },
  {
   "cell_type": "code",
   "execution_count": 6,
   "id": "215e0cac-5621-465c-8e9e-cc9bf1f25b32",
   "metadata": {},
   "outputs": [
    {
     "data": {
      "text/plain": [
       "0   2022-05-28\n",
       "1   2022-05-28\n",
       "2   2022-05-28\n",
       "3   2022-05-28\n",
       "4   2022-05-28\n",
       "Name: occ_date, dtype: datetime64[ns]"
      ]
     },
     "execution_count": 6,
     "metadata": {},
     "output_type": "execute_result"
    }
   ],
   "source": [
    "df.occ_date.head()"
   ]
  },
  {
   "cell_type": "code",
   "execution_count": 7,
   "id": "8b5fb8f0-0eea-4c99-a795-32503bd56b7c",
   "metadata": {},
   "outputs": [
    {
     "data": {
      "text/plain": [
       "(401978, 31)"
      ]
     },
     "execution_count": 7,
     "metadata": {},
     "output_type": "execute_result"
    }
   ],
   "source": [
    "# Subset the data to include observations between 2018-01-01 and 2021-12-31.\n",
    "\n",
    "df = df[(df.occ_date >= '2018-01-01') & (df.occ_date <= '2021-12-31')]\n",
    "df.shape"
   ]
  },
  {
   "cell_type": "markdown",
   "id": "f4787e9b-aa9e-458f-a337-0c717f80bc51",
   "metadata": {},
   "source": [
    "### New Decisions"
   ]
  },
  {
   "cell_type": "markdown",
   "id": "8a7f2898-e896-47c3-bb7c-f8a2ad37d509",
   "metadata": {},
   "source": [
    "*After discussion and research on the meaning of cleared by exception, we decided that instead of lumping cleared by arrest and cleared by exception together it might be better to drop cleared by exception all together. Cleared by exception and cleared by arrest can mean very different things, so depending on the proportion of cleared by exception values it may make sense to drop all of them for the sake of data integrity.*"
   ]
  },
  {
   "cell_type": "code",
   "execution_count": 8,
   "id": "fab5f09e-48cf-4b48-bc6a-b6e37e4c2af5",
   "metadata": {},
   "outputs": [
    {
     "data": {
      "text/plain": [
       "N    281250\n",
       "C     73852\n",
       "O      1668\n",
       "Name: clearance_status, dtype: int64"
      ]
     },
     "execution_count": 8,
     "metadata": {},
     "output_type": "execute_result"
    }
   ],
   "source": [
    "# Checking the proportions of cleared by arrest, cleared by exception, and not cleared\n",
    "df.clearance_status.value_counts()"
   ]
  },
  {
   "cell_type": "code",
   "execution_count": 9,
   "id": "3ec54043-dafd-4766-8309-b1fbb929409c",
   "metadata": {},
   "outputs": [
    {
     "data": {
      "text/plain": [
       "N    0.788323\n",
       "C    0.207002\n",
       "O    0.004675\n",
       "Name: clearance_status, dtype: float64"
      ]
     },
     "execution_count": 9,
     "metadata": {},
     "output_type": "execute_result"
    }
   ],
   "source": [
    "# Checking as a percentage\n",
    "df.clearance_status.value_counts(normalize=True)"
   ]
  },
  {
   "cell_type": "markdown",
   "id": "97a0a7d6-fd6b-4f47-a390-94d896ab74c6",
   "metadata": {},
   "source": [
    "**Cleared by exception makes up less than 1 percent of our data. Moving forward We will drop all rows with these values.**"
   ]
  },
  {
   "cell_type": "code",
   "execution_count": 10,
   "id": "7ff3960f-05fb-4a7e-a6fa-baa4d46b3d10",
   "metadata": {},
   "outputs": [],
   "source": [
    "# Removing the O value meaning cleared by exception\n",
    "df = df[~(df.clearance_status == 'O')]"
   ]
  },
  {
   "cell_type": "code",
   "execution_count": 11,
   "id": "09acc07e-d843-4429-9ac6-3da71831ff57",
   "metadata": {},
   "outputs": [
    {
     "data": {
      "text/plain": [
       "N    281250\n",
       "C     73852\n",
       "Name: clearance_status, dtype: int64"
      ]
     },
     "execution_count": 11,
     "metadata": {},
     "output_type": "execute_result"
    }
   ],
   "source": [
    "df.clearance_status.value_counts()"
   ]
  },
  {
   "cell_type": "markdown",
   "id": "a5debb58-ebe0-4c76-aaa2-389748752ae6",
   "metadata": {},
   "source": [
    "**Testing this change after adding it to the prepare.py**"
   ]
  },
  {
   "cell_type": "code",
   "execution_count": 12,
   "id": "e3f996c4-54bb-48f3-8607-63703ab08025",
   "metadata": {},
   "outputs": [
    {
     "name": "stdout",
     "output_type": "stream",
     "text": [
      "Using cached csv\n"
     ]
    },
    {
     "data": {
      "text/html": [
       "<div>\n",
       "<style scoped>\n",
       "    .dataframe tbody tr th:only-of-type {\n",
       "        vertical-align: middle;\n",
       "    }\n",
       "\n",
       "    .dataframe tbody tr th {\n",
       "        vertical-align: top;\n",
       "    }\n",
       "\n",
       "    .dataframe thead th {\n",
       "        text-align: right;\n",
       "    }\n",
       "</style>\n",
       "<table border=\"1\" class=\"dataframe\">\n",
       "  <thead>\n",
       "    <tr style=\"text-align: right;\">\n",
       "      <th></th>\n",
       "      <th>crime_type</th>\n",
       "      <th>family_violence</th>\n",
       "      <th>occurrence_time</th>\n",
       "      <th>occurrence_date</th>\n",
       "      <th>report_time</th>\n",
       "      <th>report_date</th>\n",
       "      <th>location_type</th>\n",
       "      <th>address</th>\n",
       "      <th>zip_code</th>\n",
       "      <th>council_district</th>\n",
       "      <th>sector</th>\n",
       "      <th>district</th>\n",
       "      <th>latitude</th>\n",
       "      <th>longitude</th>\n",
       "      <th>clearance_status</th>\n",
       "      <th>clearance_date</th>\n",
       "      <th>cleared</th>\n",
       "      <th>time_to_report</th>\n",
       "    </tr>\n",
       "  </thead>\n",
       "  <tbody>\n",
       "    <tr>\n",
       "      <th>34573</th>\n",
       "      <td>ASSAULT ON PUBLIC SERVANT</td>\n",
       "      <td>N</td>\n",
       "      <td>2021-12-31 23:50:00</td>\n",
       "      <td>2021-12-31</td>\n",
       "      <td>2021-12-31 23:50:00</td>\n",
       "      <td>2021-12-31</td>\n",
       "      <td>COMMERCIAL / OFFICE BUILDING</td>\n",
       "      <td>111 CONGRESS AVE</td>\n",
       "      <td>78701.0</td>\n",
       "      <td>9.0</td>\n",
       "      <td>GE</td>\n",
       "      <td>3</td>\n",
       "      <td>30.263739</td>\n",
       "      <td>-97.743651</td>\n",
       "      <td>cleared by arrest</td>\n",
       "      <td>2022-01-03</td>\n",
       "      <td>True</td>\n",
       "      <td>0 days 00:00:00</td>\n",
       "    </tr>\n",
       "    <tr>\n",
       "      <th>34574</th>\n",
       "      <td>THEFT</td>\n",
       "      <td>N</td>\n",
       "      <td>2021-12-31 23:50:00</td>\n",
       "      <td>2021-12-31</td>\n",
       "      <td>2022-01-07 14:12:00</td>\n",
       "      <td>2022-01-07</td>\n",
       "      <td>OTHER / UNKNOWN</td>\n",
       "      <td>6936 E BEN WHITE BLVD SVRD WB</td>\n",
       "      <td>78741.0</td>\n",
       "      <td>3.0</td>\n",
       "      <td>HE</td>\n",
       "      <td>5</td>\n",
       "      <td>30.215264</td>\n",
       "      <td>-97.703019</td>\n",
       "      <td>not cleared</td>\n",
       "      <td>2022-01-10</td>\n",
       "      <td>False</td>\n",
       "      <td>6 days 14:22:00</td>\n",
       "    </tr>\n",
       "    <tr>\n",
       "      <th>34575</th>\n",
       "      <td>PUBLIC INTOXICATION</td>\n",
       "      <td>N</td>\n",
       "      <td>2021-12-31 23:50:00</td>\n",
       "      <td>2021-12-31</td>\n",
       "      <td>2021-12-31 23:50:00</td>\n",
       "      <td>2021-12-31</td>\n",
       "      <td>HWY / ROAD / ALLEY/ STREET/ SIDEWALK</td>\n",
       "      <td>406 E 6TH ST</td>\n",
       "      <td>78701.0</td>\n",
       "      <td>9.0</td>\n",
       "      <td>GE</td>\n",
       "      <td>2</td>\n",
       "      <td>30.267300</td>\n",
       "      <td>-97.738857</td>\n",
       "      <td>cleared by arrest</td>\n",
       "      <td>2021-12-31</td>\n",
       "      <td>True</td>\n",
       "      <td>0 days 00:00:00</td>\n",
       "    </tr>\n",
       "    <tr>\n",
       "      <th>34576</th>\n",
       "      <td>DOC DISCHARGE GUN - PUB PLACE</td>\n",
       "      <td>N</td>\n",
       "      <td>2021-12-31 23:47:00</td>\n",
       "      <td>2021-12-31</td>\n",
       "      <td>2021-12-31 23:47:00</td>\n",
       "      <td>2021-12-31</td>\n",
       "      <td>RESIDENCE / HOME</td>\n",
       "      <td>1202 E ST JOHNS AVE</td>\n",
       "      <td>78752.0</td>\n",
       "      <td>4.0</td>\n",
       "      <td>ID</td>\n",
       "      <td>1</td>\n",
       "      <td>30.328049</td>\n",
       "      <td>-97.693683</td>\n",
       "      <td>not cleared</td>\n",
       "      <td>2022-01-05</td>\n",
       "      <td>False</td>\n",
       "      <td>0 days 00:00:00</td>\n",
       "    </tr>\n",
       "    <tr>\n",
       "      <th>34577</th>\n",
       "      <td>AGG ASLT STRANGLE/SUFFOCATE</td>\n",
       "      <td>Y</td>\n",
       "      <td>2021-12-31 23:40:00</td>\n",
       "      <td>2021-12-31</td>\n",
       "      <td>2022-01-01 00:44:00</td>\n",
       "      <td>2022-01-01</td>\n",
       "      <td>RESIDENCE / HOME</td>\n",
       "      <td>10000 N LAMAR BLVD</td>\n",
       "      <td>78758.0</td>\n",
       "      <td>4.0</td>\n",
       "      <td>ED</td>\n",
       "      <td>1</td>\n",
       "      <td>30.369262</td>\n",
       "      <td>-97.695105</td>\n",
       "      <td>not cleared</td>\n",
       "      <td>2022-01-05</td>\n",
       "      <td>False</td>\n",
       "      <td>0 days 01:04:00</td>\n",
       "    </tr>\n",
       "  </tbody>\n",
       "</table>\n",
       "</div>"
      ],
      "text/plain": [
       "                          crime_type family_violence     occurrence_time  \\\n",
       "34573      ASSAULT ON PUBLIC SERVANT               N 2021-12-31 23:50:00   \n",
       "34574                          THEFT               N 2021-12-31 23:50:00   \n",
       "34575            PUBLIC INTOXICATION               N 2021-12-31 23:50:00   \n",
       "34576  DOC DISCHARGE GUN - PUB PLACE               N 2021-12-31 23:47:00   \n",
       "34577    AGG ASLT STRANGLE/SUFFOCATE               Y 2021-12-31 23:40:00   \n",
       "\n",
       "      occurrence_date         report_time report_date  \\\n",
       "34573      2021-12-31 2021-12-31 23:50:00  2021-12-31   \n",
       "34574      2021-12-31 2022-01-07 14:12:00  2022-01-07   \n",
       "34575      2021-12-31 2021-12-31 23:50:00  2021-12-31   \n",
       "34576      2021-12-31 2021-12-31 23:47:00  2021-12-31   \n",
       "34577      2021-12-31 2022-01-01 00:44:00  2022-01-01   \n",
       "\n",
       "                              location_type                        address  \\\n",
       "34573          COMMERCIAL / OFFICE BUILDING               111 CONGRESS AVE   \n",
       "34574                       OTHER / UNKNOWN  6936 E BEN WHITE BLVD SVRD WB   \n",
       "34575  HWY / ROAD / ALLEY/ STREET/ SIDEWALK                   406 E 6TH ST   \n",
       "34576                      RESIDENCE / HOME            1202 E ST JOHNS AVE   \n",
       "34577                      RESIDENCE / HOME             10000 N LAMAR BLVD   \n",
       "\n",
       "       zip_code  council_district sector district   latitude  longitude  \\\n",
       "34573   78701.0               9.0     GE        3  30.263739 -97.743651   \n",
       "34574   78741.0               3.0     HE        5  30.215264 -97.703019   \n",
       "34575   78701.0               9.0     GE        2  30.267300 -97.738857   \n",
       "34576   78752.0               4.0     ID        1  30.328049 -97.693683   \n",
       "34577   78758.0               4.0     ED        1  30.369262 -97.695105   \n",
       "\n",
       "        clearance_status clearance_date  cleared  time_to_report  \n",
       "34573  cleared by arrest     2022-01-03     True 0 days 00:00:00  \n",
       "34574        not cleared     2022-01-10    False 6 days 14:22:00  \n",
       "34575  cleared by arrest     2021-12-31     True 0 days 00:00:00  \n",
       "34576        not cleared     2022-01-05    False 0 days 00:00:00  \n",
       "34577        not cleared     2022-01-05    False 0 days 01:04:00  "
      ]
     },
     "execution_count": 12,
     "metadata": {},
     "output_type": "execute_result"
    }
   ],
   "source": [
    "df = wrangle_crime_data(drop_cleared_by_exception=True)\n",
    "df.head()"
   ]
  },
  {
   "cell_type": "code",
   "execution_count": 13,
   "id": "e5ffea59-e404-4827-9534-01cf8eaf7d98",
   "metadata": {},
   "outputs": [
    {
     "data": {
      "text/plain": [
       "not cleared          275577\n",
       "cleared by arrest     72431\n",
       "Name: clearance_status, dtype: int64"
      ]
     },
     "execution_count": 13,
     "metadata": {},
     "output_type": "execute_result"
    }
   ],
   "source": [
    "df.clearance_status.value_counts()"
   ]
  },
  {
   "cell_type": "code",
   "execution_count": 14,
   "id": "5bcbc768-bb78-48e7-982a-a0e401955e9c",
   "metadata": {},
   "outputs": [
    {
     "data": {
      "text/plain": [
       "(348008, 18)"
      ]
     },
     "execution_count": 14,
     "metadata": {},
     "output_type": "execute_result"
    }
   ],
   "source": [
    "df.shape"
   ]
  },
  {
   "cell_type": "markdown",
   "id": "6ff37570-9252-4ba2-9723-3e3318354e68",
   "metadata": {},
   "source": [
    "### Try joining our data set with the Austin Police Department Districts Data Set"
   ]
  },
  {
   "cell_type": "markdown",
   "id": "72b7a8b6-ceff-47f8-839c-ca8d9b99531a",
   "metadata": {},
   "source": [
    "#### Acquire the Department Districts Set"
   ]
  },
  {
   "cell_type": "code",
   "execution_count": 15,
   "id": "aaaaae55-b8b4-444b-8cf3-5a7202765ac3",
   "metadata": {},
   "outputs": [
    {
     "data": {
      "text/html": [
       "<div>\n",
       "<style scoped>\n",
       "    .dataframe tbody tr th:only-of-type {\n",
       "        vertical-align: middle;\n",
       "    }\n",
       "\n",
       "    .dataframe tbody tr th {\n",
       "        vertical-align: top;\n",
       "    }\n",
       "\n",
       "    .dataframe thead th {\n",
       "        text-align: right;\n",
       "    }\n",
       "</style>\n",
       "<table border=\"1\" class=\"dataframe\">\n",
       "  <thead>\n",
       "    <tr style=\"text-align: right;\">\n",
       "      <th></th>\n",
       "      <th>the_geom</th>\n",
       "      <th>OBJECTID</th>\n",
       "      <th>DISTRICT_NAME</th>\n",
       "      <th>SORT_ORDER</th>\n",
       "      <th>BATTALION_ID</th>\n",
       "      <th>JURISDICTION_ID</th>\n",
       "      <th>COLOR</th>\n",
       "      <th>CODE</th>\n",
       "      <th>EXTERNAL_KEY</th>\n",
       "      <th>BATTALION_CODE</th>\n",
       "      <th>...</th>\n",
       "      <th>INPUT_DATE</th>\n",
       "      <th>MODIFIED_DATE</th>\n",
       "      <th>INPUT_BY</th>\n",
       "      <th>MODIFIED_BY</th>\n",
       "      <th>BUREAU_NAME</th>\n",
       "      <th>PATROL_AREA</th>\n",
       "      <th>COMMAND_PHONE_NUMBER</th>\n",
       "      <th>PRIMARY_KEY</th>\n",
       "      <th>Shape__Area</th>\n",
       "      <th>Shape__Length</th>\n",
       "    </tr>\n",
       "  </thead>\n",
       "  <tbody>\n",
       "    <tr>\n",
       "      <th>0</th>\n",
       "      <td>MULTIPOLYGON (((-97.827136391606 30.4558508283...</td>\n",
       "      <td>73</td>\n",
       "      <td>ADAM 8</td>\n",
       "      <td>1</td>\n",
       "      <td>21</td>\n",
       "      <td>6</td>\n",
       "      <td>16744448</td>\n",
       "      <td>1271</td>\n",
       "      <td>1271</td>\n",
       "      <td>A1</td>\n",
       "      <td>...</td>\n",
       "      <td>12/22/2014 11:31:16 AM +0000</td>\n",
       "      <td>10/18/2021 02:45:02 PM +0000</td>\n",
       "      <td>bmartinlimuel</td>\n",
       "      <td>APD_ADMIN</td>\n",
       "      <td>NORTH</td>\n",
       "      <td>NORTHWEST</td>\n",
       "      <td>512-974-5500</td>\n",
       "      <td>6</td>\n",
       "      <td>5.172025e+08</td>\n",
       "      <td>191833.208798</td>\n",
       "    </tr>\n",
       "    <tr>\n",
       "      <th>1</th>\n",
       "      <td>MULTIPOLYGON (((-97.766313673553 30.4663198555...</td>\n",
       "      <td>71</td>\n",
       "      <td>ADAM 4</td>\n",
       "      <td>1</td>\n",
       "      <td>21</td>\n",
       "      <td>6</td>\n",
       "      <td>16744448</td>\n",
       "      <td>1272</td>\n",
       "      <td>1272</td>\n",
       "      <td>A1</td>\n",
       "      <td>...</td>\n",
       "      <td>10/09/2018 01:39:46 PM +0000</td>\n",
       "      <td>10/09/2018 01:43:24 PM +0000</td>\n",
       "      <td>APD_ADMIN</td>\n",
       "      <td>APD_ADMIN</td>\n",
       "      <td>NORTH</td>\n",
       "      <td>NORTHWEST</td>\n",
       "      <td>512-974-5500</td>\n",
       "      <td>76</td>\n",
       "      <td>6.959435e+07</td>\n",
       "      <td>47235.701679</td>\n",
       "    </tr>\n",
       "    <tr>\n",
       "      <th>2</th>\n",
       "      <td>MULTIPOLYGON (((-97.682787782506 30.2120013978...</td>\n",
       "      <td>69</td>\n",
       "      <td>HENRY 6</td>\n",
       "      <td>1</td>\n",
       "      <td>205</td>\n",
       "      <td>59</td>\n",
       "      <td>16711808</td>\n",
       "      <td>1302</td>\n",
       "      <td>1302</td>\n",
       "      <td>H1</td>\n",
       "      <td>...</td>\n",
       "      <td>12/22/2014 11:31:16 AM +0000</td>\n",
       "      <td>10/09/2018 01:43:49 PM +0000</td>\n",
       "      <td>bmartinlimuel</td>\n",
       "      <td>APD_ADMIN</td>\n",
       "      <td>SOUTH</td>\n",
       "      <td>SOUTHCENTRAL</td>\n",
       "      <td>512-974-8106</td>\n",
       "      <td>80</td>\n",
       "      <td>8.660023e+07</td>\n",
       "      <td>45199.006624</td>\n",
       "    </tr>\n",
       "    <tr>\n",
       "      <th>3</th>\n",
       "      <td>MULTIPOLYGON (((-97.66368813346 30.44938993670...</td>\n",
       "      <td>66</td>\n",
       "      <td>EDWARD 6</td>\n",
       "      <td>1</td>\n",
       "      <td>174</td>\n",
       "      <td>13</td>\n",
       "      <td>16711680</td>\n",
       "      <td>1291</td>\n",
       "      <td>1291</td>\n",
       "      <td>E1</td>\n",
       "      <td>...</td>\n",
       "      <td>12/22/2014 11:31:16 AM +0000</td>\n",
       "      <td>09/02/2020 03:12:28 PM +0000</td>\n",
       "      <td>bmartinlimuel</td>\n",
       "      <td>ap7657</td>\n",
       "      <td>CENTRAL</td>\n",
       "      <td>NORTHEAST</td>\n",
       "      <td>512-974-5500</td>\n",
       "      <td>46</td>\n",
       "      <td>1.448894e+08</td>\n",
       "      <td>108031.797015</td>\n",
       "    </tr>\n",
       "    <tr>\n",
       "      <th>4</th>\n",
       "      <td>MULTIPOLYGON (((-97.645897670865 30.3879205146...</td>\n",
       "      <td>72</td>\n",
       "      <td>EDWARD 5</td>\n",
       "      <td>1</td>\n",
       "      <td>174</td>\n",
       "      <td>13</td>\n",
       "      <td>16711680</td>\n",
       "      <td>1288</td>\n",
       "      <td>1288</td>\n",
       "      <td>E1</td>\n",
       "      <td>...</td>\n",
       "      <td>12/22/2014 11:31:16 AM +0000</td>\n",
       "      <td>09/09/2021 01:56:20 PM +0000</td>\n",
       "      <td>bmartinlimuel</td>\n",
       "      <td>APD_ADMIN</td>\n",
       "      <td>CENTRAL</td>\n",
       "      <td>NORTHEAST</td>\n",
       "      <td>512-974-5500</td>\n",
       "      <td>25</td>\n",
       "      <td>1.134741e+08</td>\n",
       "      <td>72532.628909</td>\n",
       "    </tr>\n",
       "  </tbody>\n",
       "</table>\n",
       "<p>5 rows × 21 columns</p>\n",
       "</div>"
      ],
      "text/plain": [
       "                                            the_geom  OBJECTID DISTRICT_NAME  \\\n",
       "0  MULTIPOLYGON (((-97.827136391606 30.4558508283...        73        ADAM 8   \n",
       "1  MULTIPOLYGON (((-97.766313673553 30.4663198555...        71        ADAM 4   \n",
       "2  MULTIPOLYGON (((-97.682787782506 30.2120013978...        69       HENRY 6   \n",
       "3  MULTIPOLYGON (((-97.66368813346 30.44938993670...        66      EDWARD 6   \n",
       "4  MULTIPOLYGON (((-97.645897670865 30.3879205146...        72      EDWARD 5   \n",
       "\n",
       "   SORT_ORDER  BATTALION_ID  JURISDICTION_ID     COLOR  CODE  EXTERNAL_KEY  \\\n",
       "0           1            21                6  16744448  1271          1271   \n",
       "1           1            21                6  16744448  1272          1272   \n",
       "2           1           205               59  16711808  1302          1302   \n",
       "3           1           174               13  16711680  1291          1291   \n",
       "4           1           174               13  16711680  1288          1288   \n",
       "\n",
       "  BATTALION_CODE  ...                    INPUT_DATE  \\\n",
       "0             A1  ...  12/22/2014 11:31:16 AM +0000   \n",
       "1             A1  ...  10/09/2018 01:39:46 PM +0000   \n",
       "2             H1  ...  12/22/2014 11:31:16 AM +0000   \n",
       "3             E1  ...  12/22/2014 11:31:16 AM +0000   \n",
       "4             E1  ...  12/22/2014 11:31:16 AM +0000   \n",
       "\n",
       "                  MODIFIED_DATE       INPUT_BY MODIFIED_BY BUREAU_NAME  \\\n",
       "0  10/18/2021 02:45:02 PM +0000  bmartinlimuel   APD_ADMIN       NORTH   \n",
       "1  10/09/2018 01:43:24 PM +0000      APD_ADMIN   APD_ADMIN       NORTH   \n",
       "2  10/09/2018 01:43:49 PM +0000  bmartinlimuel   APD_ADMIN       SOUTH   \n",
       "3  09/02/2020 03:12:28 PM +0000  bmartinlimuel      ap7657     CENTRAL   \n",
       "4  09/09/2021 01:56:20 PM +0000  bmartinlimuel   APD_ADMIN     CENTRAL   \n",
       "\n",
       "    PATROL_AREA COMMAND_PHONE_NUMBER PRIMARY_KEY   Shape__Area  Shape__Length  \n",
       "0     NORTHWEST         512-974-5500           6  5.172025e+08  191833.208798  \n",
       "1     NORTHWEST         512-974-5500          76  6.959435e+07   47235.701679  \n",
       "2  SOUTHCENTRAL         512-974-8106          80  8.660023e+07   45199.006624  \n",
       "3     NORTHEAST         512-974-5500          46  1.448894e+08  108031.797015  \n",
       "4     NORTHEAST         512-974-5500          25  1.134741e+08   72532.628909  \n",
       "\n",
       "[5 rows x 21 columns]"
      ]
     },
     "execution_count": 15,
     "metadata": {},
     "output_type": "execute_result"
    }
   ],
   "source": [
    "districts_df = pd.read_csv('Austin_Police_Department_Districts_data.csv')\n",
    "districts_df.head()"
   ]
  },
  {
   "cell_type": "code",
   "execution_count": 16,
   "id": "c1b887d1-49ca-474b-a966-227cf0facb0a",
   "metadata": {},
   "outputs": [
    {
     "name": "stdout",
     "output_type": "stream",
     "text": [
      "<class 'pandas.core.frame.DataFrame'>\n",
      "RangeIndex: 90 entries, 0 to 89\n",
      "Data columns (total 21 columns):\n",
      " #   Column                Non-Null Count  Dtype  \n",
      "---  ------                --------------  -----  \n",
      " 0   the_geom              90 non-null     object \n",
      " 1   OBJECTID              90 non-null     int64  \n",
      " 2   DISTRICT_NAME         90 non-null     object \n",
      " 3   SORT_ORDER            90 non-null     int64  \n",
      " 4   BATTALION_ID          90 non-null     int64  \n",
      " 5   JURISDICTION_ID       90 non-null     int64  \n",
      " 6   COLOR                 90 non-null     int64  \n",
      " 7   CODE                  90 non-null     int64  \n",
      " 8   EXTERNAL_KEY          90 non-null     int64  \n",
      " 9   BATTALION_CODE        90 non-null     object \n",
      " 10  SECTOR_NAME           90 non-null     object \n",
      " 11  INPUT_DATE            90 non-null     object \n",
      " 12  MODIFIED_DATE         90 non-null     object \n",
      " 13  INPUT_BY              90 non-null     object \n",
      " 14  MODIFIED_BY           90 non-null     object \n",
      " 15  BUREAU_NAME           82 non-null     object \n",
      " 16  PATROL_AREA           90 non-null     object \n",
      " 17  COMMAND_PHONE_NUMBER  82 non-null     object \n",
      " 18  PRIMARY_KEY           90 non-null     int64  \n",
      " 19  Shape__Area           90 non-null     float64\n",
      " 20  Shape__Length         90 non-null     float64\n",
      "dtypes: float64(2), int64(8), object(11)\n",
      "memory usage: 14.9+ KB\n"
     ]
    }
   ],
   "source": [
    "districts_df.info()"
   ]
  },
  {
   "cell_type": "markdown",
   "id": "081c31d2-c571-4440-8ac3-703434e18515",
   "metadata": {},
   "source": [
    "#### Summarize the Null Values"
   ]
  },
  {
   "cell_type": "code",
   "execution_count": 17,
   "id": "45db23e4-2cad-4140-bd55-297a15b2b194",
   "metadata": {},
   "outputs": [
    {
     "data": {
      "text/html": [
       "<div>\n",
       "<style scoped>\n",
       "    .dataframe tbody tr th:only-of-type {\n",
       "        vertical-align: middle;\n",
       "    }\n",
       "\n",
       "    .dataframe tbody tr th {\n",
       "        vertical-align: top;\n",
       "    }\n",
       "\n",
       "    .dataframe thead th {\n",
       "        text-align: right;\n",
       "    }\n",
       "</style>\n",
       "<table border=\"1\" class=\"dataframe\">\n",
       "  <thead>\n",
       "    <tr style=\"text-align: right;\">\n",
       "      <th></th>\n",
       "      <th>rows_missing</th>\n",
       "      <th>percent_missing</th>\n",
       "    </tr>\n",
       "  </thead>\n",
       "  <tbody>\n",
       "    <tr>\n",
       "      <th>the_geom</th>\n",
       "      <td>0</td>\n",
       "      <td>0.000000</td>\n",
       "    </tr>\n",
       "    <tr>\n",
       "      <th>OBJECTID</th>\n",
       "      <td>0</td>\n",
       "      <td>0.000000</td>\n",
       "    </tr>\n",
       "    <tr>\n",
       "      <th>DISTRICT_NAME</th>\n",
       "      <td>0</td>\n",
       "      <td>0.000000</td>\n",
       "    </tr>\n",
       "    <tr>\n",
       "      <th>SORT_ORDER</th>\n",
       "      <td>0</td>\n",
       "      <td>0.000000</td>\n",
       "    </tr>\n",
       "    <tr>\n",
       "      <th>BATTALION_ID</th>\n",
       "      <td>0</td>\n",
       "      <td>0.000000</td>\n",
       "    </tr>\n",
       "    <tr>\n",
       "      <th>JURISDICTION_ID</th>\n",
       "      <td>0</td>\n",
       "      <td>0.000000</td>\n",
       "    </tr>\n",
       "    <tr>\n",
       "      <th>COLOR</th>\n",
       "      <td>0</td>\n",
       "      <td>0.000000</td>\n",
       "    </tr>\n",
       "    <tr>\n",
       "      <th>CODE</th>\n",
       "      <td>0</td>\n",
       "      <td>0.000000</td>\n",
       "    </tr>\n",
       "    <tr>\n",
       "      <th>EXTERNAL_KEY</th>\n",
       "      <td>0</td>\n",
       "      <td>0.000000</td>\n",
       "    </tr>\n",
       "    <tr>\n",
       "      <th>BATTALION_CODE</th>\n",
       "      <td>0</td>\n",
       "      <td>0.000000</td>\n",
       "    </tr>\n",
       "    <tr>\n",
       "      <th>SECTOR_NAME</th>\n",
       "      <td>0</td>\n",
       "      <td>0.000000</td>\n",
       "    </tr>\n",
       "    <tr>\n",
       "      <th>INPUT_DATE</th>\n",
       "      <td>0</td>\n",
       "      <td>0.000000</td>\n",
       "    </tr>\n",
       "    <tr>\n",
       "      <th>MODIFIED_DATE</th>\n",
       "      <td>0</td>\n",
       "      <td>0.000000</td>\n",
       "    </tr>\n",
       "    <tr>\n",
       "      <th>INPUT_BY</th>\n",
       "      <td>0</td>\n",
       "      <td>0.000000</td>\n",
       "    </tr>\n",
       "    <tr>\n",
       "      <th>MODIFIED_BY</th>\n",
       "      <td>0</td>\n",
       "      <td>0.000000</td>\n",
       "    </tr>\n",
       "    <tr>\n",
       "      <th>BUREAU_NAME</th>\n",
       "      <td>8</td>\n",
       "      <td>0.088889</td>\n",
       "    </tr>\n",
       "    <tr>\n",
       "      <th>PATROL_AREA</th>\n",
       "      <td>0</td>\n",
       "      <td>0.000000</td>\n",
       "    </tr>\n",
       "    <tr>\n",
       "      <th>COMMAND_PHONE_NUMBER</th>\n",
       "      <td>8</td>\n",
       "      <td>0.088889</td>\n",
       "    </tr>\n",
       "    <tr>\n",
       "      <th>PRIMARY_KEY</th>\n",
       "      <td>0</td>\n",
       "      <td>0.000000</td>\n",
       "    </tr>\n",
       "    <tr>\n",
       "      <th>Shape__Area</th>\n",
       "      <td>0</td>\n",
       "      <td>0.000000</td>\n",
       "    </tr>\n",
       "    <tr>\n",
       "      <th>Shape__Length</th>\n",
       "      <td>0</td>\n",
       "      <td>0.000000</td>\n",
       "    </tr>\n",
       "  </tbody>\n",
       "</table>\n",
       "</div>"
      ],
      "text/plain": [
       "                      rows_missing  percent_missing\n",
       "the_geom                         0         0.000000\n",
       "OBJECTID                         0         0.000000\n",
       "DISTRICT_NAME                    0         0.000000\n",
       "SORT_ORDER                       0         0.000000\n",
       "BATTALION_ID                     0         0.000000\n",
       "JURISDICTION_ID                  0         0.000000\n",
       "COLOR                            0         0.000000\n",
       "CODE                             0         0.000000\n",
       "EXTERNAL_KEY                     0         0.000000\n",
       "BATTALION_CODE                   0         0.000000\n",
       "SECTOR_NAME                      0         0.000000\n",
       "INPUT_DATE                       0         0.000000\n",
       "MODIFIED_DATE                    0         0.000000\n",
       "INPUT_BY                         0         0.000000\n",
       "MODIFIED_BY                      0         0.000000\n",
       "BUREAU_NAME                      8         0.088889\n",
       "PATROL_AREA                      0         0.000000\n",
       "COMMAND_PHONE_NUMBER             8         0.088889\n",
       "PRIMARY_KEY                      0         0.000000\n",
       "Shape__Area                      0         0.000000\n",
       "Shape__Length                    0         0.000000"
      ]
     },
     "execution_count": 17,
     "metadata": {},
     "output_type": "execute_result"
    }
   ],
   "source": [
    "prepare.attribute_nulls(districts_df)"
   ]
  },
  {
   "cell_type": "markdown",
   "id": "f2abbd9b-69c8-461c-8f41-7f7dac131a27",
   "metadata": {},
   "source": [
    "**Phone number is unimportant to us but let's check on the bureau name.**"
   ]
  },
  {
   "cell_type": "code",
   "execution_count": 18,
   "id": "9b002baf-1099-4b11-912a-7b3792f93ff3",
   "metadata": {},
   "outputs": [
    {
     "data": {
      "text/plain": [
       "SOUTH      29\n",
       "CENTRAL    28\n",
       "NORTH      25\n",
       "NaN         8\n",
       "Name: BUREAU_NAME, dtype: int64"
      ]
     },
     "execution_count": 18,
     "metadata": {},
     "output_type": "execute_result"
    }
   ],
   "source": [
    "districts_df.BUREAU_NAME.value_counts(dropna=False)"
   ]
  },
  {
   "cell_type": "code",
   "execution_count": 19,
   "id": "b42426ab-51a9-4df8-9983-7a1fc7f7d7dc",
   "metadata": {},
   "outputs": [
    {
     "data": {
      "text/html": [
       "<div>\n",
       "<style scoped>\n",
       "    .dataframe tbody tr th:only-of-type {\n",
       "        vertical-align: middle;\n",
       "    }\n",
       "\n",
       "    .dataframe tbody tr th {\n",
       "        vertical-align: top;\n",
       "    }\n",
       "\n",
       "    .dataframe thead th {\n",
       "        text-align: right;\n",
       "    }\n",
       "</style>\n",
       "<table border=\"1\" class=\"dataframe\">\n",
       "  <thead>\n",
       "    <tr style=\"text-align: right;\">\n",
       "      <th></th>\n",
       "      <th>the_geom</th>\n",
       "      <th>OBJECTID</th>\n",
       "      <th>DISTRICT_NAME</th>\n",
       "      <th>SORT_ORDER</th>\n",
       "      <th>BATTALION_ID</th>\n",
       "      <th>JURISDICTION_ID</th>\n",
       "      <th>COLOR</th>\n",
       "      <th>CODE</th>\n",
       "      <th>EXTERNAL_KEY</th>\n",
       "      <th>BATTALION_CODE</th>\n",
       "      <th>...</th>\n",
       "      <th>INPUT_DATE</th>\n",
       "      <th>MODIFIED_DATE</th>\n",
       "      <th>INPUT_BY</th>\n",
       "      <th>MODIFIED_BY</th>\n",
       "      <th>BUREAU_NAME</th>\n",
       "      <th>PATROL_AREA</th>\n",
       "      <th>COMMAND_PHONE_NUMBER</th>\n",
       "      <th>PRIMARY_KEY</th>\n",
       "      <th>Shape__Area</th>\n",
       "      <th>Shape__Length</th>\n",
       "    </tr>\n",
       "  </thead>\n",
       "  <tbody>\n",
       "    <tr>\n",
       "      <th>19</th>\n",
       "      <td>MULTIPOLYGON (((-97.670871493106 30.1931992460...</td>\n",
       "      <td>24</td>\n",
       "      <td>STS</td>\n",
       "      <td>0</td>\n",
       "      <td>519</td>\n",
       "      <td>145</td>\n",
       "      <td>16776960</td>\n",
       "      <td>1334</td>\n",
       "      <td>1334</td>\n",
       "      <td>APT3</td>\n",
       "      <td>...</td>\n",
       "      <td>12/22/2014 11:31:16 AM +0000</td>\n",
       "      <td>05/27/2016 01:55:16 PM +0000</td>\n",
       "      <td>bmartinlimuel</td>\n",
       "      <td>ap7657</td>\n",
       "      <td>NaN</td>\n",
       "      <td>ABIA</td>\n",
       "      <td>NaN</td>\n",
       "      <td>48</td>\n",
       "      <td>1.398689e+04</td>\n",
       "      <td>478.708731</td>\n",
       "    </tr>\n",
       "    <tr>\n",
       "      <th>31</th>\n",
       "      <td>MULTIPOLYGON (((-97.667607670305 30.2174676056...</td>\n",
       "      <td>58</td>\n",
       "      <td>LND</td>\n",
       "      <td>0</td>\n",
       "      <td>518</td>\n",
       "      <td>145</td>\n",
       "      <td>16776960</td>\n",
       "      <td>1333</td>\n",
       "      <td>1333</td>\n",
       "      <td>APT2</td>\n",
       "      <td>...</td>\n",
       "      <td>12/22/2014 11:31:16 AM +0000</td>\n",
       "      <td>05/27/2016 01:55:16 PM +0000</td>\n",
       "      <td>bmartinlimuel</td>\n",
       "      <td>ap7657</td>\n",
       "      <td>NaN</td>\n",
       "      <td>ABIA</td>\n",
       "      <td>NaN</td>\n",
       "      <td>52</td>\n",
       "      <td>1.884170e+07</td>\n",
       "      <td>28746.650215</td>\n",
       "    </tr>\n",
       "    <tr>\n",
       "      <th>49</th>\n",
       "      <td>MULTIPOLYGON (((-97.674271697668 30.2181401372...</td>\n",
       "      <td>48</td>\n",
       "      <td>AOA</td>\n",
       "      <td>0</td>\n",
       "      <td>520</td>\n",
       "      <td>145</td>\n",
       "      <td>16776960</td>\n",
       "      <td>1336</td>\n",
       "      <td>1336</td>\n",
       "      <td>APT4</td>\n",
       "      <td>...</td>\n",
       "      <td>12/22/2014 11:31:16 AM +0000</td>\n",
       "      <td>05/27/2016 01:55:16 PM +0000</td>\n",
       "      <td>bmartinlimuel</td>\n",
       "      <td>ap7657</td>\n",
       "      <td>NaN</td>\n",
       "      <td>ABIA</td>\n",
       "      <td>NaN</td>\n",
       "      <td>39</td>\n",
       "      <td>1.348928e+08</td>\n",
       "      <td>121793.575921</td>\n",
       "    </tr>\n",
       "    <tr>\n",
       "      <th>59</th>\n",
       "      <td>MULTIPOLYGON (((-97.670871493106 30.1931992460...</td>\n",
       "      <td>25</td>\n",
       "      <td>STP</td>\n",
       "      <td>0</td>\n",
       "      <td>519</td>\n",
       "      <td>145</td>\n",
       "      <td>16776960</td>\n",
       "      <td>1335</td>\n",
       "      <td>1335</td>\n",
       "      <td>APT3</td>\n",
       "      <td>...</td>\n",
       "      <td>12/22/2014 11:31:16 AM +0000</td>\n",
       "      <td>05/27/2016 01:55:16 PM +0000</td>\n",
       "      <td>bmartinlimuel</td>\n",
       "      <td>ap7657</td>\n",
       "      <td>NaN</td>\n",
       "      <td>ABIA</td>\n",
       "      <td>NaN</td>\n",
       "      <td>49</td>\n",
       "      <td>1.456751e+04</td>\n",
       "      <td>489.755286</td>\n",
       "    </tr>\n",
       "    <tr>\n",
       "      <th>63</th>\n",
       "      <td>MULTIPOLYGON (((-97.658643580705 30.2124379324...</td>\n",
       "      <td>59</td>\n",
       "      <td>LND</td>\n",
       "      <td>0</td>\n",
       "      <td>518</td>\n",
       "      <td>145</td>\n",
       "      <td>16776960</td>\n",
       "      <td>1333</td>\n",
       "      <td>1333</td>\n",
       "      <td>APT2</td>\n",
       "      <td>...</td>\n",
       "      <td>12/22/2014 11:31:16 AM +0000</td>\n",
       "      <td>05/27/2016 01:55:16 PM +0000</td>\n",
       "      <td>bmartinlimuel</td>\n",
       "      <td>ap7657</td>\n",
       "      <td>NaN</td>\n",
       "      <td>ABIA</td>\n",
       "      <td>NaN</td>\n",
       "      <td>53</td>\n",
       "      <td>1.307077e+07</td>\n",
       "      <td>28596.731885</td>\n",
       "    </tr>\n",
       "    <tr>\n",
       "      <th>69</th>\n",
       "      <td>MULTIPOLYGON (((-97.66876018898 30.19775958306...</td>\n",
       "      <td>23</td>\n",
       "      <td>PUBLIC</td>\n",
       "      <td>0</td>\n",
       "      <td>520</td>\n",
       "      <td>145</td>\n",
       "      <td>16776960</td>\n",
       "      <td>1337</td>\n",
       "      <td>1337</td>\n",
       "      <td>APT4</td>\n",
       "      <td>...</td>\n",
       "      <td>12/22/2014 11:31:16 AM +0000</td>\n",
       "      <td>05/27/2016 01:55:16 PM +0000</td>\n",
       "      <td>bmartinlimuel</td>\n",
       "      <td>ap7657</td>\n",
       "      <td>NaN</td>\n",
       "      <td>ABIA</td>\n",
       "      <td>NaN</td>\n",
       "      <td>47</td>\n",
       "      <td>7.853923e+06</td>\n",
       "      <td>46434.049852</td>\n",
       "    </tr>\n",
       "    <tr>\n",
       "      <th>81</th>\n",
       "      <td>MULTIPOLYGON (((-97.664387280505 30.2024460131...</td>\n",
       "      <td>26</td>\n",
       "      <td>MTS</td>\n",
       "      <td>0</td>\n",
       "      <td>517</td>\n",
       "      <td>145</td>\n",
       "      <td>16776960</td>\n",
       "      <td>1331</td>\n",
       "      <td>1331</td>\n",
       "      <td>APT1</td>\n",
       "      <td>...</td>\n",
       "      <td>12/22/2014 11:31:16 AM +0000</td>\n",
       "      <td>05/27/2016 01:55:16 PM +0000</td>\n",
       "      <td>bmartinlimuel</td>\n",
       "      <td>ap7657</td>\n",
       "      <td>NaN</td>\n",
       "      <td>ABIA</td>\n",
       "      <td>NaN</td>\n",
       "      <td>50</td>\n",
       "      <td>2.615852e+05</td>\n",
       "      <td>4759.322426</td>\n",
       "    </tr>\n",
       "    <tr>\n",
       "      <th>83</th>\n",
       "      <td>MULTIPOLYGON (((-97.665862302277 30.2023008824...</td>\n",
       "      <td>27</td>\n",
       "      <td>MTP</td>\n",
       "      <td>0</td>\n",
       "      <td>517</td>\n",
       "      <td>145</td>\n",
       "      <td>16776960</td>\n",
       "      <td>1332</td>\n",
       "      <td>1332</td>\n",
       "      <td>APT1</td>\n",
       "      <td>...</td>\n",
       "      <td>12/22/2014 11:31:16 AM +0000</td>\n",
       "      <td>05/27/2016 01:55:16 PM +0000</td>\n",
       "      <td>bmartinlimuel</td>\n",
       "      <td>ap7657</td>\n",
       "      <td>NaN</td>\n",
       "      <td>ABIA</td>\n",
       "      <td>NaN</td>\n",
       "      <td>51</td>\n",
       "      <td>4.420677e+04</td>\n",
       "      <td>1679.192640</td>\n",
       "    </tr>\n",
       "  </tbody>\n",
       "</table>\n",
       "<p>8 rows × 21 columns</p>\n",
       "</div>"
      ],
      "text/plain": [
       "                                             the_geom  OBJECTID DISTRICT_NAME  \\\n",
       "19  MULTIPOLYGON (((-97.670871493106 30.1931992460...        24           STS   \n",
       "31  MULTIPOLYGON (((-97.667607670305 30.2174676056...        58           LND   \n",
       "49  MULTIPOLYGON (((-97.674271697668 30.2181401372...        48           AOA   \n",
       "59  MULTIPOLYGON (((-97.670871493106 30.1931992460...        25           STP   \n",
       "63  MULTIPOLYGON (((-97.658643580705 30.2124379324...        59           LND   \n",
       "69  MULTIPOLYGON (((-97.66876018898 30.19775958306...        23        PUBLIC   \n",
       "81  MULTIPOLYGON (((-97.664387280505 30.2024460131...        26           MTS   \n",
       "83  MULTIPOLYGON (((-97.665862302277 30.2023008824...        27           MTP   \n",
       "\n",
       "    SORT_ORDER  BATTALION_ID  JURISDICTION_ID     COLOR  CODE  EXTERNAL_KEY  \\\n",
       "19           0           519              145  16776960  1334          1334   \n",
       "31           0           518              145  16776960  1333          1333   \n",
       "49           0           520              145  16776960  1336          1336   \n",
       "59           0           519              145  16776960  1335          1335   \n",
       "63           0           518              145  16776960  1333          1333   \n",
       "69           0           520              145  16776960  1337          1337   \n",
       "81           0           517              145  16776960  1331          1331   \n",
       "83           0           517              145  16776960  1332          1332   \n",
       "\n",
       "   BATTALION_CODE  ...                    INPUT_DATE  \\\n",
       "19           APT3  ...  12/22/2014 11:31:16 AM +0000   \n",
       "31           APT2  ...  12/22/2014 11:31:16 AM +0000   \n",
       "49           APT4  ...  12/22/2014 11:31:16 AM +0000   \n",
       "59           APT3  ...  12/22/2014 11:31:16 AM +0000   \n",
       "63           APT2  ...  12/22/2014 11:31:16 AM +0000   \n",
       "69           APT4  ...  12/22/2014 11:31:16 AM +0000   \n",
       "81           APT1  ...  12/22/2014 11:31:16 AM +0000   \n",
       "83           APT1  ...  12/22/2014 11:31:16 AM +0000   \n",
       "\n",
       "                   MODIFIED_DATE       INPUT_BY MODIFIED_BY BUREAU_NAME  \\\n",
       "19  05/27/2016 01:55:16 PM +0000  bmartinlimuel      ap7657         NaN   \n",
       "31  05/27/2016 01:55:16 PM +0000  bmartinlimuel      ap7657         NaN   \n",
       "49  05/27/2016 01:55:16 PM +0000  bmartinlimuel      ap7657         NaN   \n",
       "59  05/27/2016 01:55:16 PM +0000  bmartinlimuel      ap7657         NaN   \n",
       "63  05/27/2016 01:55:16 PM +0000  bmartinlimuel      ap7657         NaN   \n",
       "69  05/27/2016 01:55:16 PM +0000  bmartinlimuel      ap7657         NaN   \n",
       "81  05/27/2016 01:55:16 PM +0000  bmartinlimuel      ap7657         NaN   \n",
       "83  05/27/2016 01:55:16 PM +0000  bmartinlimuel      ap7657         NaN   \n",
       "\n",
       "   PATROL_AREA COMMAND_PHONE_NUMBER PRIMARY_KEY   Shape__Area  Shape__Length  \n",
       "19        ABIA                  NaN          48  1.398689e+04     478.708731  \n",
       "31        ABIA                  NaN          52  1.884170e+07   28746.650215  \n",
       "49        ABIA                  NaN          39  1.348928e+08  121793.575921  \n",
       "59        ABIA                  NaN          49  1.456751e+04     489.755286  \n",
       "63        ABIA                  NaN          53  1.307077e+07   28596.731885  \n",
       "69        ABIA                  NaN          47  7.853923e+06   46434.049852  \n",
       "81        ABIA                  NaN          50  2.615852e+05    4759.322426  \n",
       "83        ABIA                  NaN          51  4.420677e+04    1679.192640  \n",
       "\n",
       "[8 rows x 21 columns]"
      ]
     },
     "execution_count": 19,
     "metadata": {},
     "output_type": "execute_result"
    }
   ],
   "source": [
    "# Let's look at the data set where I have the nan values\n",
    "districts_df[districts_df.BUREAU_NAME.isna()]"
   ]
  },
  {
   "cell_type": "markdown",
   "id": "10098755-292d-48b0-8428-f75929233ce0",
   "metadata": {},
   "source": [
    "**It looks like there may be a way to impute the missing bureau names here but the column may also be unneccesary considering all of the other location data I have. For now I will press on without imputing or dropping the nulls.**"
   ]
  },
  {
   "cell_type": "markdown",
   "id": "e4b048f6-1e2e-4b11-a8b2-55fd2e8a2982",
   "metadata": {},
   "source": [
    "### Join districts_df with out main data set"
   ]
  },
  {
   "cell_type": "code",
   "execution_count": 20,
   "id": "6cc557cd-8c2d-4dd0-a238-4aef030e34ce",
   "metadata": {},
   "outputs": [],
   "source": [
    "main_df = df.copy()"
   ]
  },
  {
   "cell_type": "markdown",
   "id": "713b9b7b-9726-4e3b-8803-86733969b5e6",
   "metadata": {},
   "source": [
    "*For ease of use I'm going to do some basic prep of the column names.*"
   ]
  },
  {
   "cell_type": "code",
   "execution_count": 21,
   "id": "6b8f49d0-ad27-4bd5-b369-f420bb99d8a5",
   "metadata": {},
   "outputs": [
    {
     "data": {
      "text/plain": [
       "Index(['the_geom', 'objectid', 'district_name', 'sort_order', 'battalion_id',\n",
       "       'jurisdiction_id', 'color', 'code', 'external_key', 'battalion_code',\n",
       "       'sector_name', 'input_date', 'modified_date', 'input_by', 'modified_by',\n",
       "       'bureau_name', 'patrol_area', 'command_phone_number', 'primary_key',\n",
       "       'shape_area', 'shape_length'],\n",
       "      dtype='object')"
      ]
     },
     "execution_count": 21,
     "metadata": {},
     "output_type": "execute_result"
    }
   ],
   "source": [
    "districts_df.columns = districts_df.columns.str.strip().str.lower().str.replace('__', ('_'))\n",
    "districts_df.columns"
   ]
  },
  {
   "cell_type": "markdown",
   "id": "9c9ad2b7-8b32-47fc-87b9-b919ff52ae5e",
   "metadata": {},
   "source": [
    "*I think I'll be merging using the sector and district combined and the district_name column. Let me investigate these further to check feasability.*"
   ]
  },
  {
   "cell_type": "code",
   "execution_count": 22,
   "id": "e53b3faf-ff18-4d4b-9442-ad94fb257393",
   "metadata": {},
   "outputs": [
    {
     "data": {
      "text/plain": [
       "ED    49760\n",
       "DA    45050\n",
       "FR    42534\n",
       "AD    41851\n",
       "BA    37392\n",
       "CH    36004\n",
       "HE    35914\n",
       "ID    35559\n",
       "GE    21697\n",
       "AP     1496\n",
       "88      607\n",
       "UT      144\n",
       "Name: sector, dtype: int64"
      ]
     },
     "execution_count": 22,
     "metadata": {},
     "output_type": "execute_result"
    }
   ],
   "source": [
    "main_df.sector.value_counts()"
   ]
  },
  {
   "cell_type": "code",
   "execution_count": 23,
   "id": "1be28830-78b0-4691-937c-93220ea5d3eb",
   "metadata": {},
   "outputs": [
    {
     "data": {
      "text/plain": [
       "HENRY      12\n",
       "BAKER      12\n",
       "CHARLIE    12\n",
       "ADAM        9\n",
       "DAVID       9\n",
       "EDWARD      8\n",
       "FRANK       8\n",
       "IDA         8\n",
       "APT         8\n",
       "GEORGE      4\n",
       "Name: sector_name, dtype: int64"
      ]
     },
     "execution_count": 23,
     "metadata": {},
     "output_type": "execute_result"
    }
   ],
   "source": [
    "districts_df.sector_name.value_counts()"
   ]
  },
  {
   "cell_type": "code",
   "execution_count": 24,
   "id": "ee1cc69e-2d9e-494d-9c2c-4381d259da86",
   "metadata": {},
   "outputs": [
    {
     "data": {
      "text/plain": [
       "array(['ADAM 8', 'ADAM 4', 'HENRY 6', 'EDWARD 6', 'EDWARD 5', 'ADAM 6',\n",
       "       'FRANK 7', 'FRANK 4', 'FRANK 8', 'IDA 2', 'BAKER 8', 'FRANK 6',\n",
       "       'FRANK 3', 'ADAM 5', 'DAVID 3', 'EDWARD 1', 'GEORGE 4', 'DAVID 1',\n",
       "       'HENRY 5', 'STS', 'EDWARD 7', 'FRANK 1', 'DAVID 5', 'CHARLIE 3',\n",
       "       'A1 UT', 'DAVID 2', 'BAKER 4', 'C8 UT-3', 'HENRY 7', 'CHARLIE 8',\n",
       "       'B1 UT-2', 'LND', 'ADAM 3', 'C8 UT-1', 'CHARLIE 2', 'HENRY 8',\n",
       "       'EDWARD 4', 'DAVID 7', 'CHARLIE 1', 'DAVID 6', 'DAVID 4',\n",
       "       'EDWARD 8', 'GEORGE 1', 'IDA 5', 'HENRY 4', 'AOA', 'CHARLIE 4',\n",
       "       'FRANK 5', 'C8 UT-2', 'BAKER 1', 'DAVID PARK PD', 'BAKER 2',\n",
       "       'GEORGE 2', 'IDA 6', 'GEORGE 3', 'STP', 'HENRY 3', 'EDWARD 2',\n",
       "       'IDA 3', 'BAKER 5', 'B7 UT', 'DAVID 8', 'CHARLIE 5', 'PUBLIC',\n",
       "       'CHARLIE 7', 'EDWARD 3', 'IDA 4', 'ADAM 2', 'BAKER PARK PD',\n",
       "       'IDA 7', 'BAKER 6', 'BAKER 7', 'ADAM 7', 'IDA 1', 'BAKER 3', 'MTS',\n",
       "       'FRANK 2', 'MTP', 'ADAM 1', 'CHARLIE 6', 'HENRY 1', 'IDA 8',\n",
       "       'HENRY 2', 'B1 UT-1'], dtype=object)"
      ]
     },
     "execution_count": 24,
     "metadata": {},
     "output_type": "execute_result"
    }
   ],
   "source": [
    "districts_df.district_name.unique()"
   ]
  },
  {
   "cell_type": "markdown",
   "id": "4d94afc9-d666-4e5b-be02-4c46454cb2da",
   "metadata": {},
   "source": [
    "**I'm going to have the convert the sector values from their abbreviated versions to the full names to match the district_name in districts_df.**\n",
    "\n",
    "*I'm able to match most of the abbreviations but am not sure what AP, or 88 represents. I may decide to drop these since it makes up a small amount of data. UT mostl likely referes to the college campus but the correlated value in districts_df is formatted inconsistently (i.e A1 UT, B1 UT-2) making it difficult to come up with a way to join them. I may end up dropping these as well.*"
   ]
  },
  {
   "cell_type": "code",
   "execution_count": 25,
   "id": "f5d8920f-4f5b-4eec-8cd8-967be7eb27b3",
   "metadata": {},
   "outputs": [],
   "source": [
    "# Change the values in sectors to more closely match those in distrcits_df\n",
    "sectors = {'ED':'EDWARD', 'DA':'DAVID', 'FR':'FRANK', 'AD':'ADAM', \n",
    "           'BA':'BAKER', 'CH':'CHARLIE', 'HE':'HENRY', 'ID':'IDA',\n",
    "          'GE':'GEORGE', 'AP': 'APT', '88':'88', 'UT':'UT'}\n",
    "\n",
    "main_df['sector'] = main_df.sector.map(sectors)"
   ]
  },
  {
   "cell_type": "code",
   "execution_count": 26,
   "id": "ac0eaeb7-7fdb-4c69-82ad-1b85dce3273f",
   "metadata": {},
   "outputs": [
    {
     "data": {
      "text/plain": [
       "EDWARD     49760\n",
       "DAVID      45050\n",
       "FRANK      42534\n",
       "ADAM       41851\n",
       "BAKER      37392\n",
       "CHARLIE    36004\n",
       "HENRY      35914\n",
       "IDA        35559\n",
       "GEORGE     21697\n",
       "APT         1496\n",
       "88           607\n",
       "UT           144\n",
       "Name: sector, dtype: int64"
      ]
     },
     "execution_count": 26,
     "metadata": {},
     "output_type": "execute_result"
    }
   ],
   "source": [
    "main_df.sector.value_counts()"
   ]
  },
  {
   "cell_type": "markdown",
   "id": "39728056-d800-4ba6-b693-48451eef3c93",
   "metadata": {},
   "source": [
    "**Now let's make a column that combines the sector with the district number to match the format in districts_df.**"
   ]
  },
  {
   "cell_type": "code",
   "execution_count": 27,
   "id": "2ad09f5c-d25a-474c-a8ac-e84e8bec3f3c",
   "metadata": {},
   "outputs": [
    {
     "data": {
      "text/plain": [
       "2     69144\n",
       "1     65263\n",
       "3     42435\n",
       "4     42051\n",
       "5     35573\n",
       "7     34602\n",
       "6     33123\n",
       "8     23553\n",
       "S       980\n",
       "88      607\n",
       "D       383\n",
       "B       122\n",
       "A        71\n",
       "P        68\n",
       "C        33\n",
       "Name: district, dtype: int64"
      ]
     },
     "execution_count": 27,
     "metadata": {},
     "output_type": "execute_result"
    }
   ],
   "source": [
    "main_df.district.value_counts()"
   ]
  },
  {
   "cell_type": "code",
   "execution_count": 28,
   "id": "627bef77-9415-4449-8145-799bd8a290b1",
   "metadata": {},
   "outputs": [],
   "source": [
    "# Cobine the two columns into one called pd_district to match column in other data set\n",
    "main_df['pd_district'] = main_df['sector'].astype(str) + ' ' + df['district'].astype(str)"
   ]
  },
  {
   "cell_type": "code",
   "execution_count": 29,
   "id": "e0d9d820-1044-496e-9497-83b423ae0178",
   "metadata": {},
   "outputs": [
    {
     "data": {
      "text/plain": [
       "array(['GEORGE 3', 'HENRY 5', 'GEORGE 2', 'IDA 1', 'EDWARD 1', 'EDWARD 7',\n",
       "       'GEORGE 1', 'CHARLIE 2', 'HENRY 6', 'IDA 2', 'HENRY 2', 'HENRY 3',\n",
       "       'ADAM 6', 'ADAM 1', 'DAVID 1', 'FRANK 5', 'IDA 8', 'CHARLIE 5',\n",
       "       'FRANK 4', 'DAVID 6', 'FRANK 7', 'ADAM 2', 'CHARLIE 1', 'HENRY 8',\n",
       "       'BAKER 1', 'ADAM 3', 'EDWARD 6', 'EDWARD 2', 'CHARLIE 4',\n",
       "       'EDWARD 8', 'DAVID 2', 'ADAM 5', 'CHARLIE 3', 'DAVID 4',\n",
       "       'EDWARD 4', 'BAKER 3', 'DAVID 5', 'DAVID 3', 'BAKER 4', 'FRANK 6',\n",
       "       'FRANK 3', 'HENRY 4', 'ADAM 7', 'IDA 3', 'FRANK 8', 'BAKER 8',\n",
       "       'FRANK 1', 'APT S', 'CHARLIE 8', 'ADAM 8', 'BAKER 6', 'IDA 7',\n",
       "       'EDWARD 5', 'CHARLIE 7', 'IDA 5', 'FRANK 2', '88 88', 'BAKER 5',\n",
       "       'HENRY 1', 'ADAM 4', 'IDA 6', 'BAKER 2', 'DAVID 7', 'BAKER 7',\n",
       "       'EDWARD 3', 'DAVID 8', 'IDA 4', 'APT D', 'CHARLIE 6', 'HENRY 7',\n",
       "       'GEORGE 4', 'APT A', 'UT B', 'APT P', 'APT C', 'UT C', 'UT A',\n",
       "       'DAVID D'], dtype=object)"
      ]
     },
     "execution_count": 29,
     "metadata": {},
     "output_type": "execute_result"
    }
   ],
   "source": [
    "main_df.pd_district.unique()"
   ]
  },
  {
   "cell_type": "markdown",
   "id": "bd591cbf-f5b8-49ed-9843-d527f9570604",
   "metadata": {},
   "source": [
    "**The values in our two columns now look pretty similar. I'll go ahead and merge the df's with an inner join which will drop all the rows where there is no match. Rows without a match should include only APT, 88, and UT sectors which represents a very small proportion of the data. So I'm not concerned about losing too much data after the merge.**\n",
    "\n",
    "*In the future, I may try to find a way to maintain the UT sectors.*"
   ]
  },
  {
   "cell_type": "code",
   "execution_count": 30,
   "id": "5a641858-1088-4912-9adb-ba76feee040c",
   "metadata": {},
   "outputs": [
    {
     "data": {
      "text/html": [
       "<div>\n",
       "<style scoped>\n",
       "    .dataframe tbody tr th:only-of-type {\n",
       "        vertical-align: middle;\n",
       "    }\n",
       "\n",
       "    .dataframe tbody tr th {\n",
       "        vertical-align: top;\n",
       "    }\n",
       "\n",
       "    .dataframe thead th {\n",
       "        text-align: right;\n",
       "    }\n",
       "</style>\n",
       "<table border=\"1\" class=\"dataframe\">\n",
       "  <thead>\n",
       "    <tr style=\"text-align: right;\">\n",
       "      <th></th>\n",
       "      <th>crime_type</th>\n",
       "      <th>family_violence</th>\n",
       "      <th>occurrence_time</th>\n",
       "      <th>occurrence_date</th>\n",
       "      <th>report_time</th>\n",
       "      <th>report_date</th>\n",
       "      <th>location_type</th>\n",
       "      <th>address</th>\n",
       "      <th>zip_code</th>\n",
       "      <th>council_district</th>\n",
       "      <th>...</th>\n",
       "      <th>input_date</th>\n",
       "      <th>modified_date</th>\n",
       "      <th>input_by</th>\n",
       "      <th>modified_by</th>\n",
       "      <th>bureau_name</th>\n",
       "      <th>patrol_area</th>\n",
       "      <th>command_phone_number</th>\n",
       "      <th>primary_key</th>\n",
       "      <th>shape_area</th>\n",
       "      <th>shape_length</th>\n",
       "    </tr>\n",
       "  </thead>\n",
       "  <tbody>\n",
       "    <tr>\n",
       "      <th>0</th>\n",
       "      <td>ASSAULT ON PUBLIC SERVANT</td>\n",
       "      <td>N</td>\n",
       "      <td>2021-12-31 23:50:00</td>\n",
       "      <td>2021-12-31</td>\n",
       "      <td>2021-12-31 23:50:00</td>\n",
       "      <td>2021-12-31</td>\n",
       "      <td>COMMERCIAL / OFFICE BUILDING</td>\n",
       "      <td>111 CONGRESS AVE</td>\n",
       "      <td>78701.0</td>\n",
       "      <td>9.0</td>\n",
       "      <td>...</td>\n",
       "      <td>12/22/2014 11:31:16 AM +0000</td>\n",
       "      <td>03/03/2017 08:32:07 AM +0000</td>\n",
       "      <td>bmartinlimuel</td>\n",
       "      <td>ap7657</td>\n",
       "      <td>NORTH</td>\n",
       "      <td>DTAC</td>\n",
       "      <td>512-974-5203</td>\n",
       "      <td>12</td>\n",
       "      <td>8.371570e+06</td>\n",
       "      <td>14491.846845</td>\n",
       "    </tr>\n",
       "    <tr>\n",
       "      <th>1</th>\n",
       "      <td>ASSAULT BY CONTACT</td>\n",
       "      <td>N</td>\n",
       "      <td>2021-12-31 12:45:00</td>\n",
       "      <td>2021-12-31</td>\n",
       "      <td>2022-01-04 17:07:00</td>\n",
       "      <td>2022-01-04</td>\n",
       "      <td>BAR / NIGHTCLUB</td>\n",
       "      <td>78 RAINEY ST</td>\n",
       "      <td>78701.0</td>\n",
       "      <td>9.0</td>\n",
       "      <td>...</td>\n",
       "      <td>12/22/2014 11:31:16 AM +0000</td>\n",
       "      <td>03/03/2017 08:32:07 AM +0000</td>\n",
       "      <td>bmartinlimuel</td>\n",
       "      <td>ap7657</td>\n",
       "      <td>NORTH</td>\n",
       "      <td>DTAC</td>\n",
       "      <td>512-974-5203</td>\n",
       "      <td>12</td>\n",
       "      <td>8.371570e+06</td>\n",
       "      <td>14491.846845</td>\n",
       "    </tr>\n",
       "    <tr>\n",
       "      <th>2</th>\n",
       "      <td>ASSAULT WITH INJURY</td>\n",
       "      <td>N</td>\n",
       "      <td>2021-12-31 11:00:00</td>\n",
       "      <td>2021-12-31</td>\n",
       "      <td>2022-01-05 19:17:00</td>\n",
       "      <td>2022-01-05</td>\n",
       "      <td>RESIDENCE / HOME</td>\n",
       "      <td>51 RAINEY ST</td>\n",
       "      <td>78701.0</td>\n",
       "      <td>9.0</td>\n",
       "      <td>...</td>\n",
       "      <td>12/22/2014 11:31:16 AM +0000</td>\n",
       "      <td>03/03/2017 08:32:07 AM +0000</td>\n",
       "      <td>bmartinlimuel</td>\n",
       "      <td>ap7657</td>\n",
       "      <td>NORTH</td>\n",
       "      <td>DTAC</td>\n",
       "      <td>512-974-5203</td>\n",
       "      <td>12</td>\n",
       "      <td>8.371570e+06</td>\n",
       "      <td>14491.846845</td>\n",
       "    </tr>\n",
       "    <tr>\n",
       "      <th>3</th>\n",
       "      <td>THEFT</td>\n",
       "      <td>N</td>\n",
       "      <td>2021-12-31 02:00:00</td>\n",
       "      <td>2021-12-31</td>\n",
       "      <td>2022-02-01 22:52:00</td>\n",
       "      <td>2022-02-01</td>\n",
       "      <td>BAR / NIGHTCLUB</td>\n",
       "      <td>76 RAINEY ST</td>\n",
       "      <td>78701.0</td>\n",
       "      <td>9.0</td>\n",
       "      <td>...</td>\n",
       "      <td>12/22/2014 11:31:16 AM +0000</td>\n",
       "      <td>03/03/2017 08:32:07 AM +0000</td>\n",
       "      <td>bmartinlimuel</td>\n",
       "      <td>ap7657</td>\n",
       "      <td>NORTH</td>\n",
       "      <td>DTAC</td>\n",
       "      <td>512-974-5203</td>\n",
       "      <td>12</td>\n",
       "      <td>8.371570e+06</td>\n",
       "      <td>14491.846845</td>\n",
       "    </tr>\n",
       "    <tr>\n",
       "      <th>4</th>\n",
       "      <td>ASSAULT BY CONTACT</td>\n",
       "      <td>N</td>\n",
       "      <td>2021-12-30 08:29:00</td>\n",
       "      <td>2021-12-30</td>\n",
       "      <td>2021-12-30 08:29:00</td>\n",
       "      <td>2021-12-30</td>\n",
       "      <td>HOTEL / MOTEL / ETC.</td>\n",
       "      <td>20 N IH 35 SVRD SB</td>\n",
       "      <td>78701.0</td>\n",
       "      <td>9.0</td>\n",
       "      <td>...</td>\n",
       "      <td>12/22/2014 11:31:16 AM +0000</td>\n",
       "      <td>03/03/2017 08:32:07 AM +0000</td>\n",
       "      <td>bmartinlimuel</td>\n",
       "      <td>ap7657</td>\n",
       "      <td>NORTH</td>\n",
       "      <td>DTAC</td>\n",
       "      <td>512-974-5203</td>\n",
       "      <td>12</td>\n",
       "      <td>8.371570e+06</td>\n",
       "      <td>14491.846845</td>\n",
       "    </tr>\n",
       "  </tbody>\n",
       "</table>\n",
       "<p>5 rows × 40 columns</p>\n",
       "</div>"
      ],
      "text/plain": [
       "                  crime_type family_violence     occurrence_time  \\\n",
       "0  ASSAULT ON PUBLIC SERVANT               N 2021-12-31 23:50:00   \n",
       "1         ASSAULT BY CONTACT               N 2021-12-31 12:45:00   \n",
       "2        ASSAULT WITH INJURY               N 2021-12-31 11:00:00   \n",
       "3                      THEFT               N 2021-12-31 02:00:00   \n",
       "4         ASSAULT BY CONTACT               N 2021-12-30 08:29:00   \n",
       "\n",
       "  occurrence_date         report_time report_date  \\\n",
       "0      2021-12-31 2021-12-31 23:50:00  2021-12-31   \n",
       "1      2021-12-31 2022-01-04 17:07:00  2022-01-04   \n",
       "2      2021-12-31 2022-01-05 19:17:00  2022-01-05   \n",
       "3      2021-12-31 2022-02-01 22:52:00  2022-02-01   \n",
       "4      2021-12-30 2021-12-30 08:29:00  2021-12-30   \n",
       "\n",
       "                  location_type             address  zip_code  \\\n",
       "0  COMMERCIAL / OFFICE BUILDING    111 CONGRESS AVE   78701.0   \n",
       "1               BAR / NIGHTCLUB        78 RAINEY ST   78701.0   \n",
       "2              RESIDENCE / HOME        51 RAINEY ST   78701.0   \n",
       "3               BAR / NIGHTCLUB        76 RAINEY ST   78701.0   \n",
       "4          HOTEL / MOTEL / ETC.  20 N IH 35 SVRD SB   78701.0   \n",
       "\n",
       "   council_district  ...                    input_date  \\\n",
       "0               9.0  ...  12/22/2014 11:31:16 AM +0000   \n",
       "1               9.0  ...  12/22/2014 11:31:16 AM +0000   \n",
       "2               9.0  ...  12/22/2014 11:31:16 AM +0000   \n",
       "3               9.0  ...  12/22/2014 11:31:16 AM +0000   \n",
       "4               9.0  ...  12/22/2014 11:31:16 AM +0000   \n",
       "\n",
       "                  modified_date       input_by  modified_by bureau_name  \\\n",
       "0  03/03/2017 08:32:07 AM +0000  bmartinlimuel       ap7657       NORTH   \n",
       "1  03/03/2017 08:32:07 AM +0000  bmartinlimuel       ap7657       NORTH   \n",
       "2  03/03/2017 08:32:07 AM +0000  bmartinlimuel       ap7657       NORTH   \n",
       "3  03/03/2017 08:32:07 AM +0000  bmartinlimuel       ap7657       NORTH   \n",
       "4  03/03/2017 08:32:07 AM +0000  bmartinlimuel       ap7657       NORTH   \n",
       "\n",
       "  patrol_area  command_phone_number primary_key    shape_area  shape_length  \n",
       "0        DTAC          512-974-5203          12  8.371570e+06  14491.846845  \n",
       "1        DTAC          512-974-5203          12  8.371570e+06  14491.846845  \n",
       "2        DTAC          512-974-5203          12  8.371570e+06  14491.846845  \n",
       "3        DTAC          512-974-5203          12  8.371570e+06  14491.846845  \n",
       "4        DTAC          512-974-5203          12  8.371570e+06  14491.846845  \n",
       "\n",
       "[5 rows x 40 columns]"
      ]
     },
     "execution_count": 30,
     "metadata": {},
     "output_type": "execute_result"
    }
   ],
   "source": [
    "## Let's go ahead and merge the data sets\n",
    "merged = main_df.merge(districts_df, left_on= ['pd_district'], right_on= ['district_name'])\n",
    "merged.head()"
   ]
  },
  {
   "cell_type": "code",
   "execution_count": 31,
   "id": "30f9f5ff-4eb4-4cf8-b91b-ea6593e72a60",
   "metadata": {},
   "outputs": [
    {
     "name": "stdout",
     "output_type": "stream",
     "text": [
      "<class 'pandas.core.frame.DataFrame'>\n",
      "Int64Index: 352931 entries, 0 to 352930\n",
      "Data columns (total 40 columns):\n",
      " #   Column                Non-Null Count   Dtype          \n",
      "---  ------                --------------   -----          \n",
      " 0   crime_type            352931 non-null  object         \n",
      " 1   family_violence       352931 non-null  object         \n",
      " 2   occurrence_time       352931 non-null  datetime64[ns] \n",
      " 3   occurrence_date       352931 non-null  datetime64[ns] \n",
      " 4   report_time           352931 non-null  datetime64[ns] \n",
      " 5   report_date           352931 non-null  datetime64[ns] \n",
      " 6   location_type         352931 non-null  object         \n",
      " 7   address               352931 non-null  object         \n",
      " 8   zip_code              352931 non-null  float64        \n",
      " 9   council_district      352931 non-null  float64        \n",
      " 10  sector                352931 non-null  object         \n",
      " 11  district              352931 non-null  object         \n",
      " 12  latitude              352931 non-null  float64        \n",
      " 13  longitude             352931 non-null  float64        \n",
      " 14  clearance_status      352931 non-null  object         \n",
      " 15  clearance_date        352931 non-null  datetime64[ns] \n",
      " 16  cleared               352931 non-null  bool           \n",
      " 17  time_to_report        352931 non-null  timedelta64[ns]\n",
      " 18  pd_district           352931 non-null  object         \n",
      " 19  the_geom              352931 non-null  object         \n",
      " 20  objectid              352931 non-null  int64          \n",
      " 21  district_name         352931 non-null  object         \n",
      " 22  sort_order            352931 non-null  int64          \n",
      " 23  battalion_id          352931 non-null  int64          \n",
      " 24  jurisdiction_id       352931 non-null  int64          \n",
      " 25  color                 352931 non-null  int64          \n",
      " 26  code                  352931 non-null  int64          \n",
      " 27  external_key          352931 non-null  int64          \n",
      " 28  battalion_code        352931 non-null  object         \n",
      " 29  sector_name           352931 non-null  object         \n",
      " 30  input_date            352931 non-null  object         \n",
      " 31  modified_date         352931 non-null  object         \n",
      " 32  input_by              352931 non-null  object         \n",
      " 33  modified_by           352931 non-null  object         \n",
      " 34  bureau_name           352931 non-null  object         \n",
      " 35  patrol_area           352931 non-null  object         \n",
      " 36  command_phone_number  352931 non-null  object         \n",
      " 37  primary_key           352931 non-null  int64          \n",
      " 38  shape_area            352931 non-null  float64        \n",
      " 39  shape_length          352931 non-null  float64        \n",
      "dtypes: bool(1), datetime64[ns](5), float64(6), int64(8), object(19), timedelta64[ns](1)\n",
      "memory usage: 108.0+ MB\n"
     ]
    }
   ],
   "source": [
    "merged.info()"
   ]
  },
  {
   "cell_type": "markdown",
   "id": "34653f5d-f749-4619-864b-ea07b846a305",
   "metadata": {},
   "source": [
    "#### Let me try the same merge using just the sector name"
   ]
  },
  {
   "cell_type": "code",
   "execution_count": 32,
   "id": "f931b60c-59f2-46c9-93df-3ecf74b21bb0",
   "metadata": {},
   "outputs": [
    {
     "data": {
      "text/plain": [
       "EDWARD     49760\n",
       "DAVID      45050\n",
       "FRANK      42534\n",
       "ADAM       41851\n",
       "BAKER      37392\n",
       "CHARLIE    36004\n",
       "HENRY      35914\n",
       "IDA        35559\n",
       "GEORGE     21697\n",
       "APT         1496\n",
       "88           607\n",
       "UT           144\n",
       "Name: sector, dtype: int64"
      ]
     },
     "execution_count": 32,
     "metadata": {},
     "output_type": "execute_result"
    }
   ],
   "source": [
    "main_df.sector.value_counts()"
   ]
  },
  {
   "cell_type": "code",
   "execution_count": 33,
   "id": "d72a9198-e26a-4ab2-8667-5c5f13063e37",
   "metadata": {},
   "outputs": [
    {
     "data": {
      "text/plain": [
       "HENRY      12\n",
       "BAKER      12\n",
       "CHARLIE    12\n",
       "ADAM        9\n",
       "DAVID       9\n",
       "EDWARD      8\n",
       "FRANK       8\n",
       "IDA         8\n",
       "APT         8\n",
       "GEORGE      4\n",
       "Name: sector_name, dtype: int64"
      ]
     },
     "execution_count": 33,
     "metadata": {},
     "output_type": "execute_result"
    }
   ],
   "source": [
    "districts_df.sector_name.value_counts()"
   ]
  },
  {
   "cell_type": "code",
   "execution_count": 34,
   "id": "34395348-224d-4f60-aa4d-70979dfc0de9",
   "metadata": {},
   "outputs": [
    {
     "data": {
      "text/html": [
       "<div>\n",
       "<style scoped>\n",
       "    .dataframe tbody tr th:only-of-type {\n",
       "        vertical-align: middle;\n",
       "    }\n",
       "\n",
       "    .dataframe tbody tr th {\n",
       "        vertical-align: top;\n",
       "    }\n",
       "\n",
       "    .dataframe thead th {\n",
       "        text-align: right;\n",
       "    }\n",
       "</style>\n",
       "<table border=\"1\" class=\"dataframe\">\n",
       "  <thead>\n",
       "    <tr style=\"text-align: right;\">\n",
       "      <th></th>\n",
       "      <th>crime_type</th>\n",
       "      <th>family_violence</th>\n",
       "      <th>occurrence_time</th>\n",
       "      <th>occurrence_date</th>\n",
       "      <th>report_time</th>\n",
       "      <th>report_date</th>\n",
       "      <th>location_type</th>\n",
       "      <th>address</th>\n",
       "      <th>zip_code</th>\n",
       "      <th>council_district</th>\n",
       "      <th>...</th>\n",
       "      <th>input_date</th>\n",
       "      <th>modified_date</th>\n",
       "      <th>input_by</th>\n",
       "      <th>modified_by</th>\n",
       "      <th>bureau_name</th>\n",
       "      <th>patrol_area</th>\n",
       "      <th>command_phone_number</th>\n",
       "      <th>primary_key</th>\n",
       "      <th>shape_area</th>\n",
       "      <th>shape_length</th>\n",
       "    </tr>\n",
       "  </thead>\n",
       "  <tbody>\n",
       "    <tr>\n",
       "      <th>0</th>\n",
       "      <td>ASSAULT ON PUBLIC SERVANT</td>\n",
       "      <td>N</td>\n",
       "      <td>2021-12-31 23:50:00</td>\n",
       "      <td>2021-12-31</td>\n",
       "      <td>2021-12-31 23:50:00</td>\n",
       "      <td>2021-12-31</td>\n",
       "      <td>COMMERCIAL / OFFICE BUILDING</td>\n",
       "      <td>111 CONGRESS AVE</td>\n",
       "      <td>78701.0</td>\n",
       "      <td>9.0</td>\n",
       "      <td>...</td>\n",
       "      <td>12/22/2014 11:31:16 AM +0000</td>\n",
       "      <td>05/27/2016 01:55:16 PM +0000</td>\n",
       "      <td>bmartinlimuel</td>\n",
       "      <td>ap7657</td>\n",
       "      <td>NORTH</td>\n",
       "      <td>DTAC</td>\n",
       "      <td>512-974-5203</td>\n",
       "      <td>33</td>\n",
       "      <td>3.501785e+06</td>\n",
       "      <td>7850.762882</td>\n",
       "    </tr>\n",
       "    <tr>\n",
       "      <th>1</th>\n",
       "      <td>ASSAULT ON PUBLIC SERVANT</td>\n",
       "      <td>N</td>\n",
       "      <td>2021-12-31 23:50:00</td>\n",
       "      <td>2021-12-31</td>\n",
       "      <td>2021-12-31 23:50:00</td>\n",
       "      <td>2021-12-31</td>\n",
       "      <td>COMMERCIAL / OFFICE BUILDING</td>\n",
       "      <td>111 CONGRESS AVE</td>\n",
       "      <td>78701.0</td>\n",
       "      <td>9.0</td>\n",
       "      <td>...</td>\n",
       "      <td>12/22/2014 11:31:16 AM +0000</td>\n",
       "      <td>09/18/2019 11:53:42 AM +0000</td>\n",
       "      <td>bmartinlimuel</td>\n",
       "      <td>APD_ADMIN</td>\n",
       "      <td>NORTH</td>\n",
       "      <td>DTAC</td>\n",
       "      <td>512-974-5203</td>\n",
       "      <td>54</td>\n",
       "      <td>1.649662e+07</td>\n",
       "      <td>22440.194852</td>\n",
       "    </tr>\n",
       "    <tr>\n",
       "      <th>2</th>\n",
       "      <td>ASSAULT ON PUBLIC SERVANT</td>\n",
       "      <td>N</td>\n",
       "      <td>2021-12-31 23:50:00</td>\n",
       "      <td>2021-12-31</td>\n",
       "      <td>2021-12-31 23:50:00</td>\n",
       "      <td>2021-12-31</td>\n",
       "      <td>COMMERCIAL / OFFICE BUILDING</td>\n",
       "      <td>111 CONGRESS AVE</td>\n",
       "      <td>78701.0</td>\n",
       "      <td>9.0</td>\n",
       "      <td>...</td>\n",
       "      <td>12/22/2014 11:31:16 AM +0000</td>\n",
       "      <td>03/03/2017 08:32:53 AM +0000</td>\n",
       "      <td>bmartinlimuel</td>\n",
       "      <td>ap7657</td>\n",
       "      <td>NORTH</td>\n",
       "      <td>DTAC</td>\n",
       "      <td>512-974-5203</td>\n",
       "      <td>19</td>\n",
       "      <td>3.600168e+06</td>\n",
       "      <td>7922.102059</td>\n",
       "    </tr>\n",
       "    <tr>\n",
       "      <th>3</th>\n",
       "      <td>ASSAULT ON PUBLIC SERVANT</td>\n",
       "      <td>N</td>\n",
       "      <td>2021-12-31 23:50:00</td>\n",
       "      <td>2021-12-31</td>\n",
       "      <td>2021-12-31 23:50:00</td>\n",
       "      <td>2021-12-31</td>\n",
       "      <td>COMMERCIAL / OFFICE BUILDING</td>\n",
       "      <td>111 CONGRESS AVE</td>\n",
       "      <td>78701.0</td>\n",
       "      <td>9.0</td>\n",
       "      <td>...</td>\n",
       "      <td>12/22/2014 11:31:16 AM +0000</td>\n",
       "      <td>03/03/2017 08:32:07 AM +0000</td>\n",
       "      <td>bmartinlimuel</td>\n",
       "      <td>ap7657</td>\n",
       "      <td>NORTH</td>\n",
       "      <td>DTAC</td>\n",
       "      <td>512-974-5203</td>\n",
       "      <td>12</td>\n",
       "      <td>8.371570e+06</td>\n",
       "      <td>14491.846845</td>\n",
       "    </tr>\n",
       "    <tr>\n",
       "      <th>4</th>\n",
       "      <td>PUBLIC INTOXICATION</td>\n",
       "      <td>N</td>\n",
       "      <td>2021-12-31 23:50:00</td>\n",
       "      <td>2021-12-31</td>\n",
       "      <td>2021-12-31 23:50:00</td>\n",
       "      <td>2021-12-31</td>\n",
       "      <td>HWY / ROAD / ALLEY/ STREET/ SIDEWALK</td>\n",
       "      <td>406 E 6TH ST</td>\n",
       "      <td>78701.0</td>\n",
       "      <td>9.0</td>\n",
       "      <td>...</td>\n",
       "      <td>12/22/2014 11:31:16 AM +0000</td>\n",
       "      <td>05/27/2016 01:55:16 PM +0000</td>\n",
       "      <td>bmartinlimuel</td>\n",
       "      <td>ap7657</td>\n",
       "      <td>NORTH</td>\n",
       "      <td>DTAC</td>\n",
       "      <td>512-974-5203</td>\n",
       "      <td>33</td>\n",
       "      <td>3.501785e+06</td>\n",
       "      <td>7850.762882</td>\n",
       "    </tr>\n",
       "  </tbody>\n",
       "</table>\n",
       "<p>5 rows × 40 columns</p>\n",
       "</div>"
      ],
      "text/plain": [
       "                  crime_type family_violence     occurrence_time  \\\n",
       "0  ASSAULT ON PUBLIC SERVANT               N 2021-12-31 23:50:00   \n",
       "1  ASSAULT ON PUBLIC SERVANT               N 2021-12-31 23:50:00   \n",
       "2  ASSAULT ON PUBLIC SERVANT               N 2021-12-31 23:50:00   \n",
       "3  ASSAULT ON PUBLIC SERVANT               N 2021-12-31 23:50:00   \n",
       "4        PUBLIC INTOXICATION               N 2021-12-31 23:50:00   \n",
       "\n",
       "  occurrence_date         report_time report_date  \\\n",
       "0      2021-12-31 2021-12-31 23:50:00  2021-12-31   \n",
       "1      2021-12-31 2021-12-31 23:50:00  2021-12-31   \n",
       "2      2021-12-31 2021-12-31 23:50:00  2021-12-31   \n",
       "3      2021-12-31 2021-12-31 23:50:00  2021-12-31   \n",
       "4      2021-12-31 2021-12-31 23:50:00  2021-12-31   \n",
       "\n",
       "                          location_type           address  zip_code  \\\n",
       "0          COMMERCIAL / OFFICE BUILDING  111 CONGRESS AVE   78701.0   \n",
       "1          COMMERCIAL / OFFICE BUILDING  111 CONGRESS AVE   78701.0   \n",
       "2          COMMERCIAL / OFFICE BUILDING  111 CONGRESS AVE   78701.0   \n",
       "3          COMMERCIAL / OFFICE BUILDING  111 CONGRESS AVE   78701.0   \n",
       "4  HWY / ROAD / ALLEY/ STREET/ SIDEWALK      406 E 6TH ST   78701.0   \n",
       "\n",
       "   council_district  ...                    input_date  \\\n",
       "0               9.0  ...  12/22/2014 11:31:16 AM +0000   \n",
       "1               9.0  ...  12/22/2014 11:31:16 AM +0000   \n",
       "2               9.0  ...  12/22/2014 11:31:16 AM +0000   \n",
       "3               9.0  ...  12/22/2014 11:31:16 AM +0000   \n",
       "4               9.0  ...  12/22/2014 11:31:16 AM +0000   \n",
       "\n",
       "                  modified_date       input_by  modified_by bureau_name  \\\n",
       "0  05/27/2016 01:55:16 PM +0000  bmartinlimuel       ap7657       NORTH   \n",
       "1  09/18/2019 11:53:42 AM +0000  bmartinlimuel    APD_ADMIN       NORTH   \n",
       "2  03/03/2017 08:32:53 AM +0000  bmartinlimuel       ap7657       NORTH   \n",
       "3  03/03/2017 08:32:07 AM +0000  bmartinlimuel       ap7657       NORTH   \n",
       "4  05/27/2016 01:55:16 PM +0000  bmartinlimuel       ap7657       NORTH   \n",
       "\n",
       "  patrol_area  command_phone_number primary_key    shape_area  shape_length  \n",
       "0        DTAC          512-974-5203          33  3.501785e+06   7850.762882  \n",
       "1        DTAC          512-974-5203          54  1.649662e+07  22440.194852  \n",
       "2        DTAC          512-974-5203          19  3.600168e+06   7922.102059  \n",
       "3        DTAC          512-974-5203          12  8.371570e+06  14491.846845  \n",
       "4        DTAC          512-974-5203          33  3.501785e+06   7850.762882  \n",
       "\n",
       "[5 rows x 40 columns]"
      ]
     },
     "execution_count": 34,
     "metadata": {},
     "output_type": "execute_result"
    }
   ],
   "source": [
    "## Let me also try a merge only using sector name\n",
    "sector_merge = main_df.merge(districts_df, left_on= ['sector'], right_on= ['sector_name'])\n",
    "sector_merge.head()"
   ]
  },
  {
   "cell_type": "code",
   "execution_count": 35,
   "id": "6f73a85f-865c-4d31-bc8e-20972b349f25",
   "metadata": {},
   "outputs": [
    {
     "name": "stdout",
     "output_type": "stream",
     "text": [
      "<class 'pandas.core.frame.DataFrame'>\n",
      "Int64Index: 3215409 entries, 0 to 3215408\n",
      "Data columns (total 40 columns):\n",
      " #   Column                Dtype          \n",
      "---  ------                -----          \n",
      " 0   crime_type            object         \n",
      " 1   family_violence       object         \n",
      " 2   occurrence_time       datetime64[ns] \n",
      " 3   occurrence_date       datetime64[ns] \n",
      " 4   report_time           datetime64[ns] \n",
      " 5   report_date           datetime64[ns] \n",
      " 6   location_type         object         \n",
      " 7   address               object         \n",
      " 8   zip_code              float64        \n",
      " 9   council_district      float64        \n",
      " 10  sector                object         \n",
      " 11  district              object         \n",
      " 12  latitude              float64        \n",
      " 13  longitude             float64        \n",
      " 14  clearance_status      object         \n",
      " 15  clearance_date        datetime64[ns] \n",
      " 16  cleared               bool           \n",
      " 17  time_to_report        timedelta64[ns]\n",
      " 18  pd_district           object         \n",
      " 19  the_geom              object         \n",
      " 20  objectid              int64          \n",
      " 21  district_name         object         \n",
      " 22  sort_order            int64          \n",
      " 23  battalion_id          int64          \n",
      " 24  jurisdiction_id       int64          \n",
      " 25  color                 int64          \n",
      " 26  code                  int64          \n",
      " 27  external_key          int64          \n",
      " 28  battalion_code        object         \n",
      " 29  sector_name           object         \n",
      " 30  input_date            object         \n",
      " 31  modified_date         object         \n",
      " 32  input_by              object         \n",
      " 33  modified_by           object         \n",
      " 34  bureau_name           object         \n",
      " 35  patrol_area           object         \n",
      " 36  command_phone_number  object         \n",
      " 37  primary_key           int64          \n",
      " 38  shape_area            float64        \n",
      " 39  shape_length          float64        \n",
      "dtypes: bool(1), datetime64[ns](5), float64(6), int64(8), object(19), timedelta64[ns](1)\n",
      "memory usage: 984.3+ MB\n"
     ]
    }
   ],
   "source": [
    "sector_merge.info()"
   ]
  },
  {
   "cell_type": "code",
   "execution_count": 36,
   "id": "68eba130-0895-43b4-b47d-3b40a221b5e6",
   "metadata": {},
   "outputs": [
    {
     "data": {
      "text/plain": [
       "((348008, 18), (352931, 40), (3215409, 40))"
      ]
     },
     "execution_count": 36,
     "metadata": {},
     "output_type": "execute_result"
    }
   ],
   "source": [
    "# Compare the shapes of my original df with the merged df, and sector df\n",
    "df.shape, merged.shape, sector_merge.shape"
   ]
  },
  {
   "cell_type": "markdown",
   "id": "705c0744-ee2b-41f7-ae39-8445de8b465c",
   "metadata": {},
   "source": [
    "**Merging with using the new column I created reatains the most amount of data so I'll keep that for now. \n",
    "Now that the two data sets are merged I want to see what values have been dropped and see the distributions of new columns.**"
   ]
  },
  {
   "cell_type": "code",
   "execution_count": 37,
   "id": "62684011-568a-46f6-98c5-6f29493cb4d9",
   "metadata": {},
   "outputs": [
    {
     "data": {
      "text/plain": [
       "array(['GEORGE 3', 'HENRY 5', 'GEORGE 2', 'IDA 1', 'EDWARD 1', 'EDWARD 7',\n",
       "       'GEORGE 1', 'CHARLIE 2', 'HENRY 6', 'IDA 2', 'HENRY 2', 'HENRY 3',\n",
       "       'ADAM 6', 'ADAM 1', 'DAVID 1', 'FRANK 5', 'IDA 8', 'CHARLIE 5',\n",
       "       'FRANK 4', 'DAVID 6', 'FRANK 7', 'ADAM 2', 'CHARLIE 1', 'HENRY 8',\n",
       "       'BAKER 1', 'ADAM 3', 'EDWARD 6', 'EDWARD 2', 'CHARLIE 4',\n",
       "       'EDWARD 8', 'DAVID 2', 'ADAM 5', 'CHARLIE 3', 'DAVID 4',\n",
       "       'EDWARD 4', 'BAKER 3', 'DAVID 5', 'DAVID 3', 'BAKER 4', 'FRANK 6',\n",
       "       'FRANK 3', 'HENRY 4', 'ADAM 7', 'IDA 3', 'FRANK 8', 'BAKER 8',\n",
       "       'FRANK 1', 'CHARLIE 8', 'ADAM 8', 'BAKER 6', 'IDA 7', 'EDWARD 5',\n",
       "       'CHARLIE 7', 'IDA 5', 'FRANK 2', 'BAKER 5', 'HENRY 1', 'ADAM 4',\n",
       "       'IDA 6', 'BAKER 2', 'DAVID 7', 'BAKER 7', 'EDWARD 3', 'DAVID 8',\n",
       "       'IDA 4', 'CHARLIE 6', 'HENRY 7', 'GEORGE 4'], dtype=object)"
      ]
     },
     "execution_count": 37,
     "metadata": {},
     "output_type": "execute_result"
    }
   ],
   "source": [
    "merged.district_name.unique()"
   ]
  },
  {
   "cell_type": "code",
   "execution_count": 38,
   "id": "a69e5280-5ba0-417e-bdba-896b410e9001",
   "metadata": {},
   "outputs": [
    {
     "data": {
      "text/plain": [
       "<AxesSubplot:>"
      ]
     },
     "execution_count": 38,
     "metadata": {},
     "output_type": "execute_result"
    },
    {
     "data": {
      "image/png": "[encoded data removed]",
      "text/plain": [
       "<Figure size 432x288 with 1 Axes>"
      ]
     },
     "metadata": {
      "needs_background": "light"
     },
     "output_type": "display_data"
    }
   ],
   "source": [
    "merged.sector.value_counts().plot.bar()"
   ]
  },
  {
   "cell_type": "code",
   "execution_count": 39,
   "id": "99b19dd3-8c13-431b-9427-52aa3596be2a",
   "metadata": {},
   "outputs": [
    {
     "data": {
      "text/plain": [
       "2    69144\n",
       "1    65263\n",
       "3    42435\n",
       "4    42051\n",
       "7    38682\n",
       "5    35573\n",
       "6    33123\n",
       "8    26660\n",
       "Name: district, dtype: int64"
      ]
     },
     "execution_count": 39,
     "metadata": {},
     "output_type": "execute_result"
    }
   ],
   "source": [
    "merged.district.value_counts()"
   ]
  },
  {
   "cell_type": "code",
   "execution_count": 40,
   "id": "5a16dd4f-ee41-471c-acb7-6cff178eb661",
   "metadata": {},
   "outputs": [
    {
     "data": {
      "text/plain": [
       "<AxesSubplot:>"
      ]
     },
     "execution_count": 40,
     "metadata": {},
     "output_type": "execute_result"
    },
    {
     "data": {
      "image/png": "[encoded data removed]",
      "text/plain": [
       "<Figure size 432x288 with 1 Axes>"
      ]
     },
     "metadata": {
      "needs_background": "light"
     },
     "output_type": "display_data"
    }
   ],
   "source": [
    "merged.patrol_area.value_counts().plot.bar()"
   ]
  },
  {
   "cell_type": "code",
   "execution_count": 41,
   "id": "7613dfec-06f3-44b4-a39d-7b1f2f2df7d9",
   "metadata": {},
   "outputs": [
    {
     "data": {
      "text/plain": [
       "<AxesSubplot:>"
      ]
     },
     "execution_count": 41,
     "metadata": {},
     "output_type": "execute_result"
    },
    {
     "data": {
      "image/png": "[encoded data removed]",
      "text/plain": [
       "<Figure size 432x288 with 1 Axes>"
      ]
     },
     "metadata": {
      "needs_background": "light"
     },
     "output_type": "display_data"
    }
   ],
   "source": [
    "merged.bureau_name.value_counts().plot.bar()"
   ]
  },
  {
   "cell_type": "markdown",
   "id": "aed37258-7c26-46f2-8528-02438f11a0c0",
   "metadata": {},
   "source": [
    "### Create functions that replicate acquiring and merging the new data set"
   ]
  },
  {
   "cell_type": "markdown",
   "id": "421f14bb-84b1-44b9-9b58-d2a1c0e7bdf0",
   "metadata": {},
   "source": [
    "**First I'll just replicate the merge so I can start exploring. I'll worry about automating the acquisition later.**"
   ]
  },
  {
   "cell_type": "code",
   "execution_count": 42,
   "id": "05a8b75c-c6ff-4be3-9b4e-0d7e5a3e0b2b",
   "metadata": {},
   "outputs": [],
   "source": [
    "def merge_districts(df):\n",
    "    # Acquire our two dfs to be merged\n",
    "    main_df = df.copy()\n",
    "    districts_df = pd.read_csv('Austin_Police_Department_Districts_data.csv')\n",
    "    \n",
    "    # Clean up the columns in districts_df to match format of main_df\n",
    "    districts_df.columns = districts_df.columns.str.strip().str.lower().str.replace('__', ('_'))\n",
    "    \n",
    "    # Change the values in sectors to more closely match those in distrcits_df\n",
    "    sectors = {'ED':'EDWARD', 'DA':'DAVID', 'FR':'FRANK', 'AD':'ADAM', \n",
    "               'BA':'BAKER', 'CH':'CHARLIE', 'HE':'HENRY', 'ID':'IDA',\n",
    "               'GE':'GEORGE', 'AP': 'APT', '88':'88', 'UT':'UT'}\n",
    "\n",
    "    main_df['sector'] = main_df.sector.map(sectors)\n",
    "    \n",
    "    # Cobine the two columns into one called pd_district to match column in other data set\n",
    "    main_df['pd_district'] = main_df['sector'].astype(str) + ' ' + df['district'].astype(str)\n",
    "    \n",
    "    # Merge the data sets using the newly created column in main_df\n",
    "    merged = main_df.merge(districts_df, left_on= ['pd_district'], right_on= ['district_name'])\n",
    "    \n",
    "    return merged \n",
    "    \n",
    "    \n",
    "    \n",
    "    \n",
    "    \n",
    "    "
   ]
  },
  {
   "cell_type": "code",
   "execution_count": 43,
   "id": "3d2380b0-fdd5-4f24-a160-532b2d4e72c4",
   "metadata": {},
   "outputs": [
    {
     "data": {
      "text/html": [
       "<div>\n",
       "<style scoped>\n",
       "    .dataframe tbody tr th:only-of-type {\n",
       "        vertical-align: middle;\n",
       "    }\n",
       "\n",
       "    .dataframe tbody tr th {\n",
       "        vertical-align: top;\n",
       "    }\n",
       "\n",
       "    .dataframe thead th {\n",
       "        text-align: right;\n",
       "    }\n",
       "</style>\n",
       "<table border=\"1\" class=\"dataframe\">\n",
       "  <thead>\n",
       "    <tr style=\"text-align: right;\">\n",
       "      <th></th>\n",
       "      <th>crime_type</th>\n",
       "      <th>family_violence</th>\n",
       "      <th>occurrence_time</th>\n",
       "      <th>occurrence_date</th>\n",
       "      <th>report_time</th>\n",
       "      <th>report_date</th>\n",
       "      <th>location_type</th>\n",
       "      <th>address</th>\n",
       "      <th>zip_code</th>\n",
       "      <th>council_district</th>\n",
       "      <th>...</th>\n",
       "      <th>input_date</th>\n",
       "      <th>modified_date</th>\n",
       "      <th>input_by</th>\n",
       "      <th>modified_by</th>\n",
       "      <th>bureau_name</th>\n",
       "      <th>patrol_area</th>\n",
       "      <th>command_phone_number</th>\n",
       "      <th>primary_key</th>\n",
       "      <th>shape_area</th>\n",
       "      <th>shape_length</th>\n",
       "    </tr>\n",
       "  </thead>\n",
       "  <tbody>\n",
       "    <tr>\n",
       "      <th>0</th>\n",
       "      <td>ASSAULT ON PUBLIC SERVANT</td>\n",
       "      <td>N</td>\n",
       "      <td>2021-12-31 23:50:00</td>\n",
       "      <td>2021-12-31</td>\n",
       "      <td>2021-12-31 23:50:00</td>\n",
       "      <td>2021-12-31</td>\n",
       "      <td>COMMERCIAL / OFFICE BUILDING</td>\n",
       "      <td>111 CONGRESS AVE</td>\n",
       "      <td>78701.0</td>\n",
       "      <td>9.0</td>\n",
       "      <td>...</td>\n",
       "      <td>12/22/2014 11:31:16 AM +0000</td>\n",
       "      <td>03/03/2017 08:32:07 AM +0000</td>\n",
       "      <td>bmartinlimuel</td>\n",
       "      <td>ap7657</td>\n",
       "      <td>NORTH</td>\n",
       "      <td>DTAC</td>\n",
       "      <td>512-974-5203</td>\n",
       "      <td>12</td>\n",
       "      <td>8.371570e+06</td>\n",
       "      <td>14491.846845</td>\n",
       "    </tr>\n",
       "    <tr>\n",
       "      <th>1</th>\n",
       "      <td>ASSAULT BY CONTACT</td>\n",
       "      <td>N</td>\n",
       "      <td>2021-12-31 12:45:00</td>\n",
       "      <td>2021-12-31</td>\n",
       "      <td>2022-01-04 17:07:00</td>\n",
       "      <td>2022-01-04</td>\n",
       "      <td>BAR / NIGHTCLUB</td>\n",
       "      <td>78 RAINEY ST</td>\n",
       "      <td>78701.0</td>\n",
       "      <td>9.0</td>\n",
       "      <td>...</td>\n",
       "      <td>12/22/2014 11:31:16 AM +0000</td>\n",
       "      <td>03/03/2017 08:32:07 AM +0000</td>\n",
       "      <td>bmartinlimuel</td>\n",
       "      <td>ap7657</td>\n",
       "      <td>NORTH</td>\n",
       "      <td>DTAC</td>\n",
       "      <td>512-974-5203</td>\n",
       "      <td>12</td>\n",
       "      <td>8.371570e+06</td>\n",
       "      <td>14491.846845</td>\n",
       "    </tr>\n",
       "    <tr>\n",
       "      <th>2</th>\n",
       "      <td>ASSAULT WITH INJURY</td>\n",
       "      <td>N</td>\n",
       "      <td>2021-12-31 11:00:00</td>\n",
       "      <td>2021-12-31</td>\n",
       "      <td>2022-01-05 19:17:00</td>\n",
       "      <td>2022-01-05</td>\n",
       "      <td>RESIDENCE / HOME</td>\n",
       "      <td>51 RAINEY ST</td>\n",
       "      <td>78701.0</td>\n",
       "      <td>9.0</td>\n",
       "      <td>...</td>\n",
       "      <td>12/22/2014 11:31:16 AM +0000</td>\n",
       "      <td>03/03/2017 08:32:07 AM +0000</td>\n",
       "      <td>bmartinlimuel</td>\n",
       "      <td>ap7657</td>\n",
       "      <td>NORTH</td>\n",
       "      <td>DTAC</td>\n",
       "      <td>512-974-5203</td>\n",
       "      <td>12</td>\n",
       "      <td>8.371570e+06</td>\n",
       "      <td>14491.846845</td>\n",
       "    </tr>\n",
       "    <tr>\n",
       "      <th>3</th>\n",
       "      <td>THEFT</td>\n",
       "      <td>N</td>\n",
       "      <td>2021-12-31 02:00:00</td>\n",
       "      <td>2021-12-31</td>\n",
       "      <td>2022-02-01 22:52:00</td>\n",
       "      <td>2022-02-01</td>\n",
       "      <td>BAR / NIGHTCLUB</td>\n",
       "      <td>76 RAINEY ST</td>\n",
       "      <td>78701.0</td>\n",
       "      <td>9.0</td>\n",
       "      <td>...</td>\n",
       "      <td>12/22/2014 11:31:16 AM +0000</td>\n",
       "      <td>03/03/2017 08:32:07 AM +0000</td>\n",
       "      <td>bmartinlimuel</td>\n",
       "      <td>ap7657</td>\n",
       "      <td>NORTH</td>\n",
       "      <td>DTAC</td>\n",
       "      <td>512-974-5203</td>\n",
       "      <td>12</td>\n",
       "      <td>8.371570e+06</td>\n",
       "      <td>14491.846845</td>\n",
       "    </tr>\n",
       "    <tr>\n",
       "      <th>4</th>\n",
       "      <td>ASSAULT BY CONTACT</td>\n",
       "      <td>N</td>\n",
       "      <td>2021-12-30 08:29:00</td>\n",
       "      <td>2021-12-30</td>\n",
       "      <td>2021-12-30 08:29:00</td>\n",
       "      <td>2021-12-30</td>\n",
       "      <td>HOTEL / MOTEL / ETC.</td>\n",
       "      <td>20 N IH 35 SVRD SB</td>\n",
       "      <td>78701.0</td>\n",
       "      <td>9.0</td>\n",
       "      <td>...</td>\n",
       "      <td>12/22/2014 11:31:16 AM +0000</td>\n",
       "      <td>03/03/2017 08:32:07 AM +0000</td>\n",
       "      <td>bmartinlimuel</td>\n",
       "      <td>ap7657</td>\n",
       "      <td>NORTH</td>\n",
       "      <td>DTAC</td>\n",
       "      <td>512-974-5203</td>\n",
       "      <td>12</td>\n",
       "      <td>8.371570e+06</td>\n",
       "      <td>14491.846845</td>\n",
       "    </tr>\n",
       "  </tbody>\n",
       "</table>\n",
       "<p>5 rows × 40 columns</p>\n",
       "</div>"
      ],
      "text/plain": [
       "                  crime_type family_violence     occurrence_time  \\\n",
       "0  ASSAULT ON PUBLIC SERVANT               N 2021-12-31 23:50:00   \n",
       "1         ASSAULT BY CONTACT               N 2021-12-31 12:45:00   \n",
       "2        ASSAULT WITH INJURY               N 2021-12-31 11:00:00   \n",
       "3                      THEFT               N 2021-12-31 02:00:00   \n",
       "4         ASSAULT BY CONTACT               N 2021-12-30 08:29:00   \n",
       "\n",
       "  occurrence_date         report_time report_date  \\\n",
       "0      2021-12-31 2021-12-31 23:50:00  2021-12-31   \n",
       "1      2021-12-31 2022-01-04 17:07:00  2022-01-04   \n",
       "2      2021-12-31 2022-01-05 19:17:00  2022-01-05   \n",
       "3      2021-12-31 2022-02-01 22:52:00  2022-02-01   \n",
       "4      2021-12-30 2021-12-30 08:29:00  2021-12-30   \n",
       "\n",
       "                  location_type             address  zip_code  \\\n",
       "0  COMMERCIAL / OFFICE BUILDING    111 CONGRESS AVE   78701.0   \n",
       "1               BAR / NIGHTCLUB        78 RAINEY ST   78701.0   \n",
       "2              RESIDENCE / HOME        51 RAINEY ST   78701.0   \n",
       "3               BAR / NIGHTCLUB        76 RAINEY ST   78701.0   \n",
       "4          HOTEL / MOTEL / ETC.  20 N IH 35 SVRD SB   78701.0   \n",
       "\n",
       "   council_district  ...                    input_date  \\\n",
       "0               9.0  ...  12/22/2014 11:31:16 AM +0000   \n",
       "1               9.0  ...  12/22/2014 11:31:16 AM +0000   \n",
       "2               9.0  ...  12/22/2014 11:31:16 AM +0000   \n",
       "3               9.0  ...  12/22/2014 11:31:16 AM +0000   \n",
       "4               9.0  ...  12/22/2014 11:31:16 AM +0000   \n",
       "\n",
       "                  modified_date       input_by  modified_by bureau_name  \\\n",
       "0  03/03/2017 08:32:07 AM +0000  bmartinlimuel       ap7657       NORTH   \n",
       "1  03/03/2017 08:32:07 AM +0000  bmartinlimuel       ap7657       NORTH   \n",
       "2  03/03/2017 08:32:07 AM +0000  bmartinlimuel       ap7657       NORTH   \n",
       "3  03/03/2017 08:32:07 AM +0000  bmartinlimuel       ap7657       NORTH   \n",
       "4  03/03/2017 08:32:07 AM +0000  bmartinlimuel       ap7657       NORTH   \n",
       "\n",
       "  patrol_area  command_phone_number primary_key    shape_area  shape_length  \n",
       "0        DTAC          512-974-5203          12  8.371570e+06  14491.846845  \n",
       "1        DTAC          512-974-5203          12  8.371570e+06  14491.846845  \n",
       "2        DTAC          512-974-5203          12  8.371570e+06  14491.846845  \n",
       "3        DTAC          512-974-5203          12  8.371570e+06  14491.846845  \n",
       "4        DTAC          512-974-5203          12  8.371570e+06  14491.846845  \n",
       "\n",
       "[5 rows x 40 columns]"
      ]
     },
     "execution_count": 43,
     "metadata": {},
     "output_type": "execute_result"
    }
   ],
   "source": [
    "new_df = merge_districts(df)\n",
    "new_df.head()"
   ]
  },
  {
   "cell_type": "code",
   "execution_count": 44,
   "id": "2a377d1e-032d-41a5-aaab-97abf55c5072",
   "metadata": {},
   "outputs": [
    {
     "name": "stdout",
     "output_type": "stream",
     "text": [
      "<class 'pandas.core.frame.DataFrame'>\n",
      "Int64Index: 352931 entries, 0 to 352930\n",
      "Data columns (total 40 columns):\n",
      " #   Column                Non-Null Count   Dtype          \n",
      "---  ------                --------------   -----          \n",
      " 0   crime_type            352931 non-null  object         \n",
      " 1   family_violence       352931 non-null  object         \n",
      " 2   occurrence_time       352931 non-null  datetime64[ns] \n",
      " 3   occurrence_date       352931 non-null  datetime64[ns] \n",
      " 4   report_time           352931 non-null  datetime64[ns] \n",
      " 5   report_date           352931 non-null  datetime64[ns] \n",
      " 6   location_type         352931 non-null  object         \n",
      " 7   address               352931 non-null  object         \n",
      " 8   zip_code              352931 non-null  float64        \n",
      " 9   council_district      352931 non-null  float64        \n",
      " 10  sector                352931 non-null  object         \n",
      " 11  district              352931 non-null  object         \n",
      " 12  latitude              352931 non-null  float64        \n",
      " 13  longitude             352931 non-null  float64        \n",
      " 14  clearance_status      352931 non-null  object         \n",
      " 15  clearance_date        352931 non-null  datetime64[ns] \n",
      " 16  cleared               352931 non-null  bool           \n",
      " 17  time_to_report        352931 non-null  timedelta64[ns]\n",
      " 18  pd_district           352931 non-null  object         \n",
      " 19  the_geom              352931 non-null  object         \n",
      " 20  objectid              352931 non-null  int64          \n",
      " 21  district_name         352931 non-null  object         \n",
      " 22  sort_order            352931 non-null  int64          \n",
      " 23  battalion_id          352931 non-null  int64          \n",
      " 24  jurisdiction_id       352931 non-null  int64          \n",
      " 25  color                 352931 non-null  int64          \n",
      " 26  code                  352931 non-null  int64          \n",
      " 27  external_key          352931 non-null  int64          \n",
      " 28  battalion_code        352931 non-null  object         \n",
      " 29  sector_name           352931 non-null  object         \n",
      " 30  input_date            352931 non-null  object         \n",
      " 31  modified_date         352931 non-null  object         \n",
      " 32  input_by              352931 non-null  object         \n",
      " 33  modified_by           352931 non-null  object         \n",
      " 34  bureau_name           352931 non-null  object         \n",
      " 35  patrol_area           352931 non-null  object         \n",
      " 36  command_phone_number  352931 non-null  object         \n",
      " 37  primary_key           352931 non-null  int64          \n",
      " 38  shape_area            352931 non-null  float64        \n",
      " 39  shape_length          352931 non-null  float64        \n",
      "dtypes: bool(1), datetime64[ns](5), float64(6), int64(8), object(19), timedelta64[ns](1)\n",
      "memory usage: 108.0+ MB\n"
     ]
    }
   ],
   "source": [
    "new_df.info()"
   ]
  },
  {
   "cell_type": "code",
   "execution_count": null,
   "id": "606eac50-fe47-4b50-b64a-d62d39b33862",
   "metadata": {},
   "outputs": [],
   "source": []
  }
 ],
 "metadata": {
  "kernelspec": {
   "display_name": "Python 3 (ipykernel)",
   "language": "python",
   "name": "python3"
  },
  "language_info": {
   "codemirror_mode": {
    "name": "ipython",
    "version": 3
   },
   "file_extension": ".py",
   "mimetype": "text/x-python",
   "name": "python",
   "nbconvert_exporter": "python",
   "pygments_lexer": "ipython3",
   "version": "3.9.7"
  }
 },
 "nbformat": 4,
 "nbformat_minor": 5
}
