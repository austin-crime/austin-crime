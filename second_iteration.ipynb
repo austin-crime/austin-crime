{
 "cells": [
  {
   "cell_type": "markdown",
   "id": "fdf3c566-911d-46fc-8c63-11a43aaf66de",
   "metadata": {},
   "source": [
    "# Data Preparation\n",
    "\n",
    "This notebook contains all steps and decisions made in the 2nd iteration of the Austin Crime project.\n",
    "\n",
    "## The Required Imports\n",
    "\n",
    "Here we'll import all the required modules for this notebook."
   ]
  },
  {
   "cell_type": "code",
   "execution_count": 14,
   "id": "e1377a79-c2f1-4087-9910-550ac4cd6d40",
   "metadata": {},
   "outputs": [],
   "source": [
    "import numpy as np\n",
    "import pandas as pd\n",
    "import matplotlib.pyplot as plt\n",
    "import seaborn as sns\n",
    "\n",
    "from acquire import get_crime_data\n",
    "import prepare\n",
    "from wrangle import *"
   ]
  },
  {
   "cell_type": "markdown",
   "id": "79103e84-044c-4696-9e1e-84dce23c2644",
   "metadata": {},
   "source": [
    "## Acquire the Data\n",
    "\n",
    "We'll acquire the data using the get_crime_data function from the acquire module. Here we'll explicitly read from the source using an API, but going forward we will use the cache file 'Crime_Reports.csv'."
   ]
  },
  {
   "cell_type": "code",
   "execution_count": 2,
   "id": "5632af35-1969-463e-acb5-68db2168faac",
   "metadata": {},
   "outputs": [
    {
     "name": "stdout",
     "output_type": "stream",
     "text": [
      "Using cached csv\n"
     ]
    },
    {
     "data": {
      "text/plain": [
       "(500000, 31)"
      ]
     },
     "execution_count": 2,
     "metadata": {},
     "output_type": "execute_result"
    }
   ],
   "source": [
    "# Acquire the data using the API\n",
    "\n",
    "df = get_crime_data()\n",
    "df.shape"
   ]
  },
  {
   "cell_type": "code",
   "execution_count": 3,
   "id": "6b458e38-3c25-494f-90ed-8bf6733a86d2",
   "metadata": {},
   "outputs": [
    {
     "name": "stdout",
     "output_type": "stream",
     "text": [
      "<class 'pandas.core.frame.DataFrame'>\n",
      "RangeIndex: 500000 entries, 0 to 499999\n",
      "Data columns (total 31 columns):\n",
      " #   Column                       Non-Null Count   Dtype  \n",
      "---  ------                       --------------   -----  \n",
      " 0   incident_report_number       500000 non-null  int64  \n",
      " 1   crime_type                   500000 non-null  object \n",
      " 2   ucr_code                     500000 non-null  int64  \n",
      " 3   family_violence              500000 non-null  object \n",
      " 4   occ_date_time                500000 non-null  object \n",
      " 5   occ_date                     500000 non-null  object \n",
      " 6   occ_time                     500000 non-null  int64  \n",
      " 7   rep_date_time                500000 non-null  object \n",
      " 8   rep_date                     500000 non-null  object \n",
      " 9   rep_time                     500000 non-null  int64  \n",
      " 10  location_type                498336 non-null  object \n",
      " 11  address                      500000 non-null  object \n",
      " 12  zip_code                     497118 non-null  float64\n",
      " 13  council_district             494792 non-null  float64\n",
      " 14  sector                       498366 non-null  object \n",
      " 15  district                     498224 non-null  object \n",
      " 16  pra                          497709 non-null  float64\n",
      " 17  census_tract                 495816 non-null  float64\n",
      " 18  x_coordinate                 497855 non-null  float64\n",
      " 19  y_coordinate                 497855 non-null  float64\n",
      " 20  latitude                     490957 non-null  float64\n",
      " 21  longitude                    490957 non-null  float64\n",
      " 22  location                     490957 non-null  object \n",
      " 23  :@computed_region_a3it_2a2z  490952 non-null  float64\n",
      " 24  :@computed_region_8spj_utxs  488726 non-null  float64\n",
      " 25  :@computed_region_q9nd_rr82  489772 non-null  float64\n",
      " 26  ucr_category                 190835 non-null  object \n",
      " 27  category_description         190835 non-null  object \n",
      " 28  :@computed_region_qwte_z96m  272371 non-null  float64\n",
      " 29  clearance_status             440652 non-null  object \n",
      " 30  clearance_date               440639 non-null  object \n",
      "dtypes: float64(12), int64(4), object(15)\n",
      "memory usage: 118.3+ MB\n"
     ]
    }
   ],
   "source": [
    "df.info()"
   ]
  },
  {
   "cell_type": "markdown",
   "id": "f9b8be44-1c3b-464d-b4c8-4766a088ab8e",
   "metadata": {},
   "source": [
    "### Limit Time Frame of the Data\n",
    "\n",
    "We are only interested in crimes reported between the years 2018 and 2021. Here we'll remove all observations that occur outside of this time frame."
   ]
  },
  {
   "cell_type": "code",
   "execution_count": 4,
   "id": "e4625e8c-7115-4117-8602-560ac1838def",
   "metadata": {},
   "outputs": [
    {
     "data": {
      "text/plain": [
       "0    2022-05-28T00:00:00.000\n",
       "Name: occ_date, dtype: object"
      ]
     },
     "execution_count": 4,
     "metadata": {},
     "output_type": "execute_result"
    }
   ],
   "source": [
    "# Let's see how the date information is stored in the dataframe.\n",
    "\n",
    "df.head(1).occ_date"
   ]
  },
  {
   "cell_type": "code",
   "execution_count": 5,
   "id": "7818963c-fb48-42d1-9cf7-6805afb7c3fb",
   "metadata": {},
   "outputs": [],
   "source": [
    "# Set the occ_date column to a datetime type.\n",
    "\n",
    "df.occ_date = pd.to_datetime(df.occ_date, format = '%Y-%m-%d')"
   ]
  },
  {
   "cell_type": "code",
   "execution_count": 6,
   "id": "215e0cac-5621-465c-8e9e-cc9bf1f25b32",
   "metadata": {},
   "outputs": [
    {
     "data": {
      "text/plain": [
       "0   2022-05-28\n",
       "1   2022-05-28\n",
       "2   2022-05-28\n",
       "3   2022-05-28\n",
       "4   2022-05-28\n",
       "Name: occ_date, dtype: datetime64[ns]"
      ]
     },
     "execution_count": 6,
     "metadata": {},
     "output_type": "execute_result"
    }
   ],
   "source": [
    "df.occ_date.head()"
   ]
  },
  {
   "cell_type": "code",
   "execution_count": 7,
   "id": "8b5fb8f0-0eea-4c99-a795-32503bd56b7c",
   "metadata": {},
   "outputs": [
    {
     "data": {
      "text/plain": [
       "(401978, 31)"
      ]
     },
     "execution_count": 7,
     "metadata": {},
     "output_type": "execute_result"
    }
   ],
   "source": [
    "# Subset the data to include observations between 2018-01-01 and 2021-12-31.\n",
    "\n",
    "df = df[(df.occ_date >= '2018-01-01') & (df.occ_date <= '2021-12-31')]\n",
    "df.shape"
   ]
  },
  {
   "cell_type": "markdown",
   "id": "f4787e9b-aa9e-458f-a337-0c717f80bc51",
   "metadata": {},
   "source": [
    "### New Decisions"
   ]
  },
  {
   "cell_type": "markdown",
   "id": "8a7f2898-e896-47c3-bb7c-f8a2ad37d509",
   "metadata": {},
   "source": [
    "*After discussion and research on the meaning of cleared by exception, we decided that instead of lumping cleared by arrest and cleared by exception together it might be better to drop cleared by exception all together. Cleared by exception and cleared by arrest can mean very different things, so depending on the proportion of cleared by exception values it may make sense to drop all of them for the sake of data integrity.*"
   ]
  },
  {
   "cell_type": "code",
   "execution_count": 8,
   "id": "fab5f09e-48cf-4b48-bc6a-b6e37e4c2af5",
   "metadata": {},
   "outputs": [
    {
     "data": {
      "text/plain": [
       "N    281250\n",
       "C     73852\n",
       "O      1668\n",
       "Name: clearance_status, dtype: int64"
      ]
     },
     "execution_count": 8,
     "metadata": {},
     "output_type": "execute_result"
    }
   ],
   "source": [
    "# Checking the proportions of cleared by arrest, cleared by exception, and not cleared\n",
    "df.clearance_status.value_counts()"
   ]
  },
  {
   "cell_type": "code",
   "execution_count": 9,
   "id": "3ec54043-dafd-4766-8309-b1fbb929409c",
   "metadata": {},
   "outputs": [
    {
     "data": {
      "text/plain": [
       "N    0.788323\n",
       "C    0.207002\n",
       "O    0.004675\n",
       "Name: clearance_status, dtype: float64"
      ]
     },
     "execution_count": 9,
     "metadata": {},
     "output_type": "execute_result"
    }
   ],
   "source": [
    "# Checking as a percentage\n",
    "df.clearance_status.value_counts(normalize=True)"
   ]
  },
  {
   "cell_type": "markdown",
   "id": "97a0a7d6-fd6b-4f47-a390-94d896ab74c6",
   "metadata": {},
   "source": [
    "**Cleared by exception makes up less than 1 percent of our data. Moving forward We will drop all rows with these values.**"
   ]
  },
  {
   "cell_type": "code",
   "execution_count": 12,
   "id": "7ff3960f-05fb-4a7e-a6fa-baa4d46b3d10",
   "metadata": {},
   "outputs": [],
   "source": [
    "# Removing the O value meaning cleared by exception\n",
    "df = df[~(df.clearance_status == 'O')]"
   ]
  },
  {
   "cell_type": "code",
   "execution_count": 13,
   "id": "09acc07e-d843-4429-9ac6-3da71831ff57",
   "metadata": {},
   "outputs": [
    {
     "data": {
      "text/plain": [
       "N    281250\n",
       "C     73852\n",
       "Name: clearance_status, dtype: int64"
      ]
     },
     "execution_count": 13,
     "metadata": {},
     "output_type": "execute_result"
    }
   ],
   "source": [
    "df.clearance_status.value_counts()"
   ]
  },
  {
   "cell_type": "markdown",
   "id": "a5debb58-ebe0-4c76-aaa2-389748752ae6",
   "metadata": {},
   "source": [
    "**Testing this change after adding it to the prepare.py**"
   ]
  },
  {
   "cell_type": "code",
   "execution_count": 15,
   "id": "e3f996c4-54bb-48f3-8607-63703ab08025",
   "metadata": {},
   "outputs": [
    {
     "name": "stdout",
     "output_type": "stream",
     "text": [
      "Using cached csv\n"
     ]
    },
    {
     "data": {
      "text/html": [
       "<div>\n",
       "<style scoped>\n",
       "    .dataframe tbody tr th:only-of-type {\n",
       "        vertical-align: middle;\n",
       "    }\n",
       "\n",
       "    .dataframe tbody tr th {\n",
       "        vertical-align: top;\n",
       "    }\n",
       "\n",
       "    .dataframe thead th {\n",
       "        text-align: right;\n",
       "    }\n",
       "</style>\n",
       "<table border=\"1\" class=\"dataframe\">\n",
       "  <thead>\n",
       "    <tr style=\"text-align: right;\">\n",
       "      <th></th>\n",
       "      <th>crime_type</th>\n",
       "      <th>family_violence</th>\n",
       "      <th>occurrence_time</th>\n",
       "      <th>occurrence_date</th>\n",
       "      <th>report_time</th>\n",
       "      <th>report_date</th>\n",
       "      <th>location_type</th>\n",
       "      <th>address</th>\n",
       "      <th>zip_code</th>\n",
       "      <th>council_district</th>\n",
       "      <th>sector</th>\n",
       "      <th>district</th>\n",
       "      <th>latitude</th>\n",
       "      <th>longitude</th>\n",
       "      <th>clearance_status</th>\n",
       "      <th>clearance_date</th>\n",
       "      <th>cleared</th>\n",
       "      <th>time_to_report</th>\n",
       "    </tr>\n",
       "  </thead>\n",
       "  <tbody>\n",
       "    <tr>\n",
       "      <th>34573</th>\n",
       "      <td>ASSAULT ON PUBLIC SERVANT</td>\n",
       "      <td>N</td>\n",
       "      <td>2021-12-31 23:50:00</td>\n",
       "      <td>2021-12-31</td>\n",
       "      <td>2021-12-31 23:50:00</td>\n",
       "      <td>2021-12-31</td>\n",
       "      <td>COMMERCIAL / OFFICE BUILDING</td>\n",
       "      <td>111 CONGRESS AVE</td>\n",
       "      <td>78701.0</td>\n",
       "      <td>9.0</td>\n",
       "      <td>GE</td>\n",
       "      <td>3</td>\n",
       "      <td>30.263739</td>\n",
       "      <td>-97.743651</td>\n",
       "      <td>cleared by arrest</td>\n",
       "      <td>2022-01-03</td>\n",
       "      <td>True</td>\n",
       "      <td>0 days 00:00:00</td>\n",
       "    </tr>\n",
       "    <tr>\n",
       "      <th>34574</th>\n",
       "      <td>THEFT</td>\n",
       "      <td>N</td>\n",
       "      <td>2021-12-31 23:50:00</td>\n",
       "      <td>2021-12-31</td>\n",
       "      <td>2022-01-07 14:12:00</td>\n",
       "      <td>2022-01-07</td>\n",
       "      <td>OTHER / UNKNOWN</td>\n",
       "      <td>6936 E BEN WHITE BLVD SVRD WB</td>\n",
       "      <td>78741.0</td>\n",
       "      <td>3.0</td>\n",
       "      <td>HE</td>\n",
       "      <td>5</td>\n",
       "      <td>30.215264</td>\n",
       "      <td>-97.703019</td>\n",
       "      <td>not cleared</td>\n",
       "      <td>2022-01-10</td>\n",
       "      <td>False</td>\n",
       "      <td>6 days 14:22:00</td>\n",
       "    </tr>\n",
       "    <tr>\n",
       "      <th>34575</th>\n",
       "      <td>PUBLIC INTOXICATION</td>\n",
       "      <td>N</td>\n",
       "      <td>2021-12-31 23:50:00</td>\n",
       "      <td>2021-12-31</td>\n",
       "      <td>2021-12-31 23:50:00</td>\n",
       "      <td>2021-12-31</td>\n",
       "      <td>HWY / ROAD / ALLEY/ STREET/ SIDEWALK</td>\n",
       "      <td>406 E 6TH ST</td>\n",
       "      <td>78701.0</td>\n",
       "      <td>9.0</td>\n",
       "      <td>GE</td>\n",
       "      <td>2</td>\n",
       "      <td>30.267300</td>\n",
       "      <td>-97.738857</td>\n",
       "      <td>cleared by arrest</td>\n",
       "      <td>2021-12-31</td>\n",
       "      <td>True</td>\n",
       "      <td>0 days 00:00:00</td>\n",
       "    </tr>\n",
       "    <tr>\n",
       "      <th>34576</th>\n",
       "      <td>DOC DISCHARGE GUN - PUB PLACE</td>\n",
       "      <td>N</td>\n",
       "      <td>2021-12-31 23:47:00</td>\n",
       "      <td>2021-12-31</td>\n",
       "      <td>2021-12-31 23:47:00</td>\n",
       "      <td>2021-12-31</td>\n",
       "      <td>RESIDENCE / HOME</td>\n",
       "      <td>1202 E ST JOHNS AVE</td>\n",
       "      <td>78752.0</td>\n",
       "      <td>4.0</td>\n",
       "      <td>ID</td>\n",
       "      <td>1</td>\n",
       "      <td>30.328049</td>\n",
       "      <td>-97.693683</td>\n",
       "      <td>not cleared</td>\n",
       "      <td>2022-01-05</td>\n",
       "      <td>False</td>\n",
       "      <td>0 days 00:00:00</td>\n",
       "    </tr>\n",
       "    <tr>\n",
       "      <th>34577</th>\n",
       "      <td>AGG ASLT STRANGLE/SUFFOCATE</td>\n",
       "      <td>Y</td>\n",
       "      <td>2021-12-31 23:40:00</td>\n",
       "      <td>2021-12-31</td>\n",
       "      <td>2022-01-01 00:44:00</td>\n",
       "      <td>2022-01-01</td>\n",
       "      <td>RESIDENCE / HOME</td>\n",
       "      <td>10000 N LAMAR BLVD</td>\n",
       "      <td>78758.0</td>\n",
       "      <td>4.0</td>\n",
       "      <td>ED</td>\n",
       "      <td>1</td>\n",
       "      <td>30.369262</td>\n",
       "      <td>-97.695105</td>\n",
       "      <td>not cleared</td>\n",
       "      <td>2022-01-05</td>\n",
       "      <td>False</td>\n",
       "      <td>0 days 01:04:00</td>\n",
       "    </tr>\n",
       "  </tbody>\n",
       "</table>\n",
       "</div>"
      ],
      "text/plain": [
       "                          crime_type family_violence     occurrence_time  \\\n",
       "34573      ASSAULT ON PUBLIC SERVANT               N 2021-12-31 23:50:00   \n",
       "34574                          THEFT               N 2021-12-31 23:50:00   \n",
       "34575            PUBLIC INTOXICATION               N 2021-12-31 23:50:00   \n",
       "34576  DOC DISCHARGE GUN - PUB PLACE               N 2021-12-31 23:47:00   \n",
       "34577    AGG ASLT STRANGLE/SUFFOCATE               Y 2021-12-31 23:40:00   \n",
       "\n",
       "      occurrence_date         report_time report_date  \\\n",
       "34573      2021-12-31 2021-12-31 23:50:00  2021-12-31   \n",
       "34574      2021-12-31 2022-01-07 14:12:00  2022-01-07   \n",
       "34575      2021-12-31 2021-12-31 23:50:00  2021-12-31   \n",
       "34576      2021-12-31 2021-12-31 23:47:00  2021-12-31   \n",
       "34577      2021-12-31 2022-01-01 00:44:00  2022-01-01   \n",
       "\n",
       "                              location_type                        address  \\\n",
       "34573          COMMERCIAL / OFFICE BUILDING               111 CONGRESS AVE   \n",
       "34574                       OTHER / UNKNOWN  6936 E BEN WHITE BLVD SVRD WB   \n",
       "34575  HWY / ROAD / ALLEY/ STREET/ SIDEWALK                   406 E 6TH ST   \n",
       "34576                      RESIDENCE / HOME            1202 E ST JOHNS AVE   \n",
       "34577                      RESIDENCE / HOME             10000 N LAMAR BLVD   \n",
       "\n",
       "       zip_code  council_district sector district   latitude  longitude  \\\n",
       "34573   78701.0               9.0     GE        3  30.263739 -97.743651   \n",
       "34574   78741.0               3.0     HE        5  30.215264 -97.703019   \n",
       "34575   78701.0               9.0     GE        2  30.267300 -97.738857   \n",
       "34576   78752.0               4.0     ID        1  30.328049 -97.693683   \n",
       "34577   78758.0               4.0     ED        1  30.369262 -97.695105   \n",
       "\n",
       "        clearance_status clearance_date  cleared  time_to_report  \n",
       "34573  cleared by arrest     2022-01-03     True 0 days 00:00:00  \n",
       "34574        not cleared     2022-01-10    False 6 days 14:22:00  \n",
       "34575  cleared by arrest     2021-12-31     True 0 days 00:00:00  \n",
       "34576        not cleared     2022-01-05    False 0 days 00:00:00  \n",
       "34577        not cleared     2022-01-05    False 0 days 01:04:00  "
      ]
     },
     "execution_count": 15,
     "metadata": {},
     "output_type": "execute_result"
    }
   ],
   "source": [
    "df = wrangle_crime_data(drop_cleared_by_exception=True)\n",
    "df.head()"
   ]
  },
  {
   "cell_type": "code",
   "execution_count": 16,
   "id": "e5ffea59-e404-4827-9534-01cf8eaf7d98",
   "metadata": {},
   "outputs": [
    {
     "data": {
      "text/plain": [
       "not cleared          275577\n",
       "cleared by arrest     72431\n",
       "Name: clearance_status, dtype: int64"
      ]
     },
     "execution_count": 16,
     "metadata": {},
     "output_type": "execute_result"
    }
   ],
   "source": [
    "df.clearance_status.value_counts()"
   ]
  },
  {
   "cell_type": "code",
   "execution_count": null,
   "id": "4c6fc967-2ddb-4970-b148-801d50c9ed94",
   "metadata": {},
   "outputs": [],
   "source": []
  }
 ],
 "metadata": {
  "kernelspec": {
   "display_name": "Python 3 (ipykernel)",
   "language": "python",
   "name": "python3"
  },
  "language_info": {
   "codemirror_mode": {
    "name": "ipython",
    "version": 3
   },
   "file_extension": ".py",
   "mimetype": "text/x-python",
   "name": "python",
   "nbconvert_exporter": "python",
   "pygments_lexer": "ipython3",
   "version": "3.9.7"
  }
 },
 "nbformat": 4,
 "nbformat_minor": 5
}
